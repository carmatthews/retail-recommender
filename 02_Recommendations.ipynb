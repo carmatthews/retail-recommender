{
  "cells": [
    {
      "cell_type": "markdown",
      "metadata": {
        "nteract": {
          "transient": {
            "deleting": false
          }
        }
      },
      "source": [
        "# Setup Intelligent Recommendations Service\n",
        "\n",
        "Intelligent Recommendations is a general purpose service that offers patented capabilities to more effectively drive desired outcomes out of the box such as “shop similar looks,” “shop by description,” “real time,” “session based”, Item based recommendations that can combine User interactions and Item Metadata. Businesses can promote and personalize any content type, such as sellable products, consumable media, documents, videos, and more.\n",
        "\n",
        "Learn more at [Explore Intelligent Recommendations](https://intelligent-recommendations.microsoft.com/).\n"
      ]
    },
    {
      "cell_type": "markdown",
      "metadata": {
        "nteract": {
          "transient": {
            "deleting": false
          }
        }
      },
      "source": [
        "## 1. Create & Configure Intelligent Recommendations"
      ]
    },
    {
      "cell_type": "markdown",
      "metadata": {
        "nteract": {
          "transient": {
            "deleting": false
          }
        }
      },
      "source": [
        "You are now ready to setup the Intelligent Recommendation Service!\n",
        "\n",
        "**1.1 Create Service Account**\n",
        "\n",
        "Follow steps 1-5 in [Create the service account](https://docs.microsoft.com/en-us/industry/retail/intelligent-recommendations/deploy-intelligent-recommendations-account#create-the-service-account).  You will leave the \"Reports Connection String\" blank at this point, we will configure it in the next step once the resource is created.\n",
        "\n",
        "**TIP:** Do add your tenant and user id as described in the Note on Step 4!\n",
        "\n",
        "**1.2. Configure Logging**\n",
        "\n",
        "Configure logging using the folder you created in your Azure Storage Container for logs by following the instructions [here](https://docs.microsoft.com/en-us/industry/retail/intelligent-recommendations/setup-error-logging#configure-the-reports-feature).  Note you will link to your folder, not the root.\n",
        "\n",
        "**TIP:** For our example, the connection string should be similar to (replace *your_storage_account* with your account name): \n",
        "&nbsp;&nbsp;&nbsp;&nbsp;*https://your_storage_account.blob.core.windows.net/ircontainer/irlogs*  \n",
        "\n",
        "**1.3. Add Modeling & Serving Components**\n",
        "\n",
        "Then complete all the steps in the [Add modeling and serving components](https://docs.microsoft.com/en-us/industry/retail/intelligent-recommendations/deploy-intelligent-recommendations-account#add-modeling-and-serving-components) section.\n",
        "\n",
        "**TIP:** For the serving component, you can select the minimum number of requests per second (1) for the \"Pre-allocated Capacity\" to work through this example.\n",
        "\n",
        "**TIP:** When you create the Modeling component there is an option to select \"Feature Set\".  We show examples of using the \"Premium\" features in this notebook, but if you want to maintain a free/lower tier cost for the service, you can select \"Basic\" or \"Standard\". \n",
        "\n",
        "\n",
        "Once the modeling component is deployed, it will automatically initiate the cooking process that processes the data and creates the recommendations.  This may take anywhere from a few minutes to a few hours.  The best way to monitor progress is to watch for files to be written to the logging folder (e.g. ir_logs in this example).\n",
        "\n",
        "When the cooking process completes you can view the results at the [Results Explorer Portal](https://docs.microsoft.com/en-us/industry/retail/intelligent-recommendations/results-explorer#step-2-view-results).   Until the process is complete though, you will not see any results when you \"Execute Request\".\n",
        "\n",
        "While IR processes, continue with the next steps so you can authenticate and make API calls to the service once it's complete.\n"
      ]
    },
    {
      "cell_type": "markdown",
      "metadata": {
        "nteract": {
          "transient": {
            "deleting": false
          }
        }
      },
      "source": [
        "## 2. Create Client Application & Configure Authentication"
      ]
    },
    {
      "cell_type": "markdown",
      "metadata": {
        "nteract": {
          "transient": {
            "deleting": false
          }
        }
      },
      "source": [
        "Intelligent Recommendations requires an OAuth2 authentication. Determine (or create) the Active Directory application from which to call the service endpoint with authentication. Any unauthenticated calls will fail with an error.  \n",
        "\n",
        "To establish this, complete the tasks in [Step 2: Setup Client Application](https://docs.microsoft.com/en-us/industry/retail/intelligent-recommendations/quickstart-endpoint#step-2-set-up-a-client-application).\n",
        "\n",
        "You can use either a secret or a certificate for authentication, for this example we'll create a secret.  Make sure to note the value for the Client Secret when you create it as we will need it to configure the connections we use in this notebook.\n",
        "\n",
        "From the application you registered in the previous step, continue with [Step 3: Configure Authentication](https://docs.microsoft.com/en-us/industry/retail/intelligent-recommendations/quickstart-endpoint#step-3-configure-authentication).  \n",
        "\n",
        "\n",
        "**TIP:** Make sure to note the \"Value\" for your Client Secret in the previous step as you can't access it after you create it.  If you lose it, add a new client Secret and note the Value before navigating from the page.\n",
        "\n",
        "You can stop once you get to the \"Construct API Request\" step as we will do this in this Notebook.\n",
        "\n",
        "\n"
      ]
    },
    {
      "cell_type": "markdown",
      "metadata": {
        "nteract": {
          "transient": {
            "deleting": false
          }
        }
      },
      "source": [
        "## 3. (Optional) Configure CORS\n",
        "\n",
        "While this is not required for this example solution accelerator, if you wanted to use a web application in another domain to access the Intelligent Recommendations service, you could configure Cross-Origin Resource Sharing.\n",
        "\n",
        "Instructions provided [here](https://docs.microsoft.com/en-us/industry/retail/intelligent-recommendations/deploy-intelligent-recommendations-account#configure-cors-optional)."
      ]
    },
    {
      "cell_type": "markdown",
      "metadata": {
        "nteract": {
          "transient": {
            "deleting": false
          }
        }
      },
      "source": [
        "# Setup & Configuration"
      ]
    },
    {
      "cell_type": "code",
      "execution_count": null,
      "metadata": {
        "jupyter": {
          "outputs_hidden": false,
          "source_hidden": false
        },
        "nteract": {
          "transient": {
            "deleting": false
          }
        },
        "vscode": {
          "languageId": "python"
        }
      },
      "outputs": [],
      "source": [
        "import requests\n",
        "import json\n",
        "import base64\n",
        "import pandas as pd"
      ]
    },
    {
      "cell_type": "markdown",
      "metadata": {
        "nteract": {
          "transient": {
            "deleting": false
          }
        }
      },
      "source": [
        "The following fields should be completed based on the Intelligent Recommendations account and the Client Application setup from the Preqrequisites."
      ]
    },
    {
      "cell_type": "code",
      "execution_count": null,
      "metadata": {
        "jupyter": {
          "outputs_hidden": false,
          "source_hidden": false
        },
        "nteract": {
          "transient": {
            "deleting": false
          }
        },
        "vscode": {
          "languageId": "python"
        }
      },
      "outputs": [],
      "source": [
        "ir_base_uri = 'Your_IR_Service_Endpoint'  #the Url from the overview page for the Service Endpoint in the IR account (Step 1 above)\n",
        "model = 'Your_Model_Name'  #the name of the modeling component in your IR account\n",
        "\n",
        "client_id = 'Your_Client_ID'  #the application client id you created in Step 2 of the setup.\n",
        "client_secret = 'Your_Client_Secret_Value' #from step 2 above.\n",
        "\n",
        "auth_server_url = \"https://login.microsoftonline.com/72f988bf-86f1-41af-91ab-2d7cd011db47/oauth2/v2.0/token\"\n",
        "scope = 'c5b731db-1b0a-43f6-bcf6-757667d9cdc6/.default'"
      ]
    },
    {
      "cell_type": "code",
      "execution_count": null,
      "metadata": {
        "jupyter": {
          "outputs_hidden": false,
          "source_hidden": false
        },
        "nteract": {
          "transient": {
            "deleting": false
          }
        },
        "vscode": {
          "languageId": "python"
        }
      },
      "outputs": [],
      "source": [
        "# Encode the client ID and client secret\n",
        "authorization = base64.b64encode(bytes(client_id + \":\" + client_secret, \"ISO-8859-1\")).decode(\"ascii\")\n",
        "\n",
        "headers = {\n",
        "    \"Authorization\": f\"Basic {authorization}\",\n",
        "    \"Content-Type\": \"application/x-www-form-urlencoded\"\n",
        "}\n",
        "body = {\n",
        "    \"grant_type\": \"client_credentials\", \"scope\" : scope\n",
        "}\n",
        "\n",
        "response = requests.post(auth_server_url, data=body, headers=headers)\n",
        "#print(response.text)\n",
        "\n",
        "\n",
        "tokens = json.loads(response.text)\n",
        "token = tokens['access_token']\n",
        "#print(token)"
      ]
    },
    {
      "cell_type": "markdown",
      "metadata": {
        "nteract": {
          "transient": {
            "deleting": false
          }
        }
      },
      "source": [
        "Make a test call to the service to confirm connectivity; this should return a set of \"popular\" items."
      ]
    },
    {
      "cell_type": "markdown",
      "metadata": {},
      "source": [
        "## Test API Call to IR Service"
      ]
    },
    {
      "cell_type": "code",
      "execution_count": null,
      "metadata": {
        "jupyter": {
          "outputs_hidden": false,
          "source_hidden": false
        },
        "nteract": {
          "transient": {
            "deleting": false
          }
        },
        "vscode": {
          "languageId": "python"
        }
      },
      "outputs": [],
      "source": [
        "ir_popular_items = ir_base_uri + '/reco/v1.0/popular?modeling={}'.format(model)\n",
        "\n",
        "api_call_headers = {'Authorization': 'Bearer ' + token}\n",
        "api_call_response = requests.get(ir_popular_items, headers=api_call_headers)\n",
        "\n",
        "print(api_call_response.text)"
      ]
    },
    {
      "cell_type": "markdown",
      "metadata": {},
      "source": [
        "If the processing has completed, you will get a list of popular items that should look similar to:\n",
        "\n",
        "```console\n",
        "{\"status\":\"Success\",\"version\":null}\n",
        "{\"error\":{\"code\":\"TooManyRequests\",\"message\":\"Too many requests\"}}\n",
        "{\"id\":\"Lists\",\"name\":\"Lists\",\"version\":\"v1.0\",\"interactionsVersion\":\"20220713231250\",\"items\":[{\"id\":\"165\",\"trackingId\":\"00000000-0000-0000-0000-000000000003\"},{\"id\":\"103\",\"trackingId\":\"00000000-0000-0000-0000-000000000003\"},{\"id\":\"123\",\"trackingId\":\"00000000-0000-0000-0000-000000000003\"},\n",
        "...\n",
        "{\"id\":\"41\",\"trackingId\":\"00000000-0000-0000-0000-000000000003\"}],\"title\":\"Popular\",\"longTitle\":\"Popular\",\"titleId\":5,\"pagingInfo\":{\"totalItems\":167},\"status\":\"Success\"}\n",
        "\n",
        "```"
      ]
    },
    {
      "cell_type": "markdown",
      "metadata": {},
      "source": [
        "If instead, you get the following message:\n",
        "\n",
        "```console\n",
        "{\"error\":{\"code\":\"ServiceUnavailable\",\"message\":\"Service is unavailable\"}}\n",
        "```\n",
        "\n",
        "Your Intelligent Recommendations Service is likely still processing the data.  You can continue to wait, and monitor the logs by watching for files to be written to the logging folder (e.g. ir_logs in this example).  \n",
        "\n",
        "Or, you can manually trigger the cooking process by running the following cell."
      ]
    },
    {
      "cell_type": "markdown",
      "metadata": {},
      "source": [
        "## (Optional) Trigger Modeling Manually"
      ]
    },
    {
      "cell_type": "code",
      "execution_count": null,
      "metadata": {
        "vscode": {
          "languageId": "python"
        }
      },
      "outputs": [],
      "source": [
        "ir_trigger_model = ir_base_uri + '/Control/V1.0/Model?modeling={}'.format(model)\n",
        "\n",
        "api_call_headers = {'Authorization': 'Bearer ' + token}\n",
        "api_call_response = requests.post(ir_trigger_model, headers=api_call_headers)\n",
        "\n",
        "print(api_call_response.text)"
      ]
    },
    {
      "cell_type": "markdown",
      "metadata": {},
      "source": [
        "If the IR cooking process wasn't already running, you will get the message:\n",
        "\n",
        "```console\n",
        "{\"status\":\"Success\",\"version\":null}\n",
        "```\n",
        "\n",
        "\n",
        "\n",
        "If the process was already running (or if you repeat/run again) you will get the message:\n",
        "\n",
        "```console\n",
        "{\"error\":{\"code\":\"TooManyRequests\",\"message\":\"Too many requests\"}}\n",
        "```\n",
        "\n",
        "As you can only trigger modeling once in a 24 hour period."
      ]
    },
    {
      "cell_type": "markdown",
      "metadata": {},
      "source": [
        "The service will take some time to complete the process, check back every 10 minutes and re-run \"Test API Call to IR Service\" (above) until you get a list of popular items."
      ]
    },
    {
      "cell_type": "markdown",
      "metadata": {
        "nteract": {
          "transient": {
            "deleting": false
          }
        }
      },
      "source": [
        "# Load Product Catalog and Orders Data\n",
        "\n",
        "Once the IR Service has completed processing and you are able to view the list of popular items when you test the API call, proceed with the next steps."
      ]
    },
    {
      "cell_type": "markdown",
      "metadata": {
        "nteract": {
          "transient": {
            "deleting": false
          }
        }
      },
      "source": [
        "## Product Catalog"
      ]
    },
    {
      "cell_type": "markdown",
      "metadata": {
        "nteract": {
          "transient": {
            "deleting": false
          }
        }
      },
      "source": [
        "We are bringing in the original data (formatted in the 01_Data_Preparation notebook) to help us interpret the results from the Intelligent Recommendation system."
      ]
    },
    {
      "cell_type": "code",
      "execution_count": null,
      "metadata": {
        "jupyter": {
          "outputs_hidden": false,
          "source_hidden": false
        },
        "nteract": {
          "transient": {
            "deleting": false
          }
        },
        "vscode": {
          "languageId": "python"
        }
      },
      "outputs": [],
      "source": [
        "products_df=pd.read_csv('data/products.csv')\n",
        "print(products_df.shape)\n",
        "products_df.head()"
      ]
    },
    {
      "cell_type": "markdown",
      "metadata": {
        "nteract": {
          "transient": {
            "deleting": false
          }
        }
      },
      "source": [
        "## Orders (Interactions)"
      ]
    },
    {
      "cell_type": "code",
      "execution_count": null,
      "metadata": {
        "jupyter": {
          "outputs_hidden": false,
          "source_hidden": false
        },
        "nteract": {
          "transient": {
            "deleting": false
          }
        },
        "vscode": {
          "languageId": "python"
        }
      },
      "outputs": [],
      "source": [
        "orders_df =pd.read_csv('data/orders.csv')\n",
        "print(orders_df.shape)\n",
        "orders_df.head()"
      ]
    },
    {
      "cell_type": "markdown",
      "metadata": {
        "nteract": {
          "transient": {
            "deleting": false
          }
        }
      },
      "source": [
        "# Recommendation Functions"
      ]
    },
    {
      "cell_type": "markdown",
      "metadata": {
        "nteract": {
          "transient": {
            "deleting": false
          }
        }
      },
      "source": [
        "## API Calls for Recommendations"
      ]
    },
    {
      "cell_type": "markdown",
      "metadata": {
        "nteract": {
          "transient": {
            "deleting": false
          }
        }
      },
      "source": [
        "The following function constructs the API calls for the different types of recommendations available in the service."
      ]
    },
    {
      "cell_type": "code",
      "execution_count": null,
      "metadata": {
        "jupyter": {
          "outputs_hidden": false,
          "source_hidden": false
        },
        "nteract": {
          "transient": {
            "deleting": false
          }
        },
        "vscode": {
          "languageId": "python"
        }
      },
      "outputs": [],
      "source": [
        "def recommendation_uri_builder(base_uri, command, model, seed_item = 0, seed_user = 0, return_count = 100, seed_items_list = '', skip_count = 0):\n",
        "\n",
        "    #as of July 2022, this is the API path\n",
        "    ir_path = '/reco/v1.0/'\n",
        "\n",
        "    \n",
        "    if command == 'similar':  #FOR FUTURE: algo type for similar are Visual, Textual: '/reco/v1.0/similar/{}?AlgoType=Textual&modeling={}&count={}'.format(seed_item, model, return_count)\n",
        "        uri = ir_base_uri + ir_path + 'similar/{}?modeling={}&count={}'.format(seed_item, model, return_count)\n",
        "    elif command == 'popular':\n",
        "        uri = ir_base_uri + ir_path + 'popular?modeling={}&count={}'.format(model, return_count)\n",
        "    elif command == 'new':\n",
        "        uri = ir_base_uri + ir_path + 'new?modeling={}&count={}'.format(model, return_count)\n",
        "    elif command == 'trending':\n",
        "        uri = ir_base_uri + ir_path + 'trending?modeling={}&count={}'.format(model, return_count)\n",
        "    elif command == 'picks':\n",
        "        #algo types for user picks is only RecentPurchases\n",
        "        uri = ir_base_uri + ir_path + 'picks?AlgoType=RecentPurchases&modeling={}&userId={}&count={}'.format(model, seed_user, return_count)\n",
        "    elif command == 'fbt':\n",
        "        uri = ir_base_uri + ir_path + 'cart/{}?modeling={}&count={}'.format(seed_item, model, return_count)\n",
        "     elif command == 'cart':\n",
        "        uri = ir_base_uri + ir_path + 'cart/items?seedItemIds={}&modeling={}&count={}&skipItems={}&userId={}'.format(seed_items_list, model, return_count, skip_count, seed_user)\n",
        "    else:\n",
        "        print(\"No URI could be formed\")\n",
        "\n",
        "\n",
        "    return uri"
      ]
    },
    {
      "cell_type": "code",
      "execution_count": null,
      "metadata": {
        "jupyter": {
          "outputs_hidden": false,
          "source_hidden": false
        },
        "nteract": {
          "transient": {
            "deleting": false
          }
        },
        "vscode": {
          "languageId": "python"
        }
      },
      "outputs": [],
      "source": [
        "def return_recommended_items(uri, token):\n",
        "    api_call_headers = {'Authorization': 'Bearer ' + token}\n",
        "    api_call_response = requests.get(uri, headers=api_call_headers)  \n",
        "\n",
        "    rec_items = pd.json_normalize(json.loads(api_call_response.text)['items'])['id']\n",
        "\n",
        "    return rec_items\n"
      ]
    },
    {
      "cell_type": "markdown",
      "metadata": {
        "nteract": {
          "transient": {
            "deleting": false
          }
        }
      },
      "source": [
        "# Top Charts"
      ]
    },
    {
      "cell_type": "markdown",
      "metadata": {
        "nteract": {
          "transient": {
            "deleting": false
          }
        }
      },
      "source": [
        "## Popular Items\n",
        "\n",
        "The most popular items from the catalog are ranked by the number of interactions over a period of time.  We request the 25 most popular items then review the descriptions in our product catalog.  "
      ]
    },
    {
      "cell_type": "code",
      "execution_count": null,
      "metadata": {
        "jupyter": {
          "outputs_hidden": false,
          "source_hidden": false
        },
        "nteract": {
          "transient": {
            "deleting": false
          }
        },
        "vscode": {
          "languageId": "python"
        }
      },
      "outputs": [],
      "source": [
        "popular_uri = recommendation_uri_builder(ir_base_uri, 'popular', model, return_count=25)\n",
        "popular_items = return_recommended_items(popular_uri, token)"
      ]
    },
    {
      "cell_type": "code",
      "execution_count": null,
      "metadata": {
        "jupyter": {
          "outputs_hidden": false,
          "source_hidden": false
        },
        "nteract": {
          "transient": {
            "deleting": false
          }
        },
        "vscode": {
          "languageId": "python"
        }
      },
      "outputs": [],
      "source": [
        "print(\"Most Popular Items\")\n",
        "products_df[products_df['itemId'].isin(popular_items)]"
      ]
    },
    {
      "cell_type": "code",
      "execution_count": null,
      "metadata": {
        "jupyter": {
          "outputs_hidden": false,
          "source_hidden": false
        },
        "nteract": {
          "transient": {
            "deleting": false
          }
        },
        "vscode": {
          "languageId": "python"
        }
      },
      "outputs": [],
      "source": [
        "# See the count of orders (baskets) that contain the popular items\n",
        "popular_baskets_df = orders_df[orders_df['itemId'].isin(popular_items)][['itemDescription', 'basketId']].groupby('itemDescription').count()\n",
        "popular_baskets_df.reset_index(inplace=True)\n",
        "popular_baskets_df.columns = ['itemDescription', 'countOfOrders']\n",
        "popular_baskets_df.sort_values(by=['countOfOrders'], ascending=False)"
      ]
    },
    {
      "cell_type": "markdown",
      "metadata": {
        "nteract": {
          "transient": {
            "deleting": false
          }
        }
      },
      "source": [
        "## Trending Items\n",
        "\n",
        "Returns the catalog items ranked by popularity, giving newer events more weight than older ones. Popularity is scored over a configurable period of time."
      ]
    },
    {
      "cell_type": "code",
      "execution_count": null,
      "metadata": {
        "jupyter": {
          "outputs_hidden": false,
          "source_hidden": false
        },
        "nteract": {
          "transient": {
            "deleting": false
          }
        },
        "vscode": {
          "languageId": "python"
        }
      },
      "outputs": [],
      "source": [
        "trending_uri = recommendation_uri_builder(ir_base_uri, 'trending', model, return_count=10)\n",
        "trending_items = return_recommended_items(trending_uri, token)"
      ]
    },
    {
      "cell_type": "code",
      "execution_count": null,
      "metadata": {
        "jupyter": {
          "outputs_hidden": false,
          "source_hidden": false
        },
        "nteract": {
          "transient": {
            "deleting": false
          }
        },
        "vscode": {
          "languageId": "python"
        }
      },
      "outputs": [],
      "source": [
        "print(\"Trending Items\")\n",
        "products_df[products_df['itemId'].isin(trending_items)]"
      ]
    },
    {
      "cell_type": "markdown",
      "metadata": {
        "nteract": {
          "transient": {
            "deleting": false
          }
        }
      },
      "source": [
        "## New Items\n",
        "\n",
        "Returns the catalog items ranked by release date, newest first.\n",
        "\n"
      ]
    },
    {
      "cell_type": "code",
      "execution_count": null,
      "metadata": {
        "jupyter": {
          "outputs_hidden": false,
          "source_hidden": false
        },
        "nteract": {
          "transient": {
            "deleting": false
          }
        },
        "vscode": {
          "languageId": "python"
        }
      },
      "outputs": [],
      "source": [
        "new_uri = recommendation_uri_builder(ir_base_uri, 'new', model, return_count=15)\n",
        "new_items = return_recommended_items(new_uri, token)"
      ]
    },
    {
      "cell_type": "code",
      "execution_count": null,
      "metadata": {
        "jupyter": {
          "outputs_hidden": false,
          "source_hidden": false
        },
        "nteract": {
          "transient": {
            "deleting": false
          }
        },
        "vscode": {
          "languageId": "python"
        }
      },
      "outputs": [],
      "source": [
        "products_df[products_df['itemId'].isin(new_items)]"
      ]
    },
    {
      "cell_type": "markdown",
      "metadata": {
        "nteract": {
          "transient": {
            "deleting": false
          }
        }
      },
      "source": [
        "# Item-to-Item Recommendations"
      ]
    },
    {
      "cell_type": "markdown",
      "metadata": {
        "nteract": {
          "transient": {
            "deleting": false
          }
        }
      },
      "source": [
        "## Cart Recommendations\n",
        "\n",
        "Similar to frequently bought together, but instead of a single item, can provide a list of items.\n",
        "\n"
      ]
    },
    {
      "cell_type": "code",
      "execution_count": null,
      "metadata": {
        "jupyter": {
          "outputs_hidden": false,
          "source_hidden": false
        },
        "nteract": {
          "transient": {
            "deleting": false
          }
        },
        "vscode": {
          "languageId": "python"
        }
      },
      "outputs": [],
      "source": [
        "# NOTE: no spaces in the string of item ids \n",
        "baking_items = '16,37,50'  #butter, cooking chocolate, eggs\n",
        "item_count = 5\n",
        "\n",
        "cart_picks_uri = recommendation_uri_builder(ir_base_uri, 'cart', model, seed_items_list = baking_items, return_count = item_count)\n",
        "cart_pick_items = return_recommended_items(cart_picks_uri, token)"
      ]
    },
    {
      "cell_type": "code",
      "execution_count": null,
      "metadata": {
        "jupyter": {
          "outputs_hidden": false,
          "source_hidden": false
        },
        "nteract": {
          "transient": {
            "deleting": false
          }
        },
        "vscode": {
          "languageId": "python"
        }
      },
      "outputs": [],
      "source": [
        "# The seed items \n",
        "int_list = [int(s) for s in baking_items.split(',')]\n",
        "products_df[products_df['itemId'].isin(int_list)]"
      ]
    },
    {
      "cell_type": "code",
      "execution_count": null,
      "metadata": {
        "jupyter": {
          "outputs_hidden": false,
          "source_hidden": false
        },
        "nteract": {
          "transient": {
            "deleting": false
          }
        },
        "vscode": {
          "languageId": "python"
        }
      },
      "outputs": [],
      "source": [
        "#Recommendations\n",
        "products_df[products_df['itemId'].isin(cart_pick_items)]"
      ]
    },
    {
      "cell_type": "markdown",
      "metadata": {
        "nteract": {
          "transient": {
            "deleting": false
          }
        }
      },
      "source": [
        "## (Optional) Similar Items\n",
        "\n",
        "Returns a list of item-to-item recommendations. Recommended items can be similar to the seed item or related in some way, based on the way data is structured and the algorithm.  \n",
        "\n",
        "**Note:** This option is only available if you selected the \"Premium\" feature set for your modeling component.\n",
        "\n",
        "Because we only have have product titles in the example dataset, these results are likely not as meaningful as they would be if we had a textual description (or images) available.  "
      ]
    },
    {
      "cell_type": "code",
      "execution_count": null,
      "metadata": {
        "jupyter": {
          "outputs_hidden": false,
          "source_hidden": false
        },
        "nteract": {
          "transient": {
            "deleting": false
          }
        },
        "vscode": {
          "languageId": "python"
        }
      },
      "outputs": [],
      "source": [
        "similar_seed_id = 42  # curd cheese\n",
        "item_count = 10\n",
        "\n",
        "similar_uri = recommendation_uri_builder(ir_base_uri, 'similar', model, seed_item = similar_seed_id, return_count = item_count)\n",
        "similar_items = return_recommended_items(similar_uri, token)"
      ]
    },
    {
      "cell_type": "code",
      "execution_count": null,
      "metadata": {
        "jupyter": {
          "outputs_hidden": false,
          "source_hidden": false
        },
        "nteract": {
          "transient": {
            "deleting": false
          }
        },
        "vscode": {
          "languageId": "python"
        }
      },
      "outputs": [],
      "source": [
        "print(\"Original item\")\n",
        "products_df[products_df['itemId']==similar_seed_id]"
      ]
    },
    {
      "cell_type": "code",
      "execution_count": null,
      "metadata": {
        "jupyter": {
          "outputs_hidden": false,
          "source_hidden": false
        },
        "nteract": {
          "transient": {
            "deleting": false
          }
        },
        "vscode": {
          "languageId": "python"
        }
      },
      "outputs": [],
      "source": [
        "products_df[products_df['itemId'].isin(similar_items)]"
      ]
    },
    {
      "cell_type": "markdown",
      "metadata": {
        "nteract": {
          "transient": {
            "deleting": false
          }
        }
      },
      "source": [
        "## (Optional) Frequently Bought Together\n",
        "\n",
        "Returns items that are frequently bought along with the seed item.\n",
        "\n",
        "**NOTE:** This option is only available if you select the \"Premium\" feature set for your modeling component.\n"
      ]
    },
    {
      "cell_type": "code",
      "execution_count": null,
      "metadata": {
        "jupyter": {
          "outputs_hidden": false,
          "source_hidden": false
        },
        "nteract": {
          "transient": {
            "deleting": false
          }
        },
        "vscode": {
          "languageId": "python"
        }
      },
      "outputs": [],
      "source": [
        "item_seed_id = 21  # butter = 16, canned beer 21\n",
        "item_count = 10\n",
        "\n",
        "fbt_picks_uri = recommendation_uri_builder(ir_base_uri, 'fbt', model, seed_item = item_seed_id, return_count = item_count)\n",
        "fbt_pick_items = return_recommended_items(fbt_picks_uri, token)"
      ]
    },
    {
      "cell_type": "code",
      "execution_count": null,
      "metadata": {
        "jupyter": {
          "outputs_hidden": false,
          "source_hidden": false
        },
        "nteract": {
          "transient": {
            "deleting": false
          }
        },
        "vscode": {
          "languageId": "python"
        }
      },
      "outputs": [],
      "source": [
        "print(\"Original item\")\n",
        "products_df[products_df['itemId']==item_seed_id]"
      ]
    },
    {
      "cell_type": "code",
      "execution_count": null,
      "metadata": {
        "jupyter": {
          "outputs_hidden": false,
          "source_hidden": false
        },
        "nteract": {
          "transient": {
            "deleting": false
          }
        },
        "vscode": {
          "languageId": "python"
        }
      },
      "outputs": [],
      "source": [
        "products_df[products_df['itemId'].isin(fbt_pick_items)]"
      ]
    },
    {
      "cell_type": "markdown",
      "metadata": {
        "nteract": {
          "transient": {
            "deleting": false
          }
        }
      },
      "source": [
        "The following shows the difference between 1 item (Cart) and multiple items (Frequently Bought Together)."
      ]
    },
    {
      "cell_type": "code",
      "execution_count": null,
      "metadata": {
        "jupyter": {
          "outputs_hidden": false,
          "source_hidden": false
        },
        "nteract": {
          "transient": {
            "deleting": false
          }
        },
        "vscode": {
          "languageId": "python"
        }
      },
      "outputs": [],
      "source": [
        "party_items =  '129'  #12 beer, 129 salty snack, 162 whisky\n",
        "\n",
        "cart_picks_uri = recommendation_uri_builder(ir_base_uri, 'cart', model, seed_items_list = party_items, return_count = item_count)\n",
        "cart_pick_items = return_recommended_items(cart_picks_uri, token)"
      ]
    },
    {
      "cell_type": "code",
      "execution_count": null,
      "metadata": {
        "jupyter": {
          "outputs_hidden": false,
          "source_hidden": false
        },
        "nteract": {
          "transient": {
            "deleting": false
          }
        },
        "vscode": {
          "languageId": "python"
        }
      },
      "outputs": [],
      "source": [
        "# The seed items \n",
        "int_list = [int(s) for s in party_items.split(',')]\n",
        "products_df[products_df['itemId'].isin(int_list)]"
      ]
    },
    {
      "cell_type": "code",
      "execution_count": null,
      "metadata": {
        "jupyter": {
          "outputs_hidden": false,
          "source_hidden": false
        },
        "nteract": {
          "transient": {
            "deleting": false
          }
        },
        "vscode": {
          "languageId": "python"
        }
      },
      "outputs": [],
      "source": [
        "products_df[products_df['itemId'].isin(cart_pick_items)]"
      ]
    },
    {
      "cell_type": "markdown",
      "metadata": {
        "nteract": {
          "transient": {
            "deleting": false
          }
        }
      },
      "source": [
        "Now, we will add a drink and see how it changes things slightly."
      ]
    },
    {
      "cell_type": "code",
      "execution_count": null,
      "metadata": {
        "jupyter": {
          "outputs_hidden": false,
          "source_hidden": false
        },
        "nteract": {
          "transient": {
            "deleting": false
          }
        },
        "vscode": {
          "languageId": "python"
        }
      },
      "outputs": [],
      "source": [
        "# NOTE: no spaces in the string of item ids \n",
        "party_items =  '129,139' \n",
        "\n",
        "cart_picks_uri = recommendation_uri_builder(ir_base_uri, 'cart', model, seed_items_list = party_items, return_count = item_count)\n",
        "cart_pick_items = return_recommended_items(cart_picks_uri, token)"
      ]
    },
    {
      "cell_type": "code",
      "execution_count": null,
      "metadata": {
        "jupyter": {
          "outputs_hidden": false,
          "source_hidden": false
        },
        "nteract": {
          "transient": {
            "deleting": false
          }
        },
        "vscode": {
          "languageId": "python"
        }
      },
      "outputs": [],
      "source": [
        "products_df[products_df['itemId'].isin(cart_pick_items)]"
      ]
    },
    {
      "cell_type": "markdown",
      "metadata": {
        "nteract": {
          "transient": {
            "deleting": false
          }
        }
      },
      "source": [
        "# User-to-Item Recommendations"
      ]
    },
    {
      "cell_type": "markdown",
      "metadata": {
        "nteract": {
          "transient": {
            "deleting": false
          }
        }
      },
      "source": [
        "## (Optional) User Picks\n",
        "Returns personal picks, or items from the catalog that the user is likely to interact with based on their historical picks.\n",
        "\n",
        "**NOTE:** This option is only available if you select the \"Premium\" feature set for your modeling component."
      ]
    },
    {
      "cell_type": "code",
      "execution_count": null,
      "metadata": {
        "jupyter": {
          "outputs_hidden": false,
          "source_hidden": false
        },
        "nteract": {
          "transient": {
            "deleting": false
          }
        },
        "vscode": {
          "languageId": "python"
        }
      },
      "outputs": [],
      "source": [
        "user_seed_id = 1000 \n",
        "item_count = 5\n",
        "\n",
        "user_picks_uri = recommendation_uri_builder(ir_base_uri, 'picks', model, seed_user = user_seed_id, return_count = item_count)\n",
        "user_pick_items = return_recommended_items(user_picks_uri, token)"
      ]
    },
    {
      "cell_type": "markdown",
      "metadata": {
        "nteract": {
          "transient": {
            "deleting": false
          }
        }
      },
      "source": [
        "View their previous order history."
      ]
    },
    {
      "cell_type": "code",
      "execution_count": null,
      "metadata": {
        "jupyter": {
          "outputs_hidden": false,
          "source_hidden": false
        },
        "nteract": {
          "transient": {
            "deleting": false
          }
        },
        "vscode": {
          "languageId": "python"
        }
      },
      "outputs": [],
      "source": [
        "orders_df[orders_df['Member_number'] == user_seed_id]"
      ]
    },
    {
      "cell_type": "markdown",
      "metadata": {
        "nteract": {
          "transient": {
            "deleting": false
          }
        }
      },
      "source": [
        "The recommendations based on that history."
      ]
    },
    {
      "cell_type": "code",
      "execution_count": null,
      "metadata": {
        "jupyter": {
          "outputs_hidden": false,
          "source_hidden": false
        },
        "nteract": {
          "transient": {
            "deleting": false
          }
        },
        "vscode": {
          "languageId": "python"
        }
      },
      "outputs": [],
      "source": [
        "products_df[products_df['itemId'].isin(user_pick_items)]"
      ]
    },
    {
      "cell_type": "code",
      "execution_count": null,
      "metadata": {
        "jupyter": {
          "outputs_hidden": false,
          "source_hidden": false
        },
        "nteract": {
          "transient": {
            "deleting": false
          }
        },
        "vscode": {
          "languageId": "python"
        }
      },
      "outputs": [],
      "source": []
    }
  ],
  "metadata": {
    "kernel_info": {
      "name": "python38-azureml"
    },
    "kernelspec": {
      "display_name": "Python 3",
      "language": "python",
      "name": "python3"
    },
    "nteract": {
      "version": "nteract-front-end@1.0.0"
    }
  },
  "nbformat": 4,
  "nbformat_minor": 0
}
