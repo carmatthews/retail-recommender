{
  "cells": [
    {
      "cell_type": "markdown",
      "metadata": {
        "nteract": {
          "transient": {
            "deleting": false
          }
        }
      },
      "source": [
        "# Setup Intelligent Recommendations Service\n",
        "\n",
        "Intelligent Recommendations is a general purpose service that offers patented capabilities to more effectively drive desired outcomes out of the box such as “shop similar looks,” “shop by description,” “real time,” “session based”, Item based recommendations that can combine User interactions and Item Metadata. Businesses can promote and personalize any content type, such as sellable products, consumable media, documents, videos, and more.\n",
        "\n",
        "Learn more at [Explore Intelligent Recommendations](https://intelligent-recommendations.microsoft.com/).\n"
      ]
    },
    {
      "cell_type": "markdown",
      "metadata": {
        "nteract": {
          "transient": {
            "deleting": false
          }
        }
      },
      "source": [
        "## Prerequisites\n",
        "\n",
        "If you have completed all the steps from the *01_Data_Preparation.ipynb* notebook you have a dataset ready for the Intelligent Recommendations service to consume, go on to \"Create & Configure Intelligent Recommendations\". \n",
        "\n",
        "If you didn't complete the data preparation first, you can setup the data files by completing the **Prerequisite, Step 1 and Step 2** from the [Quick Start Guide](https://learn.microsoft.com/en-us/industry/retail/intelligent-recommendations/quickstart#prerequisites-get-azure-subscription-and-tenant-information-ready) using the zip file from this repo - **groceries_IRprepared.zip**.  "
      ]
    },
    {
      "cell_type": "markdown",
      "metadata": {
        "nteract": {
          "transient": {
            "deleting": false
          }
        }
      },
      "source": [
        "## 1. Create & Configure Intelligent Recommendations\n",
        "\n",
        "You are now ready to setup the Intelligent Recommendation Service!"
      ]
    },
    {
      "cell_type": "markdown",
      "metadata": {
        "nteract": {
          "transient": {
            "deleting": false
          }
        }
      },
      "source": [
        "**1.1 Create Service Account**\n",
        "\n",
        "Follow steps 1-5 in [Create the service account](https://docs.microsoft.com/en-us/industry/retail/intelligent-recommendations/deploy-intelligent-recommendations-account#create-the-service-account).  Leave the \"Reports Connection String\" blank at this point, we will configure it in the next step once the resource is created.\n",
        "\n",
        "**TIP:** Do add your tenant and user id as described in the Note on Step 4!  You can find your Tenant ID from the Azure Active Directory area of the Azure Portal Home page.  Then, click on Users, and search for yourself to find your Object ID, which is your User ID.  Make sure you select \"User\" as the Principal Type.\n",
        "\n",
        "**1.2 Configure Access to Storage Account **\n",
        "\n",
        "Setup access for your IR Service Account to the storage container with the files setup in the previous notebook (01_Data_Preparation) or from the prepared files (Prerequisite step), follow the steps in [Setup security for the container](https://docs.microsoft.com/en-us/industry/retail/intelligent-recommendations/deploy-data-lake-storage#set-up-security-for-the-container) and [Verify your role assignments](https://learn.microsoft.com/en-us/industry/retail/intelligent-recommendations/deploy-data-lake-storage#verify-your-role-assignments)\n",
        "\n",
        "**1.3 Configure Logging**\n",
        "\n",
        "Configure logging using the folder you created in your Azure Storage Container for logs by following the instructions [here](https://docs.microsoft.com/en-us/industry/retail/intelligent-recommendations/setup-error-logging#configure-the-reports-feature).  Note you will link to the ir_logs folder, not the root.  \n",
        "\n",
        "**TIP:** For our example, the connection string should be similar to (replace *your_storage_account* with your account name): \n",
        "&nbsp;&nbsp;&nbsp;&nbsp;*https://your_storage_account.blob.core.windows.net/ircontainer/ir_logs*  \n",
        "\n",
        "**1.4 Add Modeling & Serving Components**\n",
        "\n",
        "Complete all the steps in the [Add modeling and serving components](https://docs.microsoft.com/en-us/industry/retail/intelligent-recommendations/deploy-intelligent-recommendations-account#add-modeling-and-serving-components) section.\n",
        "\n",
        "**TIP:** For the serving component, you can select the minimum number of requests per second (1) for the \"Pre-allocated Capacity\" to work through this example.\n",
        "\n",
        "**TIP:** When you create the Modeling component there is an option to select \"Feature Set\".  We show examples of using the \"Premium\" features in this notebook, but if you want to maintain a free/lower tier cost for the service, you can select \"Basic\" or \"Standard\". \n",
        "\n",
        "\n",
        "Once the modeling component is deployed, it will automatically initiate the cooking process that processes the data and creates the recommendations.  This may take anywhere from a few minutes to a few hours.  The best way to monitor progress is to watch for files to be written to the logging folder (e.g. ir_logs in this example).\n",
        "\n",
        "When the cooking process completes you can view the results at the [Results Explorer Portal](https://docs.microsoft.com/en-us/industry/retail/intelligent-recommendations/results-explorer#step-2-view-results).   Until the process is complete though, you will not see any results when you \"Execute Request\".\n",
        "\n",
        "While IR processes, continue with the next steps so you can authenticate and make API calls to the service once it's complete.\n"
      ]
    },
    {
      "cell_type": "markdown",
      "metadata": {
        "nteract": {
          "transient": {
            "deleting": false
          }
        }
      },
      "source": [
        "## 2. Create Client Application & Configure Authentication"
      ]
    },
    {
      "cell_type": "markdown",
      "metadata": {
        "nteract": {
          "transient": {
            "deleting": false
          }
        }
      },
      "source": [
        "Intelligent Recommendations requires an OAuth2 authentication. Determine (or create) the Active Directory application from which to call the service endpoint with authentication. Any unauthenticated calls will fail with an error.  \n",
        "\n",
        "To establish this, complete the tasks in [Step 2: Setup Client Application](https://docs.microsoft.com/en-us/industry/retail/intelligent-recommendations/quickstart-endpoint#step-2-set-up-a-client-application).\n",
        "\n",
        "Go back to the application you registered in the previous step, continue with [Step 3: Configure Authentication](https://docs.microsoft.com/en-us/industry/retail/intelligent-recommendations/quickstart-endpoint#step-3-configure-authentication).  You can use either a secret or a certificate for authentication, for this example we'll create a secret.\n",
        "\n",
        "**TIP:** Make sure to note the \"Value\" for your Client Secret in the previous step.  If you lose it, you may not be able to access it again, in that case add a new client Secret and note the Value before navigating from the page.\n",
        "\n",
        "You can stop once you get to the \"Construct API Request\" step as we will do this in this Notebook.\n",
        "\n",
        "\n"
      ]
    },
    {
      "cell_type": "markdown",
      "metadata": {
        "nteract": {
          "transient": {
            "deleting": false
          }
        }
      },
      "source": [
        "## 3. (Optional) Configure CORS\n",
        "\n",
        "While this is not required for this example solution accelerator, if you wanted to use a web application in another domain to access the Intelligent Recommendations service, you could configure Cross-Origin Resource Sharing.\n",
        "\n",
        "Instructions provided [here](https://docs.microsoft.com/en-us/industry/retail/intelligent-recommendations/deploy-intelligent-recommendations-account#configure-cors-optional)."
      ]
    },
    {
      "cell_type": "markdown",
      "metadata": {
        "nteract": {
          "transient": {
            "deleting": false
          }
        }
      },
      "source": [
        "# Model Processing\n",
        "\n",
        "After the modeling resource has been created and deployed in the previous steps, Intelligent Recommendations service will continue to process data through a periodic cooking cycle. By default, the data cooking cycle occurs every 36 hours.\n",
        "\n",
        "We will manually trigger the cooking cycle to initiate our model processing in the next section."
      ]
    },
    {
      "cell_type": "code",
      "execution_count": 1,
      "metadata": {
        "gather": {
          "logged": 1675376666700
        },
        "jupyter": {
          "outputs_hidden": false,
          "source_hidden": false
        },
        "nteract": {
          "transient": {
            "deleting": false
          }
        }
      },
      "outputs": [],
      "source": [
        "import requests\n",
        "import json\n",
        "import base64\n",
        "import pandas as pd"
      ]
    },
    {
      "cell_type": "markdown",
      "metadata": {
        "nteract": {
          "transient": {
            "deleting": false
          }
        }
      },
      "source": [
        "The following fields should be completed based on the Intelligent Recommendations account and the Client Application setup in the previous steps."
      ]
    },
    {
      "cell_type": "code",
      "execution_count": 2,
      "metadata": {
        "gather": {
          "logged": 1675376667076
        },
        "jupyter": {
          "outputs_hidden": false,
          "source_hidden": false
        },
        "nteract": {
          "transient": {
            "deleting": false
          }
        }
      },
      "outputs": [],
      "source": [
        "tenant_id = 'Your_Azure_Tenant_Id'\n",
        "\n",
        "ir_base_uri = 'Your_IR_Service_Endpoint'  #the Url from the overview page for the Service Endpoint in the IR account (Step 1 above)\n",
        "model = 'Your_Model_Name'  #the name of the modeling component in your IR account\n",
        "\n",
        "client_id = 'Your_Client_ID'  #the application client id you created in Step 2 of the setup.\n",
        "client_secret = 'Your_Client_Secret_Value' #from step 2 above.\n",
        "\n",
        "auth_server_url = \"https://login.microsoftonline.com/\" + tenant_id + \"/oauth2/v2.0/token\"\n",
        "scope = ir_base_uri + '/.default'"
      ]
    },
    {
      "cell_type": "markdown",
      "metadata": {
        "nteract": {
          "transient": {
            "deleting": false
          }
        }
      },
      "source": [
        "Prepare the token we will use for authorizated calls to the API."
      ]
    },
    {
      "cell_type": "code",
      "execution_count": 29,
      "metadata": {
        "gather": {
          "logged": 1675383344913
        },
        "jupyter": {
          "outputs_hidden": false,
          "source_hidden": false
        },
        "nteract": {
          "transient": {
            "deleting": false
          }
        }
      },
      "outputs": [],
      "source": [
        "# Encode the client ID and client secret\n",
        "authorization = base64.b64encode(bytes(client_id + \":\" + client_secret, \"ISO-8859-1\")).decode(\"ascii\")\n",
        "\n",
        "headers = {\n",
        "    \"Authorization\": f\"Basic {authorization}\",\n",
        "    \"Content-Type\": \"application/x-www-form-urlencoded\"\n",
        "}\n",
        "body = {\n",
        "    \"grant_type\": \"client_credentials\", \"scope\" : scope\n",
        "}\n",
        "\n",
        "response = requests.post(auth_server_url, data=body, headers=headers)\n",
        "#print(response.text)\n",
        "\n",
        "\n",
        "tokens = json.loads(response.text)\n",
        "token = tokens['access_token']\n",
        "#print(token)"
      ]
    },
    {
      "cell_type": "markdown",
      "metadata": {},
      "source": [
        "## Trigger Modeling Manually\n",
        "\n",
        "This section is purposefully commented, to avoid triggering the modeling process unintentionally.  When you need to trigger modeling, keep in mind that there are limitations on this operation, for more details see [Limitations with manually triggering the modeling process](https://learn.microsoft.com/en-us/industry/retail/intelligent-recommendations/trigger-modeling#limitations-with-manually-triggering-the-modeling-process).\n",
        "\n",
        "If you have just setup a new model, you will want to uncomment and run the following to confirm that the modeling process is running, or to start it if it didn't begin automatically."
      ]
    },
    {
      "cell_type": "code",
      "execution_count": 31,
      "metadata": {
        "gather": {
          "logged": 1675383353868
        },
        "jupyter": {
          "outputs_hidden": false,
          "source_hidden": false
        },
        "nteract": {
          "transient": {
            "deleting": false
          }
        }
      },
      "outputs": [
        {
          "name": "stdout",
          "output_type": "stream",
          "text": [
            "{\"error\":{\"code\":\"TooManyRequests\",\"message\":\"Too many requests\"}}\n"
          ]
        }
      ],
      "source": [
        "ir_trigger_model = ir_base_uri + '/Control/V1.0/Model?modeling={}'.format(model)\n",
        "\n",
        "### Uncomment below to execute the request\n",
        "# api_call_headers = {'Authorization': 'Bearer ' + token}\n",
        "# api_call_response = requests.post(ir_trigger_model, headers=api_call_headers)\n",
        "# print(api_call_response.text)"
      ]
    },
    {
      "cell_type": "markdown",
      "metadata": {
        "nteract": {
          "transient": {
            "deleting": false
          }
        }
      },
      "source": [
        "If the IR modeling process isn't running, you will get the message:\n",
        "\n",
        "```console\n",
        "{\"status\":\"Success\"}\n",
        "```\n",
        "\n",
        "\n",
        "\n",
        "If the process was running (or if you repeat/run again) you will get the message:\n",
        "\n",
        "```console\n",
        "{\"error\":{\"code\":\"TooManyRequests\",\"message\":\"Too many requests\"}}\n",
        "```"
      ]
    },
    {
      "cell_type": "markdown",
      "metadata": {
        "nteract": {
          "transient": {
            "deleting": false
          }
        }
      },
      "source": [
        "The processing will take time, check back every 10 minutes and run \"Test API Call\" (next section) until you get a list of popular items.  \n",
        "\n",
        "You can also review the logs and reporting from the service, for more information see [Modeling status reports](https://learn.microsoft.com/en-us/industry/retail/intelligent-recommendations/modeling-status-reports) and  [Error logs](https://learn.microsoft.com/en-us/industry/retail/intelligent-recommendations/error-logs).\n",
        "\n",
        "You can go on to the next topic/notebook and setup Personalizer while you wait, using the **03_Personalizer.ipynb** notebook."
      ]
    },
    {
      "cell_type": "markdown",
      "metadata": {},
      "source": [
        "## Test API Call\n",
        "\n",
        "Our first call to the Intelligent Recommendations model will confirm connectivity and the status of the model processing.  If the model has completed processing it will return a set of \"popular\" items.  \n",
        "\n",
        "The first time you run this after setting up the Intelligent Recommendations service and manually triggering the modeling process, the model will take time to process so you will likely see a status of \"WaitingForData\"."
      ]
    },
    {
      "cell_type": "code",
      "execution_count": 32,
      "metadata": {
        "gather": {
          "logged": 1675383467776
        },
        "jupyter": {
          "outputs_hidden": false,
          "source_hidden": false
        },
        "nteract": {
          "transient": {
            "deleting": false
          }
        }
      },
      "outputs": [
        {
          "name": "stdout",
          "output_type": "stream",
          "text": [
            "{\"id\":\"Lists\",\"name\":\"Lists\",\"version\":\"v1.0\",\"items\":[{\"id\":\"165\",\"trackingId\":\"00000000-0000-0000-0000-000000000003\"},{\"id\":\"103\",\"trackingId\":\"00000000-0000-0000-0000-000000000003\"},{\"id\":\"123\",\"trackingId\":\"00000000-0000-0000-0000-000000000003\"},{\"id\":\"139\",\"trackingId\":\"00000000-0000-0000-0000-000000000003\"},{\"id\":\"166\",\"trackingId\":\"00000000-0000-0000-0000-000000000003\"},{\"id\":\"124\",\"trackingId\":\"00000000-0000-0000-0000-000000000003\"},{\"id\":\"157\",\"trackingId\":\"00000000-0000-0000-0000-000000000003\"},{\"id\":\"13\",\"trackingId\":\"00000000-0000-0000-0000-000000000003\"},{\"id\":\"131\",\"trackingId\":\"00000000-0000-0000-0000-000000000003\"},{\"id\":\"31\",\"trackingId\":\"00000000-0000-0000-0000-000000000003\"},{\"id\":\"106\",\"trackingId\":\"00000000-0000-0000-0000-000000000003\"},{\"id\":\"110\",\"trackingId\":\"00000000-0000-0000-0000-000000000003\"},{\"id\":\"134\",\"trackingId\":\"00000000-0000-0000-0000-000000000003\"},{\"id\":\"21\",\"trackingId\":\"00000000-0000-0000-0000-000000000003\"},{\"id\":\"12\",\"trackingId\":\"00000000-0000-0000-0000-000000000003\"},{\"id\":\"161\",\"trackingId\":\"00000000-0000-0000-0000-000000000003\"},{\"id\":\"96\",\"trackingId\":\"00000000-0000-0000-0000-000000000003\"},{\"id\":\"57\",\"trackingId\":\"00000000-0000-0000-0000-000000000003\"},{\"id\":\"15\",\"trackingId\":\"00000000-0000-0000-0000-000000000003\"},{\"id\":\"112\",\"trackingId\":\"00000000-0000-0000-0000-000000000003\"},{\"id\":\"50\",\"trackingId\":\"00000000-0000-0000-0000-000000000003\"},{\"id\":\"16\",\"trackingId\":\"00000000-0000-0000-0000-000000000003\"},{\"id\":\"65\",\"trackingId\":\"00000000-0000-0000-0000-000000000003\"},{\"id\":\"9\",\"trackingId\":\"00000000-0000-0000-0000-000000000003\"},{\"id\":\"41\",\"trackingId\":\"00000000-0000-0000-0000-000000000003\"}],\"title\":\"Popular\",\"longTitle\":\"Popular\",\"titleId\":5,\"pagingInfo\":{\"totalItems\":167},\"status\":\"Success\"}\n"
          ]
        }
      ],
      "source": [
        "ir_popular_items = ir_base_uri + '/reco/v1.0/popular?modeling={}'.format(model)\n",
        "\n",
        "api_call_headers = {'Authorization': 'Bearer ' + token}\n",
        "api_call_response = requests.get(ir_popular_items, headers=api_call_headers)\n",
        "\n",
        "print(api_call_response.text)"
      ]
    },
    {
      "cell_type": "markdown",
      "metadata": {
        "nteract": {
          "transient": {
            "deleting": false
          }
        }
      },
      "source": [
        "If the processing has completed, you will get a list of popular items that should look similar to:\n",
        "\n",
        "```console\n",
        "{\"id\":\"Lists\",\"name\":\"Lists\",\"version\":\"v1.0\",\"items\":[{\"id\":\"165\",\"trackingId\":\"00000000-0000-0000-0000-000000000003\"},{\"id\":\"103\",\"trackingId\":\"00000000-0000-0000-0000-000000000003\"},{\"id\":\"123\",\"trackingId\":\"00000000-0000-0000-0000-000000000003\"},{\"id\":\"139\",\"trackingId\":\"00000000-0000-0000-0000-000000000003\"},{\"id\":\"166\",\"trackingId\":\"00000000-0000-0000-0000-000000000003\"},\n",
        "...\n",
        "{\"id\":\"112\",\"trackingId\":\"00000000-0000-0000-0000-000000000003\"},{\"id\":\"50\",\"trackingId\":\"00000000-0000-0000-0000-000000000003\"},{\"id\":\"16\",\"trackingId\":\"00000000-0000-0000-0000-000000000003\"},{\"id\":\"65\",\"trackingId\":\"00000000-0000-0000-0000-000000000003\"},{\"id\":\"9\",\"trackingId\":\"00000000-0000-0000-0000-000000000003\"},{\"id\":\"41\",\"trackingId\":\"00000000-0000-0000-0000-000000000003\"}],\"title\":\"Popular\",\"longTitle\":\"Popular\",\"titleId\":5,\"pagingInfo\":{\"totalItems\":167},\"status\":\"Success\"}\n",
        "```"
      ]
    },
    {
      "cell_type": "markdown",
      "metadata": {},
      "source": [
        "If instead, you get the following message:\n",
        "\n",
        "```console\n",
        "{\"id\":\"Lists\",\"name\":\"Lists\",\"version\":\"v1.0\",\"items\":[],\"title\":\"Popular\",\"longTitle\":\"Popular\",\"titleId\":5,\"pagingInfo\":{\"totalItems\":0},\"status\":\"WaitingForData\",\"details\":\"The request data is currently unavailable. It may be cooked and become available soon.\"}\n",
        "```\n",
        "\n",
        "Your Intelligent Recommendations Service is likely still processing the data - you can also monitor the logs and reporting from the service.  For more information see [Modeling status reports](https://learn.microsoft.com/en-us/industry/retail/intelligent-recommendations/modeling-status-reports) and  [Error logs](https://learn.microsoft.com/en-us/industry/retail/intelligent-recommendations/error-logs).\n",
        "\n",
        "If you have another return result than shown above, reference [API Status Codes](https://learn.microsoft.com/en-us/industry/retail/intelligent-recommendations/sample-api) for more information and troubleshooting tips."
      ]
    },
    {
      "cell_type": "markdown",
      "metadata": {
        "nteract": {
          "transient": {
            "deleting": false
          }
        }
      },
      "source": [
        "# Recommendations Setup\n",
        "\n",
        "The next section provides examples of the different API calls to the Intelligent Recommendations model and how the results can be applied.\n",
        "\n",
        "\n",
        "Details about the modeling algorithms available can be found in the [Intelligent Recommendations Algorithms Overview] (https://learn.microsoft.com/en-us/industry/retail/intelligent-recommendations/modeling-faq#intelligent-recommendations-algorithms-overview) and further guidance on selecting the right function for your business requirements is available in the [FAQ](https://learn.microsoft.com/en-us/industry/retail/intelligent-recommendations/modeling-faq#what-algorithm-and-list-type-should-i-use-for-my-business)."
      ]
    },
    {
      "cell_type": "markdown",
      "metadata": {
        "nteract": {
          "transient": {
            "deleting": false
          }
        }
      },
      "source": [
        "## Load Product Catalog and Orders Data\n",
        "\n",
        "Once the IR Service has completed processing and you are able to view the list of popular items when you test the API call, proceed with the next steps.\n",
        "\n",
        "We use the product catalog and orders data (from the 01_Data_Preparation.ipynb notebook) to help interpret the results from the Intelligent Recommendation system.  The files are also available in the repo, so you can continue working with those if you didn't complete the first section."
      ]
    },
    {
      "cell_type": "markdown",
      "metadata": {
        "nteract": {
          "transient": {
            "deleting": false
          }
        }
      },
      "source": [
        "** Product Catalog **"
      ]
    },
    {
      "cell_type": "code",
      "execution_count": 7,
      "metadata": {
        "gather": {
          "logged": 1675376668948
        },
        "jupyter": {
          "outputs_hidden": false,
          "source_hidden": false
        },
        "nteract": {
          "transient": {
            "deleting": false
          }
        }
      },
      "outputs": [
        {
          "name": "stdout",
          "output_type": "stream",
          "text": [
            "(167, 3)\n"
          ]
        },
        {
          "data": {
            "text/html": [
              "<div>\n",
              "<style scoped>\n",
              "    .dataframe tbody tr th:only-of-type {\n",
              "        vertical-align: middle;\n",
              "    }\n",
              "\n",
              "    .dataframe tbody tr th {\n",
              "        vertical-align: top;\n",
              "    }\n",
              "\n",
              "    .dataframe thead th {\n",
              "        text-align: right;\n",
              "    }\n",
              "</style>\n",
              "<table border=\"1\" class=\"dataframe\">\n",
              "  <thead>\n",
              "    <tr style=\"text-align: right;\">\n",
              "      <th></th>\n",
              "      <th>itemId</th>\n",
              "      <th>itemDescription</th>\n",
              "      <th>earliestDate</th>\n",
              "    </tr>\n",
              "  </thead>\n",
              "  <tbody>\n",
              "    <tr>\n",
              "      <th>0</th>\n",
              "      <td>1</td>\n",
              "      <td>Instant food products</td>\n",
              "      <td>2014-01-01T00:00:00.000Z</td>\n",
              "    </tr>\n",
              "    <tr>\n",
              "      <th>1</th>\n",
              "      <td>2</td>\n",
              "      <td>UHT-milk</td>\n",
              "      <td>2014-01-02T00:00:00.000Z</td>\n",
              "    </tr>\n",
              "    <tr>\n",
              "      <th>2</th>\n",
              "      <td>3</td>\n",
              "      <td>abrasive cleaner</td>\n",
              "      <td>2014-01-21T00:00:00.000Z</td>\n",
              "    </tr>\n",
              "    <tr>\n",
              "      <th>3</th>\n",
              "      <td>4</td>\n",
              "      <td>artif. sweetener</td>\n",
              "      <td>2014-02-10T00:00:00.000Z</td>\n",
              "    </tr>\n",
              "    <tr>\n",
              "      <th>4</th>\n",
              "      <td>5</td>\n",
              "      <td>baby cosmetics</td>\n",
              "      <td>2014-01-09T00:00:00.000Z</td>\n",
              "    </tr>\n",
              "  </tbody>\n",
              "</table>\n",
              "</div>"
            ],
            "text/plain": [
              "   itemId        itemDescription              earliestDate\n",
              "0       1  Instant food products  2014-01-01T00:00:00.000Z\n",
              "1       2               UHT-milk  2014-01-02T00:00:00.000Z\n",
              "2       3       abrasive cleaner  2014-01-21T00:00:00.000Z\n",
              "3       4       artif. sweetener  2014-02-10T00:00:00.000Z\n",
              "4       5         baby cosmetics  2014-01-09T00:00:00.000Z"
            ]
          },
          "execution_count": 7,
          "metadata": {},
          "output_type": "execute_result"
        }
      ],
      "source": [
        "products_df=pd.read_csv('data/products.csv')\n",
        "print(products_df.shape)\n",
        "products_df.head()"
      ]
    },
    {
      "cell_type": "markdown",
      "metadata": {
        "nteract": {
          "transient": {
            "deleting": false
          }
        }
      },
      "source": [
        "** Orders (Interactions) **"
      ]
    },
    {
      "cell_type": "code",
      "execution_count": 8,
      "metadata": {
        "gather": {
          "logged": 1675376669489
        },
        "jupyter": {
          "outputs_hidden": false,
          "source_hidden": false
        },
        "nteract": {
          "transient": {
            "deleting": false
          }
        }
      },
      "outputs": [
        {
          "name": "stdout",
          "output_type": "stream",
          "text": [
            "(38765, 5)\n"
          ]
        },
        {
          "data": {
            "text/html": [
              "<div>\n",
              "<style scoped>\n",
              "    .dataframe tbody tr th:only-of-type {\n",
              "        vertical-align: middle;\n",
              "    }\n",
              "\n",
              "    .dataframe tbody tr th {\n",
              "        vertical-align: top;\n",
              "    }\n",
              "\n",
              "    .dataframe thead th {\n",
              "        text-align: right;\n",
              "    }\n",
              "</style>\n",
              "<table border=\"1\" class=\"dataframe\">\n",
              "  <thead>\n",
              "    <tr style=\"text-align: right;\">\n",
              "      <th></th>\n",
              "      <th>basketId</th>\n",
              "      <th>Member_number</th>\n",
              "      <th>Date</th>\n",
              "      <th>itemId</th>\n",
              "      <th>itemDescription</th>\n",
              "    </tr>\n",
              "  </thead>\n",
              "  <tbody>\n",
              "    <tr>\n",
              "      <th>0</th>\n",
              "      <td>1</td>\n",
              "      <td>1000</td>\n",
              "      <td>2014-06-24T00:00:00.000Z</td>\n",
              "      <td>106</td>\n",
              "      <td>pastry</td>\n",
              "    </tr>\n",
              "    <tr>\n",
              "      <th>1</th>\n",
              "      <td>1</td>\n",
              "      <td>1000</td>\n",
              "      <td>2014-06-24T00:00:00.000Z</td>\n",
              "      <td>129</td>\n",
              "      <td>salty snack</td>\n",
              "    </tr>\n",
              "    <tr>\n",
              "      <th>2</th>\n",
              "      <td>1</td>\n",
              "      <td>1000</td>\n",
              "      <td>2014-06-24T00:00:00.000Z</td>\n",
              "      <td>165</td>\n",
              "      <td>whole milk</td>\n",
              "    </tr>\n",
              "    <tr>\n",
              "      <th>3</th>\n",
              "      <td>2</td>\n",
              "      <td>1000</td>\n",
              "      <td>2015-03-15T00:00:00.000Z</td>\n",
              "      <td>131</td>\n",
              "      <td>sausage</td>\n",
              "    </tr>\n",
              "    <tr>\n",
              "      <th>4</th>\n",
              "      <td>2</td>\n",
              "      <td>1000</td>\n",
              "      <td>2015-03-15T00:00:00.000Z</td>\n",
              "      <td>133</td>\n",
              "      <td>semi-finished bread</td>\n",
              "    </tr>\n",
              "  </tbody>\n",
              "</table>\n",
              "</div>"
            ],
            "text/plain": [
              "   basketId  Member_number                      Date  itemId  \\\n",
              "0         1           1000  2014-06-24T00:00:00.000Z     106   \n",
              "1         1           1000  2014-06-24T00:00:00.000Z     129   \n",
              "2         1           1000  2014-06-24T00:00:00.000Z     165   \n",
              "3         2           1000  2015-03-15T00:00:00.000Z     131   \n",
              "4         2           1000  2015-03-15T00:00:00.000Z     133   \n",
              "\n",
              "       itemDescription  \n",
              "0               pastry  \n",
              "1          salty snack  \n",
              "2           whole milk  \n",
              "3              sausage  \n",
              "4  semi-finished bread  "
            ]
          },
          "execution_count": 8,
          "metadata": {},
          "output_type": "execute_result"
        }
      ],
      "source": [
        "orders_df =pd.read_csv('data/orders.csv')\n",
        "print(orders_df.shape)\n",
        "orders_df.head()"
      ]
    },
    {
      "cell_type": "markdown",
      "metadata": {
        "nteract": {
          "transient": {
            "deleting": false
          }
        }
      },
      "source": [
        "## API Calls Functions"
      ]
    },
    {
      "cell_type": "markdown",
      "metadata": {
        "nteract": {
          "transient": {
            "deleting": false
          }
        }
      },
      "source": [
        "This function constructs the API calls for the different types of recommendations available in the service.  For more information and options see the [API Reference](https://learn.microsoft.com/en-us/rest/api/industry/intelligent-recommendations/). \n",
        "\n",
        "As you test these functions, reference [API Status Codes](https://learn.microsoft.com/en-us/industry/retail/intelligent-recommendations/sample-api) for more details and descriptions of the status returend.\n",
        "\n",
        "Additional examples are available in the [Sample API Calls](https://learn.microsoft.com/en-us/industry/retail/intelligent-recommendations/sample-api) documentation.\n"
      ]
    },
    {
      "cell_type": "code",
      "execution_count": 9,
      "metadata": {
        "gather": {
          "logged": 1675376669876
        },
        "jupyter": {
          "outputs_hidden": false,
          "source_hidden": false
        },
        "nteract": {
          "transient": {
            "deleting": false
          }
        }
      },
      "outputs": [],
      "source": [
        "def recommendation_uri_builder(base_uri, command, model, seed_item = 0, seed_user = 0, return_count = 100, seed_items_list = '', skip_count = 0):\n",
        "\n",
        "    #as of July 2022, this is the API path\n",
        "    ir_path = '/reco/v1.0/'\n",
        "\n",
        "    # Get Similar Items - Returns a list of item-to-item recommendations. Recommended items can be similar to the seed item or related in some way, based on the way data is structured and the algorithm.\n",
        "    # algo type for similar are Visual, Textual: '/reco/v1.0/similar/{}?AlgoType=Textual&modeling={}&count={}'.format(seed_item, model, return_count)\n",
        "    if command == 'similar_text':  \n",
        "        uri = ir_base_uri + ir_path + 'similar/{}?AlgoType=Textual&modeling={}&count={}'.format(seed_item, model, return_count)\n",
        "    elif command == 'similar_visual':  \n",
        "        uri = ir_base_uri + ir_path + 'similar/{}?AlgoType=Visual&modeling={}&count={}'.format(seed_item, model, return_count)\n",
        "   \n",
        "    # Popular Items - Returns the most popular items from the catalog, ranked by the number of interactions over a period of time.\n",
        "    elif command == 'popular':\n",
        "        uri = ir_base_uri + ir_path + 'popular?modeling={}&count={}'.format(model, return_count)\n",
        "    \n",
        "    # New Items - Returns the catalog items ranked by release date, newest first.\n",
        "    elif command == 'new':\n",
        "        uri = ir_base_uri + ir_path + 'new?modeling={}&count={}'.format(model, return_count)\n",
        "\n",
        "    # Trending Items - Returns the catalog items ranked by popularity, giving newer events more weight than older ones. Popularity is scored over a configurable period of time.      \n",
        "    elif command == 'trending':\n",
        "        uri = ir_base_uri + ir_path + 'trending?modeling={}&count={}'.format(model, return_count)\n",
        "    \n",
        "    # User Picks - Returns personal picks, or items from the catalog that the user is likely to interact with.\n",
        "    elif command == 'picks':\n",
        "        #algo types for user picks is only RecentPurchases\n",
        "        uri = ir_base_uri + ir_path + 'picks?AlgoType=RecentPurchases&modeling={}&userId={}&count={}'.format(model, seed_user, return_count)\n",
        "    \n",
        "    # Next Best Action - Cart or frequently bought together recommendations return items that are likely to be consumed together with the seed item(s).\n",
        "    #  returns a ranked list of \"next best\" based on a single item\n",
        "    elif command == 'fbt':\n",
        "        uri = ir_base_uri + ir_path + 'cart/{}?modeling={}&count={}'.format(seed_item, model, return_count)\n",
        "    # returns a ranked list of \"next best\" based on a list/set of mulitple items\n",
        "    elif command == 'cart': \n",
        "        uri = ir_base_uri + ir_path + 'cart/items?seedItemIds={}&modeling={}&count={}&skipItems={}&userId={}'.format(seed_items_list, model, return_count, skip_count, seed_user)\n",
        "     \n",
        "    else:\n",
        "        print(\"No URI could be formed\")\n",
        "\n",
        "    return uri"
      ]
    },
    {
      "cell_type": "code",
      "execution_count": 10,
      "metadata": {
        "gather": {
          "logged": 1675376670410
        },
        "jupyter": {
          "outputs_hidden": false,
          "source_hidden": false
        },
        "nteract": {
          "transient": {
            "deleting": false
          }
        }
      },
      "outputs": [],
      "source": [
        "def return_recommended_items(uri, token):\n",
        "    api_call_headers = {'Authorization': 'Bearer ' + token}\n",
        "    api_call_response = requests.get(uri, headers=api_call_headers)  \n",
        "\n",
        "    #note the return will be string/textual values\n",
        "    rec_items = pd.json_normalize(json.loads(api_call_response.text)['items'])['id']\n",
        "\n",
        "    #for our example, our ids need to be int, edit/remove this for your use case as needed.\n",
        "    rec_items_intlist = list(map(int, rec_items))\n",
        "    \n",
        "    return rec_items_intlist"
      ]
    },
    {
      "cell_type": "markdown",
      "metadata": {
        "nteract": {
          "transient": {
            "deleting": false
          }
        }
      },
      "source": [
        "# Top Charts\n",
        "\n",
        "These lists in Intelligent Recommendations enable browsing a content catalog using algorithmic charts sorted by information such as total sales, sum of clicks, release date, or a combination of different metrics. The service currently supports three base types of trending lists, Popular, New, and Trending.  For more information, see [Trending Lists] (https://learn.microsoft.com/en-us/industry/retail/intelligent-recommendations/trending-lists)."
      ]
    },
    {
      "cell_type": "markdown",
      "metadata": {
        "nteract": {
          "transient": {
            "deleting": false
          }
        }
      },
      "source": [
        "## Popular Items\n",
        "\n",
        "The most popular items from the catalog are ranked by the number of interactions over a period of time.  We request the 10 most popular items then review the descriptions in our product catalog.  "
      ]
    },
    {
      "cell_type": "code",
      "execution_count": 11,
      "metadata": {
        "gather": {
          "logged": 1675376671521
        },
        "jupyter": {
          "outputs_hidden": false,
          "source_hidden": false
        },
        "nteract": {
          "transient": {
            "deleting": false
          }
        }
      },
      "outputs": [
        {
          "name": "stdout",
          "output_type": "stream",
          "text": [
            "Most Popular Items\n"
          ]
        },
        {
          "data": {
            "text/html": [
              "<div>\n",
              "<style scoped>\n",
              "    .dataframe tbody tr th:only-of-type {\n",
              "        vertical-align: middle;\n",
              "    }\n",
              "\n",
              "    .dataframe tbody tr th {\n",
              "        vertical-align: top;\n",
              "    }\n",
              "\n",
              "    .dataframe thead th {\n",
              "        text-align: right;\n",
              "    }\n",
              "</style>\n",
              "<table border=\"1\" class=\"dataframe\">\n",
              "  <thead>\n",
              "    <tr style=\"text-align: right;\">\n",
              "      <th></th>\n",
              "      <th>itemId</th>\n",
              "      <th>itemDescription</th>\n",
              "      <th>earliestDate</th>\n",
              "    </tr>\n",
              "  </thead>\n",
              "  <tbody>\n",
              "    <tr>\n",
              "      <th>12</th>\n",
              "      <td>13</td>\n",
              "      <td>bottled water</td>\n",
              "      <td>2014-01-01T00:00:00.000Z</td>\n",
              "    </tr>\n",
              "    <tr>\n",
              "      <th>30</th>\n",
              "      <td>31</td>\n",
              "      <td>citrus fruit</td>\n",
              "      <td>2014-01-01T00:00:00.000Z</td>\n",
              "    </tr>\n",
              "    <tr>\n",
              "      <th>102</th>\n",
              "      <td>103</td>\n",
              "      <td>other vegetables</td>\n",
              "      <td>2014-01-01T00:00:00.000Z</td>\n",
              "    </tr>\n",
              "    <tr>\n",
              "      <th>122</th>\n",
              "      <td>123</td>\n",
              "      <td>rolls/buns</td>\n",
              "      <td>2014-01-02T00:00:00.000Z</td>\n",
              "    </tr>\n",
              "    <tr>\n",
              "      <th>123</th>\n",
              "      <td>124</td>\n",
              "      <td>root vegetables</td>\n",
              "      <td>2014-01-02T00:00:00.000Z</td>\n",
              "    </tr>\n",
              "    <tr>\n",
              "      <th>130</th>\n",
              "      <td>131</td>\n",
              "      <td>sausage</td>\n",
              "      <td>2014-01-01T00:00:00.000Z</td>\n",
              "    </tr>\n",
              "    <tr>\n",
              "      <th>138</th>\n",
              "      <td>139</td>\n",
              "      <td>soda</td>\n",
              "      <td>2014-01-01T00:00:00.000Z</td>\n",
              "    </tr>\n",
              "    <tr>\n",
              "      <th>156</th>\n",
              "      <td>157</td>\n",
              "      <td>tropical fruit</td>\n",
              "      <td>2014-01-01T00:00:00.000Z</td>\n",
              "    </tr>\n",
              "    <tr>\n",
              "      <th>164</th>\n",
              "      <td>165</td>\n",
              "      <td>whole milk</td>\n",
              "      <td>2014-01-01T00:00:00.000Z</td>\n",
              "    </tr>\n",
              "    <tr>\n",
              "      <th>165</th>\n",
              "      <td>166</td>\n",
              "      <td>yogurt</td>\n",
              "      <td>2014-01-01T00:00:00.000Z</td>\n",
              "    </tr>\n",
              "  </tbody>\n",
              "</table>\n",
              "</div>"
            ],
            "text/plain": [
              "     itemId   itemDescription              earliestDate\n",
              "12       13     bottled water  2014-01-01T00:00:00.000Z\n",
              "30       31      citrus fruit  2014-01-01T00:00:00.000Z\n",
              "102     103  other vegetables  2014-01-01T00:00:00.000Z\n",
              "122     123        rolls/buns  2014-01-02T00:00:00.000Z\n",
              "123     124   root vegetables  2014-01-02T00:00:00.000Z\n",
              "130     131           sausage  2014-01-01T00:00:00.000Z\n",
              "138     139              soda  2014-01-01T00:00:00.000Z\n",
              "156     157    tropical fruit  2014-01-01T00:00:00.000Z\n",
              "164     165        whole milk  2014-01-01T00:00:00.000Z\n",
              "165     166            yogurt  2014-01-01T00:00:00.000Z"
            ]
          },
          "execution_count": 11,
          "metadata": {},
          "output_type": "execute_result"
        }
      ],
      "source": [
        "popular_uri = recommendation_uri_builder(ir_base_uri, 'popular', model, return_count=10)\n",
        "popular_items = return_recommended_items(popular_uri, token)\n",
        "\n",
        "print(\"Most Popular Items\")\n",
        "products_df[products_df['itemId'].isin(popular_items)]"
      ]
    },
    {
      "cell_type": "code",
      "execution_count": 12,
      "metadata": {
        "gather": {
          "logged": 1675376671859
        },
        "jupyter": {
          "outputs_hidden": false,
          "source_hidden": false
        },
        "nteract": {
          "transient": {
            "deleting": false
          }
        }
      },
      "outputs": [
        {
          "name": "stdout",
          "output_type": "stream",
          "text": [
            "Number of times Most Popular Items have been Ordered\n"
          ]
        },
        {
          "data": {
            "text/html": [
              "<div>\n",
              "<style scoped>\n",
              "    .dataframe tbody tr th:only-of-type {\n",
              "        vertical-align: middle;\n",
              "    }\n",
              "\n",
              "    .dataframe tbody tr th {\n",
              "        vertical-align: top;\n",
              "    }\n",
              "\n",
              "    .dataframe thead th {\n",
              "        text-align: right;\n",
              "    }\n",
              "</style>\n",
              "<table border=\"1\" class=\"dataframe\">\n",
              "  <thead>\n",
              "    <tr style=\"text-align: right;\">\n",
              "      <th></th>\n",
              "      <th>itemDescription</th>\n",
              "      <th>countOfOrders</th>\n",
              "    </tr>\n",
              "  </thead>\n",
              "  <tbody>\n",
              "    <tr>\n",
              "      <th>8</th>\n",
              "      <td>whole milk</td>\n",
              "      <td>2502</td>\n",
              "    </tr>\n",
              "    <tr>\n",
              "      <th>2</th>\n",
              "      <td>other vegetables</td>\n",
              "      <td>1898</td>\n",
              "    </tr>\n",
              "    <tr>\n",
              "      <th>3</th>\n",
              "      <td>rolls/buns</td>\n",
              "      <td>1716</td>\n",
              "    </tr>\n",
              "    <tr>\n",
              "      <th>6</th>\n",
              "      <td>soda</td>\n",
              "      <td>1514</td>\n",
              "    </tr>\n",
              "    <tr>\n",
              "      <th>9</th>\n",
              "      <td>yogurt</td>\n",
              "      <td>1334</td>\n",
              "    </tr>\n",
              "    <tr>\n",
              "      <th>4</th>\n",
              "      <td>root vegetables</td>\n",
              "      <td>1071</td>\n",
              "    </tr>\n",
              "    <tr>\n",
              "      <th>7</th>\n",
              "      <td>tropical fruit</td>\n",
              "      <td>1032</td>\n",
              "    </tr>\n",
              "    <tr>\n",
              "      <th>0</th>\n",
              "      <td>bottled water</td>\n",
              "      <td>933</td>\n",
              "    </tr>\n",
              "    <tr>\n",
              "      <th>5</th>\n",
              "      <td>sausage</td>\n",
              "      <td>924</td>\n",
              "    </tr>\n",
              "    <tr>\n",
              "      <th>1</th>\n",
              "      <td>citrus fruit</td>\n",
              "      <td>812</td>\n",
              "    </tr>\n",
              "  </tbody>\n",
              "</table>\n",
              "</div>"
            ],
            "text/plain": [
              "    itemDescription  countOfOrders\n",
              "8        whole milk           2502\n",
              "2  other vegetables           1898\n",
              "3        rolls/buns           1716\n",
              "6              soda           1514\n",
              "9            yogurt           1334\n",
              "4   root vegetables           1071\n",
              "7    tropical fruit           1032\n",
              "0     bottled water            933\n",
              "5           sausage            924\n",
              "1      citrus fruit            812"
            ]
          },
          "execution_count": 12,
          "metadata": {},
          "output_type": "execute_result"
        }
      ],
      "source": [
        "# See the count of orders (baskets) that contain the popular items\n",
        "popular_baskets_df = orders_df[orders_df['itemId'].isin(popular_items)][['itemDescription', 'basketId']].groupby('itemDescription').count()\n",
        "popular_baskets_df.reset_index(inplace=True)\n",
        "\n",
        "print(\"Number of times Most Popular Items have been Ordered\")\n",
        "popular_baskets_df.columns = ['itemDescription', 'countOfOrders']\n",
        "popular_baskets_df.sort_values(by=['countOfOrders'], ascending=False)\n"
      ]
    },
    {
      "cell_type": "markdown",
      "metadata": {
        "nteract": {
          "transient": {
            "deleting": false
          }
        }
      },
      "source": [
        "## Trending Items\n",
        "\n",
        "Returns the catalog items ranked by popularity, giving newer events more weight than older ones. Popularity is scored over a configurable period of time."
      ]
    },
    {
      "cell_type": "code",
      "execution_count": 13,
      "metadata": {
        "gather": {
          "logged": 1675376672597
        },
        "jupyter": {
          "outputs_hidden": false,
          "source_hidden": false
        },
        "nteract": {
          "transient": {
            "deleting": false
          }
        }
      },
      "outputs": [
        {
          "name": "stdout",
          "output_type": "stream",
          "text": [
            "Trending Items\n"
          ]
        },
        {
          "data": {
            "text/html": [
              "<div>\n",
              "<style scoped>\n",
              "    .dataframe tbody tr th:only-of-type {\n",
              "        vertical-align: middle;\n",
              "    }\n",
              "\n",
              "    .dataframe tbody tr th {\n",
              "        vertical-align: top;\n",
              "    }\n",
              "\n",
              "    .dataframe thead th {\n",
              "        text-align: right;\n",
              "    }\n",
              "</style>\n",
              "<table border=\"1\" class=\"dataframe\">\n",
              "  <thead>\n",
              "    <tr style=\"text-align: right;\">\n",
              "      <th></th>\n",
              "      <th>itemId</th>\n",
              "      <th>itemDescription</th>\n",
              "      <th>earliestDate</th>\n",
              "    </tr>\n",
              "  </thead>\n",
              "  <tbody>\n",
              "    <tr>\n",
              "      <th>12</th>\n",
              "      <td>13</td>\n",
              "      <td>bottled water</td>\n",
              "      <td>2014-01-01T00:00:00.000Z</td>\n",
              "    </tr>\n",
              "    <tr>\n",
              "      <th>30</th>\n",
              "      <td>31</td>\n",
              "      <td>citrus fruit</td>\n",
              "      <td>2014-01-01T00:00:00.000Z</td>\n",
              "    </tr>\n",
              "    <tr>\n",
              "      <th>102</th>\n",
              "      <td>103</td>\n",
              "      <td>other vegetables</td>\n",
              "      <td>2014-01-01T00:00:00.000Z</td>\n",
              "    </tr>\n",
              "    <tr>\n",
              "      <th>122</th>\n",
              "      <td>123</td>\n",
              "      <td>rolls/buns</td>\n",
              "      <td>2014-01-02T00:00:00.000Z</td>\n",
              "    </tr>\n",
              "    <tr>\n",
              "      <th>123</th>\n",
              "      <td>124</td>\n",
              "      <td>root vegetables</td>\n",
              "      <td>2014-01-02T00:00:00.000Z</td>\n",
              "    </tr>\n",
              "    <tr>\n",
              "      <th>130</th>\n",
              "      <td>131</td>\n",
              "      <td>sausage</td>\n",
              "      <td>2014-01-01T00:00:00.000Z</td>\n",
              "    </tr>\n",
              "    <tr>\n",
              "      <th>138</th>\n",
              "      <td>139</td>\n",
              "      <td>soda</td>\n",
              "      <td>2014-01-01T00:00:00.000Z</td>\n",
              "    </tr>\n",
              "    <tr>\n",
              "      <th>156</th>\n",
              "      <td>157</td>\n",
              "      <td>tropical fruit</td>\n",
              "      <td>2014-01-01T00:00:00.000Z</td>\n",
              "    </tr>\n",
              "    <tr>\n",
              "      <th>164</th>\n",
              "      <td>165</td>\n",
              "      <td>whole milk</td>\n",
              "      <td>2014-01-01T00:00:00.000Z</td>\n",
              "    </tr>\n",
              "    <tr>\n",
              "      <th>165</th>\n",
              "      <td>166</td>\n",
              "      <td>yogurt</td>\n",
              "      <td>2014-01-01T00:00:00.000Z</td>\n",
              "    </tr>\n",
              "  </tbody>\n",
              "</table>\n",
              "</div>"
            ],
            "text/plain": [
              "     itemId   itemDescription              earliestDate\n",
              "12       13     bottled water  2014-01-01T00:00:00.000Z\n",
              "30       31      citrus fruit  2014-01-01T00:00:00.000Z\n",
              "102     103  other vegetables  2014-01-01T00:00:00.000Z\n",
              "122     123        rolls/buns  2014-01-02T00:00:00.000Z\n",
              "123     124   root vegetables  2014-01-02T00:00:00.000Z\n",
              "130     131           sausage  2014-01-01T00:00:00.000Z\n",
              "138     139              soda  2014-01-01T00:00:00.000Z\n",
              "156     157    tropical fruit  2014-01-01T00:00:00.000Z\n",
              "164     165        whole milk  2014-01-01T00:00:00.000Z\n",
              "165     166            yogurt  2014-01-01T00:00:00.000Z"
            ]
          },
          "execution_count": 13,
          "metadata": {},
          "output_type": "execute_result"
        }
      ],
      "source": [
        "trending_uri = recommendation_uri_builder(ir_base_uri, 'trending', model, return_count=10)\n",
        "trending_items = return_recommended_items(trending_uri, token)\n",
        "\n",
        "print(\"Trending Items\")\n",
        "products_df[products_df['itemId'].isin(trending_items)]"
      ]
    },
    {
      "cell_type": "markdown",
      "metadata": {
        "nteract": {
          "transient": {
            "deleting": false
          }
        }
      },
      "source": [
        "## New Items\n",
        "\n",
        "Returns the catalog items ranked by release date, newest first.\n",
        "\n"
      ]
    },
    {
      "cell_type": "code",
      "execution_count": 14,
      "metadata": {
        "gather": {
          "logged": 1675376673053
        },
        "jupyter": {
          "outputs_hidden": false,
          "source_hidden": false
        },
        "nteract": {
          "transient": {
            "deleting": false
          }
        }
      },
      "outputs": [
        {
          "name": "stdout",
          "output_type": "stream",
          "text": [
            "Newest Items\n"
          ]
        },
        {
          "data": {
            "text/html": [
              "<div>\n",
              "<style scoped>\n",
              "    .dataframe tbody tr th:only-of-type {\n",
              "        vertical-align: middle;\n",
              "    }\n",
              "\n",
              "    .dataframe tbody tr th {\n",
              "        vertical-align: top;\n",
              "    }\n",
              "\n",
              "    .dataframe thead th {\n",
              "        text-align: right;\n",
              "    }\n",
              "</style>\n",
              "<table border=\"1\" class=\"dataframe\">\n",
              "  <thead>\n",
              "    <tr style=\"text-align: right;\">\n",
              "      <th></th>\n",
              "      <th>itemId</th>\n",
              "      <th>itemDescription</th>\n",
              "      <th>earliestDate</th>\n",
              "    </tr>\n",
              "  </thead>\n",
              "  <tbody>\n",
              "    <tr>\n",
              "      <th>7</th>\n",
              "      <td>8</td>\n",
              "      <td>bathroom cleaner</td>\n",
              "      <td>2014-06-10T00:00:00.000Z</td>\n",
              "    </tr>\n",
              "    <tr>\n",
              "      <th>36</th>\n",
              "      <td>37</td>\n",
              "      <td>cooking chocolate</td>\n",
              "      <td>2014-04-29T00:00:00.000Z</td>\n",
              "    </tr>\n",
              "    <tr>\n",
              "      <th>38</th>\n",
              "      <td>39</td>\n",
              "      <td>cream</td>\n",
              "      <td>2014-04-20T00:00:00.000Z</td>\n",
              "    </tr>\n",
              "    <tr>\n",
              "      <th>55</th>\n",
              "      <td>56</td>\n",
              "      <td>flower soil/fertilizer</td>\n",
              "      <td>2014-07-12T00:00:00.000Z</td>\n",
              "    </tr>\n",
              "    <tr>\n",
              "      <th>57</th>\n",
              "      <td>58</td>\n",
              "      <td>frozen chicken</td>\n",
              "      <td>2014-04-20T00:00:00.000Z</td>\n",
              "    </tr>\n",
              "    <tr>\n",
              "      <th>60</th>\n",
              "      <td>61</td>\n",
              "      <td>frozen fruits</td>\n",
              "      <td>2014-04-20T00:00:00.000Z</td>\n",
              "    </tr>\n",
              "    <tr>\n",
              "      <th>66</th>\n",
              "      <td>67</td>\n",
              "      <td>hair spray</td>\n",
              "      <td>2014-04-01T00:00:00.000Z</td>\n",
              "    </tr>\n",
              "    <tr>\n",
              "      <th>79</th>\n",
              "      <td>80</td>\n",
              "      <td>kitchen utensil</td>\n",
              "      <td>2014-08-14T00:00:00.000Z</td>\n",
              "    </tr>\n",
              "    <tr>\n",
              "      <th>87</th>\n",
              "      <td>88</td>\n",
              "      <td>male cosmetics</td>\n",
              "      <td>2014-03-28T00:00:00.000Z</td>\n",
              "    </tr>\n",
              "    <tr>\n",
              "      <th>100</th>\n",
              "      <td>101</td>\n",
              "      <td>organic products</td>\n",
              "      <td>2014-04-12T00:00:00.000Z</td>\n",
              "    </tr>\n",
              "    <tr>\n",
              "      <th>118</th>\n",
              "      <td>119</td>\n",
              "      <td>ready soups</td>\n",
              "      <td>2014-04-11T00:00:00.000Z</td>\n",
              "    </tr>\n",
              "    <tr>\n",
              "      <th>126</th>\n",
              "      <td>127</td>\n",
              "      <td>salad dressing</td>\n",
              "      <td>2014-04-03T00:00:00.000Z</td>\n",
              "    </tr>\n",
              "    <tr>\n",
              "      <th>134</th>\n",
              "      <td>135</td>\n",
              "      <td>skin care</td>\n",
              "      <td>2014-04-13T00:00:00.000Z</td>\n",
              "    </tr>\n",
              "    <tr>\n",
              "      <th>155</th>\n",
              "      <td>156</td>\n",
              "      <td>toilet cleaner</td>\n",
              "      <td>2014-03-23T00:00:00.000Z</td>\n",
              "    </tr>\n",
              "    <tr>\n",
              "      <th>161</th>\n",
              "      <td>162</td>\n",
              "      <td>whisky</td>\n",
              "      <td>2014-04-05T00:00:00.000Z</td>\n",
              "    </tr>\n",
              "  </tbody>\n",
              "</table>\n",
              "</div>"
            ],
            "text/plain": [
              "     itemId         itemDescription              earliestDate\n",
              "7         8        bathroom cleaner  2014-06-10T00:00:00.000Z\n",
              "36       37       cooking chocolate  2014-04-29T00:00:00.000Z\n",
              "38       39                   cream  2014-04-20T00:00:00.000Z\n",
              "55       56  flower soil/fertilizer  2014-07-12T00:00:00.000Z\n",
              "57       58          frozen chicken  2014-04-20T00:00:00.000Z\n",
              "60       61           frozen fruits  2014-04-20T00:00:00.000Z\n",
              "66       67              hair spray  2014-04-01T00:00:00.000Z\n",
              "79       80         kitchen utensil  2014-08-14T00:00:00.000Z\n",
              "87       88          male cosmetics  2014-03-28T00:00:00.000Z\n",
              "100     101        organic products  2014-04-12T00:00:00.000Z\n",
              "118     119             ready soups  2014-04-11T00:00:00.000Z\n",
              "126     127          salad dressing  2014-04-03T00:00:00.000Z\n",
              "134     135               skin care  2014-04-13T00:00:00.000Z\n",
              "155     156          toilet cleaner  2014-03-23T00:00:00.000Z\n",
              "161     162                  whisky  2014-04-05T00:00:00.000Z"
            ]
          },
          "execution_count": 14,
          "metadata": {},
          "output_type": "execute_result"
        }
      ],
      "source": [
        "new_uri = recommendation_uri_builder(ir_base_uri, 'new', model, return_count=15)\n",
        "new_items = return_recommended_items(new_uri, token)\n",
        "\n",
        "print(\"Newest Items\")\n",
        "products_df[products_df['itemId'].isin(new_items)]"
      ]
    },
    {
      "cell_type": "markdown",
      "metadata": {
        "nteract": {
          "transient": {
            "deleting": false
          }
        }
      },
      "source": [
        "# Item-to-Item Recommendations\n",
        "\n",
        "Item-to-item recommendations leverage user interactions with different items to learn about contextual relationships. Item-to-item relationships are one of the most important scenarios that recommendations can serve, because they power experiences such as Shopping by alternatives, continuous engagement, and discovery and exploration.  For more details, see [Item based lists] (https://learn.microsoft.com/en-us/industry/retail/intelligent-recommendations/contextual-lists)."
      ]
    },
    {
      "cell_type": "markdown",
      "metadata": {
        "nteract": {
          "transient": {
            "deleting": false
          }
        }
      },
      "source": [
        "## Next Best Action - Frequently Bought Together\n",
        "Returns items that are frequently bought along with a single seed item.\n"
      ]
    },
    {
      "cell_type": "code",
      "execution_count": 15,
      "metadata": {
        "gather": {
          "logged": 1675376673652
        },
        "jupyter": {
          "outputs_hidden": false,
          "source_hidden": false
        },
        "nteract": {
          "transient": {
            "deleting": false
          }
        }
      },
      "outputs": [
        {
          "name": "stdout",
          "output_type": "stream",
          "text": [
            "Select one item in our cart\n"
          ]
        },
        {
          "data": {
            "text/html": [
              "<div>\n",
              "<style scoped>\n",
              "    .dataframe tbody tr th:only-of-type {\n",
              "        vertical-align: middle;\n",
              "    }\n",
              "\n",
              "    .dataframe tbody tr th {\n",
              "        vertical-align: top;\n",
              "    }\n",
              "\n",
              "    .dataframe thead th {\n",
              "        text-align: right;\n",
              "    }\n",
              "</style>\n",
              "<table border=\"1\" class=\"dataframe\">\n",
              "  <thead>\n",
              "    <tr style=\"text-align: right;\">\n",
              "      <th></th>\n",
              "      <th>itemId</th>\n",
              "      <th>itemDescription</th>\n",
              "      <th>earliestDate</th>\n",
              "    </tr>\n",
              "  </thead>\n",
              "  <tbody>\n",
              "    <tr>\n",
              "      <th>15</th>\n",
              "      <td>16</td>\n",
              "      <td>butter</td>\n",
              "      <td>2014-01-01T00:00:00.000Z</td>\n",
              "    </tr>\n",
              "  </tbody>\n",
              "</table>\n",
              "</div>"
            ],
            "text/plain": [
              "    itemId itemDescription              earliestDate\n",
              "15      16          butter  2014-01-01T00:00:00.000Z"
            ]
          },
          "execution_count": 15,
          "metadata": {},
          "output_type": "execute_result"
        }
      ],
      "source": [
        "item_seed_id = 16 \n",
        "print(\"Select one item in our cart\")\n",
        "products_df[products_df['itemId']==item_seed_id]"
      ]
    },
    {
      "cell_type": "code",
      "execution_count": 23,
      "metadata": {
        "gather": {
          "logged": 1675376780724
        },
        "jupyter": {
          "outputs_hidden": false,
          "source_hidden": false
        },
        "nteract": {
          "transient": {
            "deleting": false
          }
        }
      },
      "outputs": [
        {
          "name": "stdout",
          "output_type": "stream",
          "text": [
            "5 recommended Next Best Items\n"
          ]
        },
        {
          "data": {
            "text/html": [
              "<div>\n",
              "<style scoped>\n",
              "    .dataframe tbody tr th:only-of-type {\n",
              "        vertical-align: middle;\n",
              "    }\n",
              "\n",
              "    .dataframe tbody tr th {\n",
              "        vertical-align: top;\n",
              "    }\n",
              "\n",
              "    .dataframe thead th {\n",
              "        text-align: right;\n",
              "    }\n",
              "</style>\n",
              "<table border=\"1\" class=\"dataframe\">\n",
              "  <thead>\n",
              "    <tr style=\"text-align: right;\">\n",
              "      <th></th>\n",
              "      <th>itemId</th>\n",
              "      <th>itemDescription</th>\n",
              "      <th>earliestDate</th>\n",
              "    </tr>\n",
              "  </thead>\n",
              "  <tbody>\n",
              "    <tr>\n",
              "      <th>11</th>\n",
              "      <td>12</td>\n",
              "      <td>bottled beer</td>\n",
              "      <td>2014-01-01T00:00:00.000Z</td>\n",
              "    </tr>\n",
              "    <tr>\n",
              "      <th>19</th>\n",
              "      <td>20</td>\n",
              "      <td>candy</td>\n",
              "      <td>2014-01-02T00:00:00.000Z</td>\n",
              "    </tr>\n",
              "    <tr>\n",
              "      <th>64</th>\n",
              "      <td>65</td>\n",
              "      <td>fruit/vegetable juice</td>\n",
              "      <td>2014-01-02T00:00:00.000Z</td>\n",
              "    </tr>\n",
              "    <tr>\n",
              "      <th>131</th>\n",
              "      <td>132</td>\n",
              "      <td>seasonal products</td>\n",
              "      <td>2014-01-09T00:00:00.000Z</td>\n",
              "    </tr>\n",
              "    <tr>\n",
              "      <th>141</th>\n",
              "      <td>142</td>\n",
              "      <td>soups</td>\n",
              "      <td>2014-01-04T00:00:00.000Z</td>\n",
              "    </tr>\n",
              "  </tbody>\n",
              "</table>\n",
              "</div>"
            ],
            "text/plain": [
              "     itemId        itemDescription              earliestDate\n",
              "11       12           bottled beer  2014-01-01T00:00:00.000Z\n",
              "19       20                  candy  2014-01-02T00:00:00.000Z\n",
              "64       65  fruit/vegetable juice  2014-01-02T00:00:00.000Z\n",
              "131     132      seasonal products  2014-01-09T00:00:00.000Z\n",
              "141     142                  soups  2014-01-04T00:00:00.000Z"
            ]
          },
          "execution_count": 23,
          "metadata": {},
          "output_type": "execute_result"
        }
      ],
      "source": [
        "item_count = 5\n",
        "fbt_picks_uri = recommendation_uri_builder(ir_base_uri, 'fbt', model, seed_item = item_seed_id, return_count = item_count)\n",
        "fbt_pick_items = return_recommended_items(fbt_picks_uri, token)\n",
        "\n",
        "print(item_count, \"recommended Next Best Items\")\n",
        "products_df[products_df['itemId'].isin(fbt_pick_items)]"
      ]
    },
    {
      "cell_type": "markdown",
      "metadata": {
        "nteract": {
          "transient": {
            "deleting": false
          }
        }
      },
      "source": [
        "## Next Best - Cart Recommendations\n",
        "\n",
        "Similar to frequently bought together, but based off a set/list of items (e.g. more than 1 item in their cart).\n",
        "\n"
      ]
    },
    {
      "cell_type": "code",
      "execution_count": 17,
      "metadata": {
        "gather": {
          "logged": 1675376674912
        },
        "jupyter": {
          "outputs_hidden": false,
          "source_hidden": false
        },
        "nteract": {
          "transient": {
            "deleting": false
          }
        }
      },
      "outputs": [
        {
          "name": "stdout",
          "output_type": "stream",
          "text": [
            "Several items we have in our cart so far:\n"
          ]
        },
        {
          "data": {
            "text/html": [
              "<div>\n",
              "<style scoped>\n",
              "    .dataframe tbody tr th:only-of-type {\n",
              "        vertical-align: middle;\n",
              "    }\n",
              "\n",
              "    .dataframe tbody tr th {\n",
              "        vertical-align: top;\n",
              "    }\n",
              "\n",
              "    .dataframe thead th {\n",
              "        text-align: right;\n",
              "    }\n",
              "</style>\n",
              "<table border=\"1\" class=\"dataframe\">\n",
              "  <thead>\n",
              "    <tr style=\"text-align: right;\">\n",
              "      <th></th>\n",
              "      <th>itemId</th>\n",
              "      <th>itemDescription</th>\n",
              "      <th>earliestDate</th>\n",
              "    </tr>\n",
              "  </thead>\n",
              "  <tbody>\n",
              "    <tr>\n",
              "      <th>15</th>\n",
              "      <td>16</td>\n",
              "      <td>butter</td>\n",
              "      <td>2014-01-01T00:00:00.000Z</td>\n",
              "    </tr>\n",
              "    <tr>\n",
              "      <th>36</th>\n",
              "      <td>37</td>\n",
              "      <td>cooking chocolate</td>\n",
              "      <td>2014-04-29T00:00:00.000Z</td>\n",
              "    </tr>\n",
              "    <tr>\n",
              "      <th>49</th>\n",
              "      <td>50</td>\n",
              "      <td>domestic eggs</td>\n",
              "      <td>2014-01-01T00:00:00.000Z</td>\n",
              "    </tr>\n",
              "  </tbody>\n",
              "</table>\n",
              "</div>"
            ],
            "text/plain": [
              "    itemId    itemDescription              earliestDate\n",
              "15      16             butter  2014-01-01T00:00:00.000Z\n",
              "36      37  cooking chocolate  2014-04-29T00:00:00.000Z\n",
              "49      50      domestic eggs  2014-01-01T00:00:00.000Z"
            ]
          },
          "execution_count": 17,
          "metadata": {},
          "output_type": "execute_result"
        }
      ],
      "source": [
        "# NOTE: no spaces in the string of item ids \n",
        "baking_items = '16,37,50'  #butter, cooking chocolate, eggs\n",
        "\n",
        "# The seed items \n",
        "print('Several items we have in our cart so far:')\n",
        "int_list = [int(s) for s in baking_items.split(',')]\n",
        "products_df[products_df['itemId'].isin(int_list)]"
      ]
    },
    {
      "cell_type": "markdown",
      "metadata": {
        "nteract": {
          "transient": {
            "deleting": false
          }
        }
      },
      "source": [
        "We've got a baking theme going - what other items should we buy?"
      ]
    },
    {
      "cell_type": "code",
      "execution_count": 18,
      "metadata": {
        "gather": {
          "logged": 1675376675531
        },
        "jupyter": {
          "outputs_hidden": false,
          "source_hidden": false
        },
        "nteract": {
          "transient": {
            "deleting": false
          }
        }
      },
      "outputs": [
        {
          "name": "stdout",
          "output_type": "stream",
          "text": [
            "5 Other items recommended.\n"
          ]
        },
        {
          "data": {
            "text/html": [
              "<div>\n",
              "<style scoped>\n",
              "    .dataframe tbody tr th:only-of-type {\n",
              "        vertical-align: middle;\n",
              "    }\n",
              "\n",
              "    .dataframe tbody tr th {\n",
              "        vertical-align: top;\n",
              "    }\n",
              "\n",
              "    .dataframe thead th {\n",
              "        text-align: right;\n",
              "    }\n",
              "</style>\n",
              "<table border=\"1\" class=\"dataframe\">\n",
              "  <thead>\n",
              "    <tr style=\"text-align: right;\">\n",
              "      <th></th>\n",
              "      <th>itemId</th>\n",
              "      <th>itemDescription</th>\n",
              "      <th>earliestDate</th>\n",
              "    </tr>\n",
              "  </thead>\n",
              "  <tbody>\n",
              "    <tr>\n",
              "      <th>19</th>\n",
              "      <td>20</td>\n",
              "      <td>candy</td>\n",
              "      <td>2014-01-02T00:00:00.000Z</td>\n",
              "    </tr>\n",
              "    <tr>\n",
              "      <th>90</th>\n",
              "      <td>91</td>\n",
              "      <td>meat</td>\n",
              "      <td>2014-01-05T00:00:00.000Z</td>\n",
              "    </tr>\n",
              "    <tr>\n",
              "      <th>141</th>\n",
              "      <td>142</td>\n",
              "      <td>soups</td>\n",
              "      <td>2014-01-04T00:00:00.000Z</td>\n",
              "    </tr>\n",
              "    <tr>\n",
              "      <th>143</th>\n",
              "      <td>144</td>\n",
              "      <td>specialty bar</td>\n",
              "      <td>2014-01-07T00:00:00.000Z</td>\n",
              "    </tr>\n",
              "    <tr>\n",
              "      <th>164</th>\n",
              "      <td>165</td>\n",
              "      <td>whole milk</td>\n",
              "      <td>2014-01-01T00:00:00.000Z</td>\n",
              "    </tr>\n",
              "  </tbody>\n",
              "</table>\n",
              "</div>"
            ],
            "text/plain": [
              "     itemId itemDescription              earliestDate\n",
              "19       20           candy  2014-01-02T00:00:00.000Z\n",
              "90       91            meat  2014-01-05T00:00:00.000Z\n",
              "141     142           soups  2014-01-04T00:00:00.000Z\n",
              "143     144   specialty bar  2014-01-07T00:00:00.000Z\n",
              "164     165      whole milk  2014-01-01T00:00:00.000Z"
            ]
          },
          "execution_count": 18,
          "metadata": {},
          "output_type": "execute_result"
        }
      ],
      "source": [
        "item_count = 5\n",
        "cart_picks_uri = recommendation_uri_builder(ir_base_uri, 'cart', model, seed_items_list = baking_items, return_count = item_count)\n",
        "cart_pick_items = return_recommended_items(cart_picks_uri, token)\n",
        "\n",
        "#Recommendations\n",
        "print(item_count, \"Other items recommended.\")\n",
        "products_df[products_df['itemId'].isin(cart_pick_items)]"
      ]
    },
    {
      "cell_type": "markdown",
      "metadata": {
        "nteract": {
          "transient": {
            "deleting": false
          }
        }
      },
      "source": [
        "Candy still makes sense, this does add speciality bars, whole milk which would likely also be used in baking.  Meat and soups aren't related to baking, but those are frequently bought with these other items."
      ]
    },
    {
      "cell_type": "markdown",
      "metadata": {
        "nteract": {
          "transient": {
            "deleting": false
          }
        }
      },
      "source": [
        "## Similar Items\n",
        "\n",
        "Returns a list of item-to-item recommendations. Recommended items can be similar to the seed item or related in some way, based on the way data is structured and the algorithm.  \n",
        "\n",
        "**Note:** This option is only available if you selected the \"Premium\" feature set for your modeling component.  You could select Textual or Visual similarity (if your data includes images).\n",
        "\n",
        "Because we only have have product titles in the example dataset, these results are likely not as meaningful as they would be if we had a textual description (or images) available.  We will use the Textual similarity variation to demonstrate the API.  "
      ]
    },
    {
      "cell_type": "code",
      "execution_count": 19,
      "metadata": {
        "gather": {
          "logged": 1675376676080
        },
        "jupyter": {
          "outputs_hidden": false,
          "source_hidden": false
        },
        "nteract": {
          "transient": {
            "deleting": false
          }
        }
      },
      "outputs": [
        {
          "name": "stdout",
          "output_type": "stream",
          "text": [
            "Original item\n"
          ]
        },
        {
          "data": {
            "text/html": [
              "<div>\n",
              "<style scoped>\n",
              "    .dataframe tbody tr th:only-of-type {\n",
              "        vertical-align: middle;\n",
              "    }\n",
              "\n",
              "    .dataframe tbody tr th {\n",
              "        vertical-align: top;\n",
              "    }\n",
              "\n",
              "    .dataframe thead th {\n",
              "        text-align: right;\n",
              "    }\n",
              "</style>\n",
              "<table border=\"1\" class=\"dataframe\">\n",
              "  <thead>\n",
              "    <tr style=\"text-align: right;\">\n",
              "      <th></th>\n",
              "      <th>itemId</th>\n",
              "      <th>itemDescription</th>\n",
              "      <th>earliestDate</th>\n",
              "    </tr>\n",
              "  </thead>\n",
              "  <tbody>\n",
              "    <tr>\n",
              "      <th>20</th>\n",
              "      <td>21</td>\n",
              "      <td>canned beer</td>\n",
              "      <td>2014-01-02T00:00:00.000Z</td>\n",
              "    </tr>\n",
              "  </tbody>\n",
              "</table>\n",
              "</div>"
            ],
            "text/plain": [
              "    itemId itemDescription              earliestDate\n",
              "20      21     canned beer  2014-01-02T00:00:00.000Z"
            ]
          },
          "execution_count": 19,
          "metadata": {},
          "output_type": "execute_result"
        }
      ],
      "source": [
        "similar_seed_id = 21  # canned beer\n",
        "print(\"Original item\")\n",
        "products_df[products_df['itemId']==similar_seed_id]"
      ]
    },
    {
      "cell_type": "code",
      "execution_count": 20,
      "metadata": {
        "gather": {
          "logged": 1675376676672
        },
        "jupyter": {
          "outputs_hidden": false,
          "source_hidden": false
        },
        "nteract": {
          "transient": {
            "deleting": false
          }
        }
      },
      "outputs": [
        {
          "name": "stdout",
          "output_type": "stream",
          "text": [
            "5 Similar items (based on text of title):\n"
          ]
        },
        {
          "data": {
            "text/html": [
              "<div>\n",
              "<style scoped>\n",
              "    .dataframe tbody tr th:only-of-type {\n",
              "        vertical-align: middle;\n",
              "    }\n",
              "\n",
              "    .dataframe tbody tr th {\n",
              "        vertical-align: top;\n",
              "    }\n",
              "\n",
              "    .dataframe thead th {\n",
              "        text-align: right;\n",
              "    }\n",
              "</style>\n",
              "<table border=\"1\" class=\"dataframe\">\n",
              "  <thead>\n",
              "    <tr style=\"text-align: right;\">\n",
              "      <th></th>\n",
              "      <th>itemId</th>\n",
              "      <th>itemDescription</th>\n",
              "      <th>earliestDate</th>\n",
              "    </tr>\n",
              "  </thead>\n",
              "  <tbody>\n",
              "    <tr>\n",
              "      <th>11</th>\n",
              "      <td>12</td>\n",
              "      <td>bottled beer</td>\n",
              "      <td>2014-01-01T00:00:00.000Z</td>\n",
              "    </tr>\n",
              "    <tr>\n",
              "      <th>21</th>\n",
              "      <td>22</td>\n",
              "      <td>canned fish</td>\n",
              "      <td>2014-01-19T00:00:00.000Z</td>\n",
              "    </tr>\n",
              "    <tr>\n",
              "      <th>22</th>\n",
              "      <td>23</td>\n",
              "      <td>canned fruit</td>\n",
              "      <td>2014-01-16T00:00:00.000Z</td>\n",
              "    </tr>\n",
              "    <tr>\n",
              "      <th>23</th>\n",
              "      <td>24</td>\n",
              "      <td>canned vegetables</td>\n",
              "      <td>2014-01-23T00:00:00.000Z</td>\n",
              "    </tr>\n",
              "    <tr>\n",
              "      <th>103</th>\n",
              "      <td>104</td>\n",
              "      <td>packaged fruit/vegetables</td>\n",
              "      <td>2014-01-18T00:00:00.000Z</td>\n",
              "    </tr>\n",
              "  </tbody>\n",
              "</table>\n",
              "</div>"
            ],
            "text/plain": [
              "     itemId            itemDescription              earliestDate\n",
              "11       12               bottled beer  2014-01-01T00:00:00.000Z\n",
              "21       22                canned fish  2014-01-19T00:00:00.000Z\n",
              "22       23               canned fruit  2014-01-16T00:00:00.000Z\n",
              "23       24          canned vegetables  2014-01-23T00:00:00.000Z\n",
              "103     104  packaged fruit/vegetables  2014-01-18T00:00:00.000Z"
            ]
          },
          "execution_count": 20,
          "metadata": {},
          "output_type": "execute_result"
        }
      ],
      "source": [
        "item_count = 5\n",
        "similar_uri = recommendation_uri_builder(ir_base_uri, 'similar_text', model, seed_item = similar_seed_id, return_count = item_count)\n",
        "similar_items = return_recommended_items(similar_uri, token)\n",
        "\n",
        "print(item_count, 'Similar items (based on text of title):')\n",
        "products_df[products_df['itemId'].isin(similar_items)]"
      ]
    },
    {
      "cell_type": "markdown",
      "metadata": {
        "nteract": {
          "transient": {
            "deleting": false
          }
        }
      },
      "source": [
        "We see a lot of canned items, as well as another type of beer, showing the similarity based on text of titles.  However the usefulness of this information would be improved with more textual data available (product descriptions, categories, ingredients).  Also, it could be be helfpul to add filters/categories to your product catalog and use those to tailor the similarities further.  For more information on using these in Intelligent Recommendations see [Fine Tune Results](https://learn.microsoft.com/en-us/industry/retail/intelligent-recommendations/fine-tune-results)."
      ]
    },
    {
      "cell_type": "markdown",
      "metadata": {
        "nteract": {
          "transient": {
            "deleting": false
          }
        }
      },
      "source": [
        "# User-to-Item Recommendations\n",
        "\n",
        "\n",
        "User-to-item recommendations offer personalized suggestions based on similarities between items selected from a full user history, recent activity, or session activity.  For more details, see [Personalized Recommendations] (https://learn.microsoft.com/en-us/industry/retail/intelligent-recommendations/personalized-recommendations)."
      ]
    },
    {
      "cell_type": "markdown",
      "metadata": {
        "nteract": {
          "transient": {
            "deleting": false
          }
        }
      },
      "source": [
        "## User Picks\n",
        "Returns personal picks, or items from the catalog that the user is likely to interact with based on their historical picks."
      ]
    },
    {
      "cell_type": "code",
      "execution_count": 21,
      "metadata": {
        "gather": {
          "logged": 1675376677254
        },
        "jupyter": {
          "outputs_hidden": false,
          "source_hidden": false
        },
        "nteract": {
          "transient": {
            "deleting": false
          }
        }
      },
      "outputs": [
        {
          "name": "stdout",
          "output_type": "stream",
          "text": [
            "User 1000 has purchased these items in the past:\n"
          ]
        },
        {
          "data": {
            "text/html": [
              "<div>\n",
              "<style scoped>\n",
              "    .dataframe tbody tr th:only-of-type {\n",
              "        vertical-align: middle;\n",
              "    }\n",
              "\n",
              "    .dataframe tbody tr th {\n",
              "        vertical-align: top;\n",
              "    }\n",
              "\n",
              "    .dataframe thead th {\n",
              "        text-align: right;\n",
              "    }\n",
              "</style>\n",
              "<table border=\"1\" class=\"dataframe\">\n",
              "  <thead>\n",
              "    <tr style=\"text-align: right;\">\n",
              "      <th></th>\n",
              "      <th>basketId</th>\n",
              "      <th>Member_number</th>\n",
              "      <th>Date</th>\n",
              "      <th>itemId</th>\n",
              "      <th>itemDescription</th>\n",
              "    </tr>\n",
              "  </thead>\n",
              "  <tbody>\n",
              "    <tr>\n",
              "      <th>0</th>\n",
              "      <td>1</td>\n",
              "      <td>1000</td>\n",
              "      <td>2014-06-24T00:00:00.000Z</td>\n",
              "      <td>106</td>\n",
              "      <td>pastry</td>\n",
              "    </tr>\n",
              "    <tr>\n",
              "      <th>1</th>\n",
              "      <td>1</td>\n",
              "      <td>1000</td>\n",
              "      <td>2014-06-24T00:00:00.000Z</td>\n",
              "      <td>129</td>\n",
              "      <td>salty snack</td>\n",
              "    </tr>\n",
              "    <tr>\n",
              "      <th>2</th>\n",
              "      <td>1</td>\n",
              "      <td>1000</td>\n",
              "      <td>2014-06-24T00:00:00.000Z</td>\n",
              "      <td>165</td>\n",
              "      <td>whole milk</td>\n",
              "    </tr>\n",
              "    <tr>\n",
              "      <th>3</th>\n",
              "      <td>2</td>\n",
              "      <td>1000</td>\n",
              "      <td>2015-03-15T00:00:00.000Z</td>\n",
              "      <td>131</td>\n",
              "      <td>sausage</td>\n",
              "    </tr>\n",
              "    <tr>\n",
              "      <th>4</th>\n",
              "      <td>2</td>\n",
              "      <td>1000</td>\n",
              "      <td>2015-03-15T00:00:00.000Z</td>\n",
              "      <td>133</td>\n",
              "      <td>semi-finished bread</td>\n",
              "    </tr>\n",
              "    <tr>\n",
              "      <th>5</th>\n",
              "      <td>2</td>\n",
              "      <td>1000</td>\n",
              "      <td>2015-03-15T00:00:00.000Z</td>\n",
              "      <td>165</td>\n",
              "      <td>whole milk</td>\n",
              "    </tr>\n",
              "    <tr>\n",
              "      <th>6</th>\n",
              "      <td>2</td>\n",
              "      <td>1000</td>\n",
              "      <td>2015-03-15T00:00:00.000Z</td>\n",
              "      <td>166</td>\n",
              "      <td>yogurt</td>\n",
              "    </tr>\n",
              "    <tr>\n",
              "      <th>7</th>\n",
              "      <td>3</td>\n",
              "      <td>1000</td>\n",
              "      <td>2015-05-27T00:00:00.000Z</td>\n",
              "      <td>109</td>\n",
              "      <td>pickled vegetables</td>\n",
              "    </tr>\n",
              "    <tr>\n",
              "      <th>8</th>\n",
              "      <td>3</td>\n",
              "      <td>1000</td>\n",
              "      <td>2015-05-27T00:00:00.000Z</td>\n",
              "      <td>139</td>\n",
              "      <td>soda</td>\n",
              "    </tr>\n",
              "    <tr>\n",
              "      <th>9</th>\n",
              "      <td>4</td>\n",
              "      <td>1000</td>\n",
              "      <td>2015-07-24T00:00:00.000Z</td>\n",
              "      <td>21</td>\n",
              "      <td>canned beer</td>\n",
              "    </tr>\n",
              "    <tr>\n",
              "      <th>10</th>\n",
              "      <td>4</td>\n",
              "      <td>1000</td>\n",
              "      <td>2015-07-24T00:00:00.000Z</td>\n",
              "      <td>93</td>\n",
              "      <td>misc. beverages</td>\n",
              "    </tr>\n",
              "    <tr>\n",
              "      <th>11</th>\n",
              "      <td>5</td>\n",
              "      <td>1000</td>\n",
              "      <td>2015-11-25T00:00:00.000Z</td>\n",
              "      <td>74</td>\n",
              "      <td>hygiene articles</td>\n",
              "    </tr>\n",
              "    <tr>\n",
              "      <th>12</th>\n",
              "      <td>5</td>\n",
              "      <td>1000</td>\n",
              "      <td>2015-11-25T00:00:00.000Z</td>\n",
              "      <td>131</td>\n",
              "      <td>sausage</td>\n",
              "    </tr>\n",
              "  </tbody>\n",
              "</table>\n",
              "</div>"
            ],
            "text/plain": [
              "    basketId  Member_number                      Date  itemId  \\\n",
              "0          1           1000  2014-06-24T00:00:00.000Z     106   \n",
              "1          1           1000  2014-06-24T00:00:00.000Z     129   \n",
              "2          1           1000  2014-06-24T00:00:00.000Z     165   \n",
              "3          2           1000  2015-03-15T00:00:00.000Z     131   \n",
              "4          2           1000  2015-03-15T00:00:00.000Z     133   \n",
              "5          2           1000  2015-03-15T00:00:00.000Z     165   \n",
              "6          2           1000  2015-03-15T00:00:00.000Z     166   \n",
              "7          3           1000  2015-05-27T00:00:00.000Z     109   \n",
              "8          3           1000  2015-05-27T00:00:00.000Z     139   \n",
              "9          4           1000  2015-07-24T00:00:00.000Z      21   \n",
              "10         4           1000  2015-07-24T00:00:00.000Z      93   \n",
              "11         5           1000  2015-11-25T00:00:00.000Z      74   \n",
              "12         5           1000  2015-11-25T00:00:00.000Z     131   \n",
              "\n",
              "        itemDescription  \n",
              "0                pastry  \n",
              "1           salty snack  \n",
              "2            whole milk  \n",
              "3               sausage  \n",
              "4   semi-finished bread  \n",
              "5            whole milk  \n",
              "6                yogurt  \n",
              "7    pickled vegetables  \n",
              "8                  soda  \n",
              "9           canned beer  \n",
              "10      misc. beverages  \n",
              "11     hygiene articles  \n",
              "12              sausage  "
            ]
          },
          "execution_count": 21,
          "metadata": {},
          "output_type": "execute_result"
        }
      ],
      "source": [
        "user_seed_id = 1000 \n",
        "print('User', user_seed_id, 'has purchased these items in the past:')\n",
        "orders_df[orders_df['Member_number'] == user_seed_id]"
      ]
    },
    {
      "cell_type": "code",
      "execution_count": 22,
      "metadata": {
        "gather": {
          "logged": 1675376677709
        },
        "jupyter": {
          "outputs_hidden": false,
          "source_hidden": false
        },
        "nteract": {
          "transient": {
            "deleting": false
          }
        }
      },
      "outputs": [
        {
          "name": "stdout",
          "output_type": "stream",
          "text": [
            "5 more items to suggest based on their personal history of purchases.\n"
          ]
        },
        {
          "data": {
            "text/html": [
              "<div>\n",
              "<style scoped>\n",
              "    .dataframe tbody tr th:only-of-type {\n",
              "        vertical-align: middle;\n",
              "    }\n",
              "\n",
              "    .dataframe tbody tr th {\n",
              "        vertical-align: top;\n",
              "    }\n",
              "\n",
              "    .dataframe thead th {\n",
              "        text-align: right;\n",
              "    }\n",
              "</style>\n",
              "<table border=\"1\" class=\"dataframe\">\n",
              "  <thead>\n",
              "    <tr style=\"text-align: right;\">\n",
              "      <th></th>\n",
              "      <th>itemId</th>\n",
              "      <th>itemDescription</th>\n",
              "      <th>earliestDate</th>\n",
              "    </tr>\n",
              "  </thead>\n",
              "  <tbody>\n",
              "    <tr>\n",
              "      <th>23</th>\n",
              "      <td>24</td>\n",
              "      <td>canned vegetables</td>\n",
              "      <td>2014-01-23T00:00:00.000Z</td>\n",
              "    </tr>\n",
              "    <tr>\n",
              "      <th>71</th>\n",
              "      <td>72</td>\n",
              "      <td>honey</td>\n",
              "      <td>2014-01-03T00:00:00.000Z</td>\n",
              "    </tr>\n",
              "    <tr>\n",
              "      <th>102</th>\n",
              "      <td>103</td>\n",
              "      <td>other vegetables</td>\n",
              "      <td>2014-01-01T00:00:00.000Z</td>\n",
              "    </tr>\n",
              "    <tr>\n",
              "      <th>125</th>\n",
              "      <td>126</td>\n",
              "      <td>rum</td>\n",
              "      <td>2014-01-06T00:00:00.000Z</td>\n",
              "    </tr>\n",
              "    <tr>\n",
              "      <th>138</th>\n",
              "      <td>139</td>\n",
              "      <td>soda</td>\n",
              "      <td>2014-01-01T00:00:00.000Z</td>\n",
              "    </tr>\n",
              "  </tbody>\n",
              "</table>\n",
              "</div>"
            ],
            "text/plain": [
              "     itemId    itemDescription              earliestDate\n",
              "23       24  canned vegetables  2014-01-23T00:00:00.000Z\n",
              "71       72              honey  2014-01-03T00:00:00.000Z\n",
              "102     103   other vegetables  2014-01-01T00:00:00.000Z\n",
              "125     126                rum  2014-01-06T00:00:00.000Z\n",
              "138     139               soda  2014-01-01T00:00:00.000Z"
            ]
          },
          "execution_count": 22,
          "metadata": {},
          "output_type": "execute_result"
        }
      ],
      "source": [
        "item_count = 5\n",
        "user_picks_uri = recommendation_uri_builder(ir_base_uri, 'picks', model, seed_user = user_seed_id, return_count = item_count)\n",
        "user_pick_items = return_recommended_items(user_picks_uri, token)\n",
        "\n",
        "print(item_count, 'more items to suggest based on their personal history of purchases.')\n",
        "products_df[products_df['itemId'].isin(user_pick_items)]"
      ]
    }
  ],
  "metadata": {
    "kernel_info": {
      "name": "python3"
    },
    "kernelspec": {
      "display_name": "Python 3 (ipykernel)",
      "language": "python",
      "name": "python3"
    },
    "language_info": {
      "codemirror_mode": {
        "name": "ipython",
        "version": 3
      },
      "file_extension": ".py",
      "mimetype": "text/x-python",
      "name": "python",
      "nbconvert_exporter": "python",
      "pygments_lexer": "ipython3",
      "version": "3.8.5"
    },
    "microsoft": {
      "host": {
        "AzureML": {
          "notebookHasBeenCompleted": true
        }
      }
    },
    "nteract": {
      "version": "nteract-front-end@1.0.0"
    }
  },
  "nbformat": 4,
  "nbformat_minor": 0
}
