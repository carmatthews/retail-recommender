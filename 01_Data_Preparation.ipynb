{
  "cells": [
    {
      "cell_type": "markdown",
      "metadata": {},
      "source": [
        "# Introduction\n",
        "\n",
        "Retailing began with shopkeepers who would welcome in people from the neighborhood and then come to learn their customers’ needs and preferences.\n",
        "\n",
        "Now in our constantly connected world, devices have become a proxy - but there is still a need to get to know your customers.  Devices provide context, helping us learn what matters to a customer in a particular location and at a particular time. The right message at the right moment is the next level in customer service — it can quickly and easily turn intent into action.\n",
        "\n",
        "People are constantly looking for product information, deals, local availability and local discounts online — and retailers who aren’t there to supply the right information when people raise their virtual hand will lose out.\n",
        "\n",
        "The Retail Recommender Solution Accelerator was developed to use intelligent and automated means to provide personalized product recommendations to users based on their purchase history, product selection in the e-commerce channel, or their activity in a physical store.\n",
        "\n",
        "The architecture and methodology extend to other key areas where personalization can enhance customer engagement - email campaigns, discounts/offers, content suggestions, even application configuration/menu options.   Anywhere choices can be made to provide a more customized experience for your customers.\n",
        "\n",
        "For this solution accelerator we will use an example of a grocery store where we want to personalize suggestions to customers for items they might want to add to their basket/order based on their preferences and context but also leveraging learnings from other customers and previous purchases.  \n",
        "\n",
        "\n"
      ]
    },
    {
      "cell_type": "markdown",
      "metadata": {
        "nteract": {
          "transient": {
            "deleting": false
          }
        }
      },
      "source": [
        "# Prerequisites\n",
        "\n",
        "Confirm the following **3 steps** are complete prior to proceeding through the notebook.\n",
        "\n",
        "**1.** These notebooks are intended to be used with Azure Machine Learning services, follow these instructions [Get Started with Azure Machine Learning Worskapce](https://docs.microsoft.com/en-us/azure/machine-learning/quickstart-create-resources) to set this up.\n",
        "\n",
        "\n",
        "**2.** You will need an Azure Storage Account for managing the files used by the Azure services in the Retail Recommender.  You can use an existing account, or follow these instructions to [Create a storage account](https://docs.microsoft.com/en-us/azure/storage/common/storage-account-create?toc=%2Fazure%2Fstorage%2Fblobs%2Ftoc.json&tabs=azure-portal).  **NOTE:** The default settings and locally-redundant storage are sufficient for running this example, but you might want to modify this based on your organization's data policies.  \n",
        "\n",
        "\n",
        "**3.** Configure the storage account for use with Intelligent Recommendations.  Follow steps 1-3 of [Set up a container, root folder, and log folder](https://docs.microsoft.com/en-us/industry/retail/intelligent-recommendations/deploy-data-lake-storage#set-up-a-container-root-folder-and-log-folder), leaving the default option for the container (Private Access).  You only need to add the root and log folders now, we will add the others later. \n",
        "\n",
        "**NOTE:**  In this example we named our root folder \"groceries\" rather than \"ir_root\".  If you change this, you will need to update the references in these notebooks.\n",
        "\n",
        "**TIP:**  Folders in a container can only be created by adding a file and specifying a folder name.  We suggest creating a blank text file, then loading it using the browser/portal or Azure Storage Explorer.  If you use the portal, select to upload the file, then expand the \"Advanced\" option when you upload it to specifying to create a folder at the same time.  \n",
        "\n",
        "\n",
        "![image-alt-text](./images/uploadfile_addfolder.png)\n",
        "\n",
        "\n",
        "**3.** Note the Security Key for you Blob Storage account, instructions to obtain a key are [here](https://docs.microsoft.com/en-us/azure/storage/common/storage-account-keys-manage?tabs=azure-portal#view-account-access-keys)."
      ]
    },
    {
      "cell_type": "markdown",
      "metadata": {
        "nteract": {
          "transient": {
            "deleting": false
          }
        }
      },
      "source": [
        "# Setup & Configuration"
      ]
    },
    {
      "cell_type": "markdown",
      "metadata": {
        "nteract": {
          "transient": {
            "deleting": false
          }
        }
      },
      "source": [
        "The following steps will setup the environment we will work in to prepare our sample data files and load them to the storage account created in the prerequisites."
      ]
    },
    {
      "cell_type": "code",
      "execution_count": 1,
      "metadata": {
        "gather": {
          "logged": 1675374222811
        }
      },
      "outputs": [],
      "source": [
        "import numpy as np\n",
        "import pandas as pd\n",
        "import matplotlib.pyplot as plt\n",
        "import datetime\n",
        "%matplotlib inline\n",
        "\n",
        "import os"
      ]
    },
    {
      "cell_type": "markdown",
      "metadata": {
        "nteract": {
          "transient": {
            "deleting": false
          }
        }
      },
      "source": [
        "The following variables should be set based on the Azure Storage Account you created in the prerequisites."
      ]
    },
    {
      "cell_type": "code",
      "execution_count": 2,
      "metadata": {
        "gather": {
          "logged": 1675374223361
        },
        "jupyter": {
          "outputs_hidden": false,
          "source_hidden": false
        },
        "nteract": {
          "transient": {
            "deleting": false
          }
        }
      },
      "outputs": [],
      "source": [
        "account_name=os.getenv(\"BLOB_ACCOUNTNAME\", \"Your_Storage_Account_Name\") # Storage account name\n",
        "container_name=os.getenv(\"BLOB_CONTAINER\", \"Your_Container_Name\") # Name of Azure blob container\n",
        "account_key=os.getenv(\"BLOB_ACCOUNT_KEY\", \"Your_Storage_Account_Key\") # Storage account access key\n",
        "\n",
        "# The root folder you created in the container for Intelligent Recommendations\n",
        "intelligent_recs_path = 'groceries'"
      ]
    },
    {
      "cell_type": "markdown",
      "metadata": {
        "nteract": {
          "transient": {
            "deleting": false
          }
        }
      },
      "source": [
        "# Data Preparation"
      ]
    },
    {
      "cell_type": "markdown",
      "metadata": {},
      "source": [
        "This notebook takes example grocery purchase data and transforms it into the file formats used for building a recommender system using the Intelligent Recommendations service.  We will assume the orders are collected from a web or mobile application that customers use to order online from a grocery store. The customer interactions we are leveraging in this example is a purchase of an item. \n",
        "\n",
        "We want to make suggestions for other items they might want to add to their basket based on their preferences, environmental context (weather, time of day, etc.), along with learning from their purchase history and other customer's purchases.  For example, other customers like you also buy, or when they buy item x,y,z they also buy item a and c.\n",
        "\n",
        "**Details of the dataset**\n",
        "\n",
        "The dataset has 38,765 rows of items purchaed by grocery shoppers.  The dataset was sourced from https://www.kaggle.com/datasets/heeraldedhia/groceries-dataset \n",
        "\n",
        "It consists of 3 columns:\n",
        "-   Member_number - an identifier for a customer.\n",
        "-   Date - the date the member purchased the items, each Member_number + Date combo is an order.\n",
        "-   itemDescription - the textual description of the item purchased\n",
        "\n",
        "Customers will have multiple orders on different days, so we get a history of their purchase patterns.\n"
      ]
    },
    {
      "cell_type": "markdown",
      "metadata": {
        "nteract": {
          "transient": {
            "deleting": false
          }
        }
      },
      "source": [
        "## Import Orders Data"
      ]
    },
    {
      "cell_type": "code",
      "execution_count": 4,
      "metadata": {
        "gather": {
          "logged": 1675374223925
        },
        "jupyter": {
          "outputs_hidden": false,
          "source_hidden": false
        },
        "nteract": {
          "transient": {
            "deleting": false
          }
        }
      },
      "outputs": [
        {
          "name": "stdout",
          "output_type": "stream",
          "text": [
            "(38765, 3)\n"
          ]
        },
        {
          "data": {
            "text/html": [
              "<div>\n",
              "<style scoped>\n",
              "    .dataframe tbody tr th:only-of-type {\n",
              "        vertical-align: middle;\n",
              "    }\n",
              "\n",
              "    .dataframe tbody tr th {\n",
              "        vertical-align: top;\n",
              "    }\n",
              "\n",
              "    .dataframe thead th {\n",
              "        text-align: right;\n",
              "    }\n",
              "</style>\n",
              "<table border=\"1\" class=\"dataframe\">\n",
              "  <thead>\n",
              "    <tr style=\"text-align: right;\">\n",
              "      <th></th>\n",
              "      <th>Member_number</th>\n",
              "      <th>Date</th>\n",
              "      <th>itemDescription</th>\n",
              "    </tr>\n",
              "  </thead>\n",
              "  <tbody>\n",
              "    <tr>\n",
              "      <th>0</th>\n",
              "      <td>1808</td>\n",
              "      <td>21-07-2015</td>\n",
              "      <td>tropical fruit</td>\n",
              "    </tr>\n",
              "    <tr>\n",
              "      <th>1</th>\n",
              "      <td>2552</td>\n",
              "      <td>05-01-2015</td>\n",
              "      <td>whole milk</td>\n",
              "    </tr>\n",
              "    <tr>\n",
              "      <th>2</th>\n",
              "      <td>2300</td>\n",
              "      <td>19-09-2015</td>\n",
              "      <td>pip fruit</td>\n",
              "    </tr>\n",
              "    <tr>\n",
              "      <th>3</th>\n",
              "      <td>1187</td>\n",
              "      <td>12-12-2015</td>\n",
              "      <td>other vegetables</td>\n",
              "    </tr>\n",
              "    <tr>\n",
              "      <th>4</th>\n",
              "      <td>3037</td>\n",
              "      <td>01-02-2015</td>\n",
              "      <td>whole milk</td>\n",
              "    </tr>\n",
              "  </tbody>\n",
              "</table>\n",
              "</div>"
            ],
            "text/plain": [
              "   Member_number        Date   itemDescription\n",
              "0           1808  21-07-2015    tropical fruit\n",
              "1           2552  05-01-2015        whole milk\n",
              "2           2300  19-09-2015         pip fruit\n",
              "3           1187  12-12-2015  other vegetables\n",
              "4           3037  01-02-2015        whole milk"
            ]
          },
          "execution_count": 4,
          "metadata": {},
          "output_type": "execute_result"
        }
      ],
      "source": [
        "# Setup supporting dataasets\n",
        "orders_df =pd.read_csv('data/Groceries_dataset.csv')\n",
        "print(orders_df.shape)\n",
        "orders_df.head()"
      ]
    },
    {
      "cell_type": "code",
      "execution_count": 5,
      "metadata": {
        "gather": {
          "logged": 1675374224244
        },
        "jupyter": {
          "outputs_hidden": false,
          "source_hidden": false
        },
        "nteract": {
          "transient": {
            "deleting": false
          }
        }
      },
      "outputs": [
        {
          "data": {
            "text/plain": [
              "Member_number      3898\n",
              "Date                728\n",
              "itemDescription     167\n",
              "dtype: int64"
            ]
          },
          "execution_count": 5,
          "metadata": {},
          "output_type": "execute_result"
        }
      ],
      "source": [
        "orders_df.nunique()"
      ]
    },
    {
      "cell_type": "markdown",
      "metadata": {
        "nteract": {
          "transient": {
            "deleting": false
          }
        }
      },
      "source": [
        "We have 167 customers, and 3898 individual items we will be working with that were purchased multiple times in 728 different orders. "
      ]
    },
    {
      "cell_type": "markdown",
      "metadata": {
        "nteract": {
          "transient": {
            "deleting": false
          }
        }
      },
      "source": [
        "Setup the dates - Intelligent Recommendations requires this specific format.  Since we don't have time available in our data we will make these 0's."
      ]
    },
    {
      "cell_type": "code",
      "execution_count": 6,
      "metadata": {
        "gather": {
          "logged": 1675374228953
        },
        "jupyter": {
          "outputs_hidden": false,
          "source_hidden": false
        },
        "nteract": {
          "transient": {
            "deleting": false
          }
        }
      },
      "outputs": [
        {
          "data": {
            "text/html": [
              "<div>\n",
              "<style scoped>\n",
              "    .dataframe tbody tr th:only-of-type {\n",
              "        vertical-align: middle;\n",
              "    }\n",
              "\n",
              "    .dataframe tbody tr th {\n",
              "        vertical-align: top;\n",
              "    }\n",
              "\n",
              "    .dataframe thead th {\n",
              "        text-align: right;\n",
              "    }\n",
              "</style>\n",
              "<table border=\"1\" class=\"dataframe\">\n",
              "  <thead>\n",
              "    <tr style=\"text-align: right;\">\n",
              "      <th></th>\n",
              "      <th>Member_number</th>\n",
              "      <th>Date</th>\n",
              "      <th>itemDescription</th>\n",
              "    </tr>\n",
              "  </thead>\n",
              "  <tbody>\n",
              "    <tr>\n",
              "      <th>0</th>\n",
              "      <td>1808</td>\n",
              "      <td>2015-07-21T00:00:00.000Z</td>\n",
              "      <td>tropical fruit</td>\n",
              "    </tr>\n",
              "    <tr>\n",
              "      <th>1</th>\n",
              "      <td>2552</td>\n",
              "      <td>2015-01-05T00:00:00.000Z</td>\n",
              "      <td>whole milk</td>\n",
              "    </tr>\n",
              "    <tr>\n",
              "      <th>2</th>\n",
              "      <td>2300</td>\n",
              "      <td>2015-09-19T00:00:00.000Z</td>\n",
              "      <td>pip fruit</td>\n",
              "    </tr>\n",
              "    <tr>\n",
              "      <th>3</th>\n",
              "      <td>1187</td>\n",
              "      <td>2015-12-12T00:00:00.000Z</td>\n",
              "      <td>other vegetables</td>\n",
              "    </tr>\n",
              "    <tr>\n",
              "      <th>4</th>\n",
              "      <td>3037</td>\n",
              "      <td>2015-02-01T00:00:00.000Z</td>\n",
              "      <td>whole milk</td>\n",
              "    </tr>\n",
              "    <tr>\n",
              "      <th>...</th>\n",
              "      <td>...</td>\n",
              "      <td>...</td>\n",
              "      <td>...</td>\n",
              "    </tr>\n",
              "    <tr>\n",
              "      <th>38760</th>\n",
              "      <td>4471</td>\n",
              "      <td>2014-10-08T00:00:00.000Z</td>\n",
              "      <td>sliced cheese</td>\n",
              "    </tr>\n",
              "    <tr>\n",
              "      <th>38761</th>\n",
              "      <td>2022</td>\n",
              "      <td>2014-02-23T00:00:00.000Z</td>\n",
              "      <td>candy</td>\n",
              "    </tr>\n",
              "    <tr>\n",
              "      <th>38762</th>\n",
              "      <td>1097</td>\n",
              "      <td>2014-04-16T00:00:00.000Z</td>\n",
              "      <td>cake bar</td>\n",
              "    </tr>\n",
              "    <tr>\n",
              "      <th>38763</th>\n",
              "      <td>1510</td>\n",
              "      <td>2014-12-03T00:00:00.000Z</td>\n",
              "      <td>fruit/vegetable juice</td>\n",
              "    </tr>\n",
              "    <tr>\n",
              "      <th>38764</th>\n",
              "      <td>1521</td>\n",
              "      <td>2014-12-26T00:00:00.000Z</td>\n",
              "      <td>cat food</td>\n",
              "    </tr>\n",
              "  </tbody>\n",
              "</table>\n",
              "<p>38765 rows × 3 columns</p>\n",
              "</div>"
            ],
            "text/plain": [
              "       Member_number                      Date        itemDescription\n",
              "0               1808  2015-07-21T00:00:00.000Z         tropical fruit\n",
              "1               2552  2015-01-05T00:00:00.000Z             whole milk\n",
              "2               2300  2015-09-19T00:00:00.000Z              pip fruit\n",
              "3               1187  2015-12-12T00:00:00.000Z       other vegetables\n",
              "4               3037  2015-02-01T00:00:00.000Z             whole milk\n",
              "...              ...                       ...                    ...\n",
              "38760           4471  2014-10-08T00:00:00.000Z          sliced cheese\n",
              "38761           2022  2014-02-23T00:00:00.000Z                  candy\n",
              "38762           1097  2014-04-16T00:00:00.000Z               cake bar\n",
              "38763           1510  2014-12-03T00:00:00.000Z  fruit/vegetable juice\n",
              "38764           1521  2014-12-26T00:00:00.000Z               cat food\n",
              "\n",
              "[38765 rows x 3 columns]"
            ]
          },
          "execution_count": 6,
          "metadata": {},
          "output_type": "execute_result"
        }
      ],
      "source": [
        "orders_df['Date'] = orders_df['Date'].apply(pd.to_datetime, format='%d-%m-%Y') \n",
        "orders_df['Date'] = orders_df['Date'].dt.strftime('%Y-%m-%d')\n",
        "orders_df['Date'] = orders_df['Date'] + \"T00:00:00.000Z\"\n",
        "orders_df"
      ]
    },
    {
      "cell_type": "markdown",
      "metadata": {
        "nteract": {
          "transient": {
            "deleting": false
          }
        }
      },
      "source": [
        "## Catalog - Items & Variants\n",
        "\n",
        "Items (and Variants) represent the content, products, offers, etc. that we have available to recommend.  Variants are a subset or grouping of items that inherit from a parent/higher level item.  \n",
        "\n",
        "[Items & Variants Documentation](https://docs.microsoft.com/en-us/industry/retail/intelligent-recommendations/catalog-data-entity#items-and-variants)"
      ]
    },
    {
      "cell_type": "markdown",
      "metadata": {
        "nteract": {
          "transient": {
            "deleting": false
          }
        }
      },
      "source": [
        "The only mandatory field is the **ItemId**, everything else is optional.  Additional catalog features can be utilized by intelligent recommendations - including item images, availabilities, filters, other groupings/categorization.  See the [Catalog Data Entities Documentation](https://docs.microsoft.com/en-us/industry/retail/intelligent-recommendations/catalog-data-entity) for more details on setting these up.\n",
        "\n",
        "Example dataset:\n",
        "\n",
        "|ItemId|ItemVariantId|Title|Description|Release Date\n",
        "|--|--|--|--|--|\n",
        "|Item1||||2018-05-15T13:30:00.000Z| \n",
        "|Item1|Item1Var1|Black Sunglasses|Black sunglasses for children|| \n",
        "|Item1|Item1Var2|Brown Sunglasses|Brown sunglasses for adults|2018-08-01T10:45:00.000Z| \n",
        "|Item2||Glasses Cleaning Cloth||2019-09-20T18:45:00.000Z|\n",
        "\n",
        "\n",
        "For our scenario, we will just setup a catalog of items.   - the products that a customer has purchased.  We will take all the unique itemDescriptions, and use the minimum order date as the \"Release Date\", and also add an itemId we will reference as the identifer for the item."
      ]
    },
    {
      "cell_type": "code",
      "execution_count": 7,
      "metadata": {
        "gather": {
          "logged": 1675374229819
        },
        "jupyter": {
          "outputs_hidden": false,
          "source_hidden": false
        },
        "nteract": {
          "transient": {
            "deleting": false
          }
        }
      },
      "outputs": [
        {
          "name": "stdout",
          "output_type": "stream",
          "text": [
            "(167, 3)\n"
          ]
        },
        {
          "data": {
            "text/html": [
              "<div>\n",
              "<style scoped>\n",
              "    .dataframe tbody tr th:only-of-type {\n",
              "        vertical-align: middle;\n",
              "    }\n",
              "\n",
              "    .dataframe tbody tr th {\n",
              "        vertical-align: top;\n",
              "    }\n",
              "\n",
              "    .dataframe thead th {\n",
              "        text-align: right;\n",
              "    }\n",
              "</style>\n",
              "<table border=\"1\" class=\"dataframe\">\n",
              "  <thead>\n",
              "    <tr style=\"text-align: right;\">\n",
              "      <th></th>\n",
              "      <th>itemId</th>\n",
              "      <th>itemDescription</th>\n",
              "      <th>earliestDate</th>\n",
              "    </tr>\n",
              "  </thead>\n",
              "  <tbody>\n",
              "    <tr>\n",
              "      <th>0</th>\n",
              "      <td>1</td>\n",
              "      <td>Instant food products</td>\n",
              "      <td>2014-01-01T00:00:00.000Z</td>\n",
              "    </tr>\n",
              "    <tr>\n",
              "      <th>1</th>\n",
              "      <td>2</td>\n",
              "      <td>UHT-milk</td>\n",
              "      <td>2014-01-02T00:00:00.000Z</td>\n",
              "    </tr>\n",
              "    <tr>\n",
              "      <th>2</th>\n",
              "      <td>3</td>\n",
              "      <td>abrasive cleaner</td>\n",
              "      <td>2014-01-21T00:00:00.000Z</td>\n",
              "    </tr>\n",
              "    <tr>\n",
              "      <th>3</th>\n",
              "      <td>4</td>\n",
              "      <td>artif. sweetener</td>\n",
              "      <td>2014-02-10T00:00:00.000Z</td>\n",
              "    </tr>\n",
              "    <tr>\n",
              "      <th>4</th>\n",
              "      <td>5</td>\n",
              "      <td>baby cosmetics</td>\n",
              "      <td>2014-01-09T00:00:00.000Z</td>\n",
              "    </tr>\n",
              "    <tr>\n",
              "      <th>5</th>\n",
              "      <td>6</td>\n",
              "      <td>bags</td>\n",
              "      <td>2014-03-20T00:00:00.000Z</td>\n",
              "    </tr>\n",
              "    <tr>\n",
              "      <th>6</th>\n",
              "      <td>7</td>\n",
              "      <td>baking powder</td>\n",
              "      <td>2014-01-05T00:00:00.000Z</td>\n",
              "    </tr>\n",
              "    <tr>\n",
              "      <th>7</th>\n",
              "      <td>8</td>\n",
              "      <td>bathroom cleaner</td>\n",
              "      <td>2014-06-10T00:00:00.000Z</td>\n",
              "    </tr>\n",
              "    <tr>\n",
              "      <th>8</th>\n",
              "      <td>9</td>\n",
              "      <td>beef</td>\n",
              "      <td>2014-01-02T00:00:00.000Z</td>\n",
              "    </tr>\n",
              "    <tr>\n",
              "      <th>9</th>\n",
              "      <td>10</td>\n",
              "      <td>berries</td>\n",
              "      <td>2014-01-01T00:00:00.000Z</td>\n",
              "    </tr>\n",
              "  </tbody>\n",
              "</table>\n",
              "</div>"
            ],
            "text/plain": [
              "   itemId        itemDescription              earliestDate\n",
              "0       1  Instant food products  2014-01-01T00:00:00.000Z\n",
              "1       2               UHT-milk  2014-01-02T00:00:00.000Z\n",
              "2       3       abrasive cleaner  2014-01-21T00:00:00.000Z\n",
              "3       4       artif. sweetener  2014-02-10T00:00:00.000Z\n",
              "4       5         baby cosmetics  2014-01-09T00:00:00.000Z\n",
              "5       6                   bags  2014-03-20T00:00:00.000Z\n",
              "6       7          baking powder  2014-01-05T00:00:00.000Z\n",
              "7       8       bathroom cleaner  2014-06-10T00:00:00.000Z\n",
              "8       9                   beef  2014-01-02T00:00:00.000Z\n",
              "9      10                berries  2014-01-01T00:00:00.000Z"
            ]
          },
          "execution_count": 7,
          "metadata": {},
          "output_type": "execute_result"
        }
      ],
      "source": [
        "products_df = orders_df[['itemDescription','Date']].groupby(\"itemDescription\").min()\n",
        "products_df.reset_index(inplace=True)\n",
        "products_df.columns = ['itemDescription', 'earliestDate']\n",
        "\n",
        "#setup id for each item\n",
        "products_df.reset_index(inplace=True)\n",
        "products_df = products_df.rename(columns = {'index':'itemId'})\n",
        "products_df['itemId'] = products_df['itemId'] + 1\n",
        "\n",
        "print(products_df.shape)\n",
        "products_df.head(10)\n"
      ]
    },
    {
      "cell_type": "markdown",
      "metadata": {
        "nteract": {
          "transient": {
            "deleting": false
          }
        }
      },
      "source": [
        "**Format the dataset for use in Intelligent Recommendations**"
      ]
    },
    {
      "cell_type": "code",
      "execution_count": 8,
      "metadata": {
        "gather": {
          "logged": 1675374230219
        },
        "jupyter": {
          "outputs_hidden": false,
          "source_hidden": false
        },
        "nteract": {
          "transient": {
            "deleting": false
          }
        }
      },
      "outputs": [
        {
          "data": {
            "text/html": [
              "<div>\n",
              "<style scoped>\n",
              "    .dataframe tbody tr th:only-of-type {\n",
              "        vertical-align: middle;\n",
              "    }\n",
              "\n",
              "    .dataframe tbody tr th {\n",
              "        vertical-align: top;\n",
              "    }\n",
              "\n",
              "    .dataframe thead th {\n",
              "        text-align: right;\n",
              "    }\n",
              "</style>\n",
              "<table border=\"1\" class=\"dataframe\">\n",
              "  <thead>\n",
              "    <tr style=\"text-align: right;\">\n",
              "      <th></th>\n",
              "      <th>itemId</th>\n",
              "      <th>ItemVariantID</th>\n",
              "      <th>Title</th>\n",
              "      <th>Description</th>\n",
              "      <th>ReleaseDate</th>\n",
              "    </tr>\n",
              "  </thead>\n",
              "  <tbody>\n",
              "    <tr>\n",
              "      <th>0</th>\n",
              "      <td>1</td>\n",
              "      <td></td>\n",
              "      <td>Instant food products</td>\n",
              "      <td>Instant food products</td>\n",
              "      <td>2014-01-01T00:00:00.000Z</td>\n",
              "    </tr>\n",
              "    <tr>\n",
              "      <th>1</th>\n",
              "      <td>2</td>\n",
              "      <td></td>\n",
              "      <td>UHT-milk</td>\n",
              "      <td>UHT-milk</td>\n",
              "      <td>2014-01-02T00:00:00.000Z</td>\n",
              "    </tr>\n",
              "    <tr>\n",
              "      <th>2</th>\n",
              "      <td>3</td>\n",
              "      <td></td>\n",
              "      <td>abrasive cleaner</td>\n",
              "      <td>abrasive cleaner</td>\n",
              "      <td>2014-01-21T00:00:00.000Z</td>\n",
              "    </tr>\n",
              "    <tr>\n",
              "      <th>3</th>\n",
              "      <td>4</td>\n",
              "      <td></td>\n",
              "      <td>artif. sweetener</td>\n",
              "      <td>artif. sweetener</td>\n",
              "      <td>2014-02-10T00:00:00.000Z</td>\n",
              "    </tr>\n",
              "    <tr>\n",
              "      <th>4</th>\n",
              "      <td>5</td>\n",
              "      <td></td>\n",
              "      <td>baby cosmetics</td>\n",
              "      <td>baby cosmetics</td>\n",
              "      <td>2014-01-09T00:00:00.000Z</td>\n",
              "    </tr>\n",
              "    <tr>\n",
              "      <th>...</th>\n",
              "      <td>...</td>\n",
              "      <td>...</td>\n",
              "      <td>...</td>\n",
              "      <td>...</td>\n",
              "      <td>...</td>\n",
              "    </tr>\n",
              "    <tr>\n",
              "      <th>162</th>\n",
              "      <td>163</td>\n",
              "      <td></td>\n",
              "      <td>white bread</td>\n",
              "      <td>white bread</td>\n",
              "      <td>2014-01-02T00:00:00.000Z</td>\n",
              "    </tr>\n",
              "    <tr>\n",
              "      <th>163</th>\n",
              "      <td>164</td>\n",
              "      <td></td>\n",
              "      <td>white wine</td>\n",
              "      <td>white wine</td>\n",
              "      <td>2014-01-09T00:00:00.000Z</td>\n",
              "    </tr>\n",
              "    <tr>\n",
              "      <th>164</th>\n",
              "      <td>165</td>\n",
              "      <td></td>\n",
              "      <td>whole milk</td>\n",
              "      <td>whole milk</td>\n",
              "      <td>2014-01-01T00:00:00.000Z</td>\n",
              "    </tr>\n",
              "    <tr>\n",
              "      <th>165</th>\n",
              "      <td>166</td>\n",
              "      <td></td>\n",
              "      <td>yogurt</td>\n",
              "      <td>yogurt</td>\n",
              "      <td>2014-01-01T00:00:00.000Z</td>\n",
              "    </tr>\n",
              "    <tr>\n",
              "      <th>166</th>\n",
              "      <td>167</td>\n",
              "      <td></td>\n",
              "      <td>zwieback</td>\n",
              "      <td>zwieback</td>\n",
              "      <td>2014-01-07T00:00:00.000Z</td>\n",
              "    </tr>\n",
              "  </tbody>\n",
              "</table>\n",
              "<p>167 rows × 5 columns</p>\n",
              "</div>"
            ],
            "text/plain": [
              "     itemId ItemVariantID                  Title            Description  \\\n",
              "0         1                Instant food products  Instant food products   \n",
              "1         2                             UHT-milk               UHT-milk   \n",
              "2         3                     abrasive cleaner       abrasive cleaner   \n",
              "3         4                     artif. sweetener       artif. sweetener   \n",
              "4         5                       baby cosmetics         baby cosmetics   \n",
              "..      ...           ...                    ...                    ...   \n",
              "162     163                          white bread            white bread   \n",
              "163     164                           white wine             white wine   \n",
              "164     165                           whole milk             whole milk   \n",
              "165     166                               yogurt                 yogurt   \n",
              "166     167                             zwieback               zwieback   \n",
              "\n",
              "                  ReleaseDate  \n",
              "0    2014-01-01T00:00:00.000Z  \n",
              "1    2014-01-02T00:00:00.000Z  \n",
              "2    2014-01-21T00:00:00.000Z  \n",
              "3    2014-02-10T00:00:00.000Z  \n",
              "4    2014-01-09T00:00:00.000Z  \n",
              "..                        ...  \n",
              "162  2014-01-02T00:00:00.000Z  \n",
              "163  2014-01-09T00:00:00.000Z  \n",
              "164  2014-01-01T00:00:00.000Z  \n",
              "165  2014-01-01T00:00:00.000Z  \n",
              "166  2014-01-07T00:00:00.000Z  \n",
              "\n",
              "[167 rows x 5 columns]"
            ]
          },
          "execution_count": 8,
          "metadata": {},
          "output_type": "execute_result"
        }
      ],
      "source": [
        "ir_reco_item_variants = products_df[['itemId', 'itemDescription', 'earliestDate']]\n",
        "ir_reco_item_variants['ItemVariantID'] = ''\n",
        "ir_reco_item_variants['Title'] = ir_reco_item_variants['itemDescription']\n",
        "ir_reco_item_variants['Description'] = ir_reco_item_variants['itemDescription']  #Using it for both for now, but this could be edited with more detail\n",
        "ir_reco_item_variants['ReleaseDate'] = ir_reco_item_variants['earliestDate']\n",
        "ir_reco_item_variants = ir_reco_item_variants[['itemId', 'ItemVariantID', 'Title', 'Description', 'ReleaseDate']]\n",
        "ir_reco_item_variants\n"
      ]
    },
    {
      "cell_type": "markdown",
      "metadata": {
        "nteract": {
          "transient": {
            "deleting": false
          }
        }
      },
      "source": [
        "## Interactions\n",
        "\n",
        "Interactions represent the ways a user interacts with the catalog items. Some examples include transactional interactions (purchases), views (click-through), ratings, or any other action that occurs between a user and an item or item variant."
      ]
    },
    {
      "cell_type": "markdown",
      "metadata": {
        "nteract": {
          "transient": {
            "deleting": false
          }
        }
      },
      "source": [
        "The mandatory fields are the **InteractionGroupingId** and **ItemId** everything else is optional.\n",
        "\n",
        "[Interactions Documentation](https://docs.microsoft.com/en-us/industry/retail/intelligent-recommendations/interactions-data-entity#introduction-to-interactions-data-entities)\n",
        "\n",
        "Example dataset:\n",
        "\n",
        "|InteractionGroupingId|ItemId|ItemVariantId|UserId|InteractionType|Timestamp|FutureAttribute1|FutureAttribute2|Channel|Catalog|Strength|IsPositive\n",
        "|--|--|--|--|--|--|--|--|--|--|--|--|\n",
        "|Interaction100|Item1|Item1Var1|User1|Transaction|2020-05-15T13:30:00.000Z|||Mobile|Europe|.77|True|\n",
        "|Interaction100|Item2||User1|Transaction|2020-05-15T13:30:00.000Z|||Mobile|Europe|.12|True|\n",
        "|Interaction101|Item2|||Like|2020-05-01T10:17:00.000Z||||||False|\n",
        "|Interaction102|Item3||User1|Rating|2020-05-01T13:24:00.000Z|||||4.0|True|\n"
      ]
    },
    {
      "cell_type": "markdown",
      "metadata": {
        "nteract": {
          "transient": {
            "deleting": false
          }
        }
      },
      "source": [
        "Based on the data we have available, we are choosing to use each purchase as an interaction (so the InteractionType will be set to \"Transaction\").\n",
        "\n",
        "The InteractionGroupingId is a way to group interactions that involves multiple items, essentially think of it as a grocery basket that was purchased on that date.  Each purchase date in our dataset is considered a separate order, we will construct an id (called basketId to indicate an individual shopping basket) to use for this.   NOTE: another option with this dataset would be to use the customer (User) as the InteractionGroupingId as well rather than their individaul orders.  \n",
        "\n",
        "An optional field we will not use is \"Strength\".  It represents a weighting for the signficance of an interaction.  In the case of a ratings system, this would commonly be the rating value.  In our scenario, with implict feedback (purchase) we could define strength as the number of times a user has purchased this item out of all their orders, in particular if we decided to group interactions by customer.  This is a way to extend the functionality of this example.\n",
        "\n",
        "For our dataset we won't consider Returns/Exchanges, so all of our interactions will be positive in that the customer chooses to purchase an item.  We could set the \"IsPositive\" field to False to indicate when they return something they actually may not prefer it, similary for other interaction types - a dislike or a low rating."
      ]
    },
    {
      "cell_type": "markdown",
      "metadata": {
        "nteract": {
          "transient": {
            "deleting": false
          }
        }
      },
      "source": [
        "**Add ItemId to Interactions**\n",
        "\n",
        "We derived an ItemId when we created the catalog in the previous section.  Now we will add that to our orders data by joining on the item descriptions."
      ]
    },
    {
      "cell_type": "code",
      "execution_count": 9,
      "metadata": {
        "gather": {
          "logged": 1675374230564
        },
        "jupyter": {
          "outputs_hidden": false,
          "source_hidden": false
        },
        "nteract": {
          "transient": {
            "deleting": false
          }
        }
      },
      "outputs": [
        {
          "data": {
            "text/html": [
              "<div>\n",
              "<style scoped>\n",
              "    .dataframe tbody tr th:only-of-type {\n",
              "        vertical-align: middle;\n",
              "    }\n",
              "\n",
              "    .dataframe tbody tr th {\n",
              "        vertical-align: top;\n",
              "    }\n",
              "\n",
              "    .dataframe thead th {\n",
              "        text-align: right;\n",
              "    }\n",
              "</style>\n",
              "<table border=\"1\" class=\"dataframe\">\n",
              "  <thead>\n",
              "    <tr style=\"text-align: right;\">\n",
              "      <th></th>\n",
              "      <th>itemId</th>\n",
              "      <th>itemDescription</th>\n",
              "      <th>Member_number</th>\n",
              "      <th>Date</th>\n",
              "    </tr>\n",
              "  </thead>\n",
              "  <tbody>\n",
              "    <tr>\n",
              "      <th>0</th>\n",
              "      <td>1</td>\n",
              "      <td>Instant food products</td>\n",
              "      <td>1746</td>\n",
              "      <td>2015-02-15T00:00:00.000Z</td>\n",
              "    </tr>\n",
              "    <tr>\n",
              "      <th>1</th>\n",
              "      <td>1</td>\n",
              "      <td>Instant food products</td>\n",
              "      <td>4962</td>\n",
              "      <td>2015-03-29T00:00:00.000Z</td>\n",
              "    </tr>\n",
              "    <tr>\n",
              "      <th>2</th>\n",
              "      <td>1</td>\n",
              "      <td>Instant food products</td>\n",
              "      <td>4160</td>\n",
              "      <td>2015-08-12T00:00:00.000Z</td>\n",
              "    </tr>\n",
              "    <tr>\n",
              "      <th>3</th>\n",
              "      <td>1</td>\n",
              "      <td>Instant food products</td>\n",
              "      <td>1334</td>\n",
              "      <td>2015-03-07T00:00:00.000Z</td>\n",
              "    </tr>\n",
              "    <tr>\n",
              "      <th>4</th>\n",
              "      <td>1</td>\n",
              "      <td>Instant food products</td>\n",
              "      <td>1038</td>\n",
              "      <td>2015-12-14T00:00:00.000Z</td>\n",
              "    </tr>\n",
              "    <tr>\n",
              "      <th>...</th>\n",
              "      <td>...</td>\n",
              "      <td>...</td>\n",
              "      <td>...</td>\n",
              "      <td>...</td>\n",
              "    </tr>\n",
              "    <tr>\n",
              "      <th>38760</th>\n",
              "      <td>167</td>\n",
              "      <td>zwieback</td>\n",
              "      <td>3447</td>\n",
              "      <td>2015-09-03T00:00:00.000Z</td>\n",
              "    </tr>\n",
              "    <tr>\n",
              "      <th>38761</th>\n",
              "      <td>167</td>\n",
              "      <td>zwieback</td>\n",
              "      <td>3175</td>\n",
              "      <td>2015-06-05T00:00:00.000Z</td>\n",
              "    </tr>\n",
              "    <tr>\n",
              "      <th>38762</th>\n",
              "      <td>167</td>\n",
              "      <td>zwieback</td>\n",
              "      <td>3603</td>\n",
              "      <td>2014-08-13T00:00:00.000Z</td>\n",
              "    </tr>\n",
              "    <tr>\n",
              "      <th>38763</th>\n",
              "      <td>167</td>\n",
              "      <td>zwieback</td>\n",
              "      <td>2041</td>\n",
              "      <td>2014-09-10T00:00:00.000Z</td>\n",
              "    </tr>\n",
              "    <tr>\n",
              "      <th>38764</th>\n",
              "      <td>167</td>\n",
              "      <td>zwieback</td>\n",
              "      <td>4879</td>\n",
              "      <td>2014-09-19T00:00:00.000Z</td>\n",
              "    </tr>\n",
              "  </tbody>\n",
              "</table>\n",
              "<p>38765 rows × 4 columns</p>\n",
              "</div>"
            ],
            "text/plain": [
              "       itemId        itemDescription  Member_number                      Date\n",
              "0           1  Instant food products           1746  2015-02-15T00:00:00.000Z\n",
              "1           1  Instant food products           4962  2015-03-29T00:00:00.000Z\n",
              "2           1  Instant food products           4160  2015-08-12T00:00:00.000Z\n",
              "3           1  Instant food products           1334  2015-03-07T00:00:00.000Z\n",
              "4           1  Instant food products           1038  2015-12-14T00:00:00.000Z\n",
              "...       ...                    ...            ...                       ...\n",
              "38760     167               zwieback           3447  2015-09-03T00:00:00.000Z\n",
              "38761     167               zwieback           3175  2015-06-05T00:00:00.000Z\n",
              "38762     167               zwieback           3603  2014-08-13T00:00:00.000Z\n",
              "38763     167               zwieback           2041  2014-09-10T00:00:00.000Z\n",
              "38764     167               zwieback           4879  2014-09-19T00:00:00.000Z\n",
              "\n",
              "[38765 rows x 4 columns]"
            ]
          },
          "execution_count": 9,
          "metadata": {},
          "output_type": "execute_result"
        }
      ],
      "source": [
        "interactions_df = pd.merge(products_df[['itemId', 'itemDescription']], orders_df, on=[\"itemDescription\"])\n",
        "interactions_df"
      ]
    },
    {
      "cell_type": "markdown",
      "metadata": {
        "nteract": {
          "transient": {
            "deleting": false
          }
        }
      },
      "source": [
        "**Create an ID for each grocery store visit (based on date)**\n",
        "\n",
        "This is the field we will use to group mutliple interactions together - our shopping baskets."
      ]
    },
    {
      "cell_type": "code",
      "execution_count": 10,
      "metadata": {
        "gather": {
          "logged": 1675374230886
        },
        "jupyter": {
          "outputs_hidden": false,
          "source_hidden": false
        },
        "nteract": {
          "transient": {
            "deleting": false
          }
        }
      },
      "outputs": [
        {
          "data": {
            "text/html": [
              "<div>\n",
              "<style scoped>\n",
              "    .dataframe tbody tr th:only-of-type {\n",
              "        vertical-align: middle;\n",
              "    }\n",
              "\n",
              "    .dataframe tbody tr th {\n",
              "        vertical-align: top;\n",
              "    }\n",
              "\n",
              "    .dataframe thead th {\n",
              "        text-align: right;\n",
              "    }\n",
              "</style>\n",
              "<table border=\"1\" class=\"dataframe\">\n",
              "  <thead>\n",
              "    <tr style=\"text-align: right;\">\n",
              "      <th></th>\n",
              "      <th>basketId</th>\n",
              "      <th>Member_number</th>\n",
              "      <th>Date</th>\n",
              "    </tr>\n",
              "  </thead>\n",
              "  <tbody>\n",
              "    <tr>\n",
              "      <th>0</th>\n",
              "      <td>1</td>\n",
              "      <td>1000</td>\n",
              "      <td>2014-06-24T00:00:00.000Z</td>\n",
              "    </tr>\n",
              "    <tr>\n",
              "      <th>1</th>\n",
              "      <td>2</td>\n",
              "      <td>1000</td>\n",
              "      <td>2015-03-15T00:00:00.000Z</td>\n",
              "    </tr>\n",
              "    <tr>\n",
              "      <th>2</th>\n",
              "      <td>3</td>\n",
              "      <td>1000</td>\n",
              "      <td>2015-05-27T00:00:00.000Z</td>\n",
              "    </tr>\n",
              "    <tr>\n",
              "      <th>3</th>\n",
              "      <td>4</td>\n",
              "      <td>1000</td>\n",
              "      <td>2015-07-24T00:00:00.000Z</td>\n",
              "    </tr>\n",
              "    <tr>\n",
              "      <th>4</th>\n",
              "      <td>5</td>\n",
              "      <td>1000</td>\n",
              "      <td>2015-11-25T00:00:00.000Z</td>\n",
              "    </tr>\n",
              "    <tr>\n",
              "      <th>...</th>\n",
              "      <td>...</td>\n",
              "      <td>...</td>\n",
              "      <td>...</td>\n",
              "    </tr>\n",
              "    <tr>\n",
              "      <th>14958</th>\n",
              "      <td>14959</td>\n",
              "      <td>4999</td>\n",
              "      <td>2015-05-16T00:00:00.000Z</td>\n",
              "    </tr>\n",
              "    <tr>\n",
              "      <th>14959</th>\n",
              "      <td>14960</td>\n",
              "      <td>4999</td>\n",
              "      <td>2015-12-26T00:00:00.000Z</td>\n",
              "    </tr>\n",
              "    <tr>\n",
              "      <th>14960</th>\n",
              "      <td>14961</td>\n",
              "      <td>5000</td>\n",
              "      <td>2014-03-09T00:00:00.000Z</td>\n",
              "    </tr>\n",
              "    <tr>\n",
              "      <th>14961</th>\n",
              "      <td>14962</td>\n",
              "      <td>5000</td>\n",
              "      <td>2014-11-16T00:00:00.000Z</td>\n",
              "    </tr>\n",
              "    <tr>\n",
              "      <th>14962</th>\n",
              "      <td>14963</td>\n",
              "      <td>5000</td>\n",
              "      <td>2015-02-10T00:00:00.000Z</td>\n",
              "    </tr>\n",
              "  </tbody>\n",
              "</table>\n",
              "<p>14963 rows × 3 columns</p>\n",
              "</div>"
            ],
            "text/plain": [
              "       basketId  Member_number                      Date\n",
              "0             1           1000  2014-06-24T00:00:00.000Z\n",
              "1             2           1000  2015-03-15T00:00:00.000Z\n",
              "2             3           1000  2015-05-27T00:00:00.000Z\n",
              "3             4           1000  2015-07-24T00:00:00.000Z\n",
              "4             5           1000  2015-11-25T00:00:00.000Z\n",
              "...         ...            ...                       ...\n",
              "14958     14959           4999  2015-05-16T00:00:00.000Z\n",
              "14959     14960           4999  2015-12-26T00:00:00.000Z\n",
              "14960     14961           5000  2014-03-09T00:00:00.000Z\n",
              "14961     14962           5000  2014-11-16T00:00:00.000Z\n",
              "14962     14963           5000  2015-02-10T00:00:00.000Z\n",
              "\n",
              "[14963 rows x 3 columns]"
            ]
          },
          "execution_count": 10,
          "metadata": {},
          "output_type": "execute_result"
        }
      ],
      "source": [
        "#baskets_df = interactions_df.groupby(['Member_number','Date']).agg (totalBasketItems= ('itemId', 'count'))\n",
        "baskets_df = interactions_df[['Member_number','Date']].groupby(['Member_number','Date']).count()\n",
        "baskets_df.reset_index(inplace=True)\n",
        "baskets_df.reset_index(inplace=True)\n",
        "baskets_df = baskets_df.rename(columns = {'index':'basketId'})\n",
        "baskets_df['basketId'] = baskets_df['basketId'] + 1\n",
        "baskets_df"
      ]
    },
    {
      "cell_type": "markdown",
      "metadata": {
        "nteract": {
          "transient": {
            "deleting": false
          }
        }
      },
      "source": [
        "Now add the basketId to the interactions dataset."
      ]
    },
    {
      "cell_type": "code",
      "execution_count": 11,
      "metadata": {
        "gather": {
          "logged": 1675374231205
        },
        "jupyter": {
          "outputs_hidden": false,
          "source_hidden": false
        },
        "nteract": {
          "transient": {
            "deleting": false
          }
        }
      },
      "outputs": [
        {
          "data": {
            "text/html": [
              "<div>\n",
              "<style scoped>\n",
              "    .dataframe tbody tr th:only-of-type {\n",
              "        vertical-align: middle;\n",
              "    }\n",
              "\n",
              "    .dataframe tbody tr th {\n",
              "        vertical-align: top;\n",
              "    }\n",
              "\n",
              "    .dataframe thead th {\n",
              "        text-align: right;\n",
              "    }\n",
              "</style>\n",
              "<table border=\"1\" class=\"dataframe\">\n",
              "  <thead>\n",
              "    <tr style=\"text-align: right;\">\n",
              "      <th></th>\n",
              "      <th>basketId</th>\n",
              "      <th>Member_number</th>\n",
              "      <th>Date</th>\n",
              "      <th>itemId</th>\n",
              "      <th>itemDescription</th>\n",
              "    </tr>\n",
              "  </thead>\n",
              "  <tbody>\n",
              "    <tr>\n",
              "      <th>0</th>\n",
              "      <td>1</td>\n",
              "      <td>1000</td>\n",
              "      <td>2014-06-24T00:00:00.000Z</td>\n",
              "      <td>106</td>\n",
              "      <td>pastry</td>\n",
              "    </tr>\n",
              "    <tr>\n",
              "      <th>1</th>\n",
              "      <td>1</td>\n",
              "      <td>1000</td>\n",
              "      <td>2014-06-24T00:00:00.000Z</td>\n",
              "      <td>129</td>\n",
              "      <td>salty snack</td>\n",
              "    </tr>\n",
              "    <tr>\n",
              "      <th>2</th>\n",
              "      <td>1</td>\n",
              "      <td>1000</td>\n",
              "      <td>2014-06-24T00:00:00.000Z</td>\n",
              "      <td>165</td>\n",
              "      <td>whole milk</td>\n",
              "    </tr>\n",
              "    <tr>\n",
              "      <th>3</th>\n",
              "      <td>2</td>\n",
              "      <td>1000</td>\n",
              "      <td>2015-03-15T00:00:00.000Z</td>\n",
              "      <td>131</td>\n",
              "      <td>sausage</td>\n",
              "    </tr>\n",
              "    <tr>\n",
              "      <th>4</th>\n",
              "      <td>2</td>\n",
              "      <td>1000</td>\n",
              "      <td>2015-03-15T00:00:00.000Z</td>\n",
              "      <td>133</td>\n",
              "      <td>semi-finished bread</td>\n",
              "    </tr>\n",
              "    <tr>\n",
              "      <th>...</th>\n",
              "      <td>...</td>\n",
              "      <td>...</td>\n",
              "      <td>...</td>\n",
              "      <td>...</td>\n",
              "      <td>...</td>\n",
              "    </tr>\n",
              "    <tr>\n",
              "      <th>38760</th>\n",
              "      <td>14962</td>\n",
              "      <td>5000</td>\n",
              "      <td>2014-11-16T00:00:00.000Z</td>\n",
              "      <td>12</td>\n",
              "      <td>bottled beer</td>\n",
              "    </tr>\n",
              "    <tr>\n",
              "      <th>38761</th>\n",
              "      <td>14962</td>\n",
              "      <td>5000</td>\n",
              "      <td>2014-11-16T00:00:00.000Z</td>\n",
              "      <td>103</td>\n",
              "      <td>other vegetables</td>\n",
              "    </tr>\n",
              "    <tr>\n",
              "      <th>38762</th>\n",
              "      <td>14963</td>\n",
              "      <td>5000</td>\n",
              "      <td>2015-02-10T00:00:00.000Z</td>\n",
              "      <td>124</td>\n",
              "      <td>root vegetables</td>\n",
              "    </tr>\n",
              "    <tr>\n",
              "      <th>38763</th>\n",
              "      <td>14963</td>\n",
              "      <td>5000</td>\n",
              "      <td>2015-02-10T00:00:00.000Z</td>\n",
              "      <td>133</td>\n",
              "      <td>semi-finished bread</td>\n",
              "    </tr>\n",
              "    <tr>\n",
              "      <th>38764</th>\n",
              "      <td>14963</td>\n",
              "      <td>5000</td>\n",
              "      <td>2015-02-10T00:00:00.000Z</td>\n",
              "      <td>139</td>\n",
              "      <td>soda</td>\n",
              "    </tr>\n",
              "  </tbody>\n",
              "</table>\n",
              "<p>38765 rows × 5 columns</p>\n",
              "</div>"
            ],
            "text/plain": [
              "       basketId  Member_number                      Date  itemId  \\\n",
              "0             1           1000  2014-06-24T00:00:00.000Z     106   \n",
              "1             1           1000  2014-06-24T00:00:00.000Z     129   \n",
              "2             1           1000  2014-06-24T00:00:00.000Z     165   \n",
              "3             2           1000  2015-03-15T00:00:00.000Z     131   \n",
              "4             2           1000  2015-03-15T00:00:00.000Z     133   \n",
              "...         ...            ...                       ...     ...   \n",
              "38760     14962           5000  2014-11-16T00:00:00.000Z      12   \n",
              "38761     14962           5000  2014-11-16T00:00:00.000Z     103   \n",
              "38762     14963           5000  2015-02-10T00:00:00.000Z     124   \n",
              "38763     14963           5000  2015-02-10T00:00:00.000Z     133   \n",
              "38764     14963           5000  2015-02-10T00:00:00.000Z     139   \n",
              "\n",
              "           itemDescription  \n",
              "0                   pastry  \n",
              "1              salty snack  \n",
              "2               whole milk  \n",
              "3                  sausage  \n",
              "4      semi-finished bread  \n",
              "...                    ...  \n",
              "38760         bottled beer  \n",
              "38761     other vegetables  \n",
              "38762      root vegetables  \n",
              "38763  semi-finished bread  \n",
              "38764                 soda  \n",
              "\n",
              "[38765 rows x 5 columns]"
            ]
          },
          "execution_count": 11,
          "metadata": {},
          "output_type": "execute_result"
        }
      ],
      "source": [
        "interactions_df = pd.merge(baskets_df, interactions_df, on=['Member_number','Date'])\n",
        "interactions_df"
      ]
    },
    {
      "cell_type": "markdown",
      "metadata": {
        "nteract": {
          "transient": {
            "deleting": false
          }
        }
      },
      "source": [
        "** Setup the Interactions Dataset to be used in Intelligent Recommendations **"
      ]
    },
    {
      "cell_type": "code",
      "execution_count": 12,
      "metadata": {
        "gather": {
          "logged": 1675374231536
        },
        "jupyter": {
          "outputs_hidden": false,
          "source_hidden": false
        },
        "nteract": {
          "transient": {
            "deleting": false
          }
        }
      },
      "outputs": [
        {
          "data": {
            "text/html": [
              "<div>\n",
              "<style scoped>\n",
              "    .dataframe tbody tr th:only-of-type {\n",
              "        vertical-align: middle;\n",
              "    }\n",
              "\n",
              "    .dataframe tbody tr th {\n",
              "        vertical-align: top;\n",
              "    }\n",
              "\n",
              "    .dataframe thead th {\n",
              "        text-align: right;\n",
              "    }\n",
              "</style>\n",
              "<table border=\"1\" class=\"dataframe\">\n",
              "  <thead>\n",
              "    <tr style=\"text-align: right;\">\n",
              "      <th></th>\n",
              "      <th>basketId</th>\n",
              "      <th>itemId</th>\n",
              "      <th>Member_number</th>\n",
              "      <th>Date</th>\n",
              "    </tr>\n",
              "  </thead>\n",
              "  <tbody>\n",
              "    <tr>\n",
              "      <th>0</th>\n",
              "      <td>1</td>\n",
              "      <td>106</td>\n",
              "      <td>1000</td>\n",
              "      <td>2014-06-24T00:00:00.000Z</td>\n",
              "    </tr>\n",
              "    <tr>\n",
              "      <th>1</th>\n",
              "      <td>1</td>\n",
              "      <td>129</td>\n",
              "      <td>1000</td>\n",
              "      <td>2014-06-24T00:00:00.000Z</td>\n",
              "    </tr>\n",
              "    <tr>\n",
              "      <th>2</th>\n",
              "      <td>1</td>\n",
              "      <td>165</td>\n",
              "      <td>1000</td>\n",
              "      <td>2014-06-24T00:00:00.000Z</td>\n",
              "    </tr>\n",
              "    <tr>\n",
              "      <th>3</th>\n",
              "      <td>2</td>\n",
              "      <td>131</td>\n",
              "      <td>1000</td>\n",
              "      <td>2015-03-15T00:00:00.000Z</td>\n",
              "    </tr>\n",
              "    <tr>\n",
              "      <th>4</th>\n",
              "      <td>2</td>\n",
              "      <td>133</td>\n",
              "      <td>1000</td>\n",
              "      <td>2015-03-15T00:00:00.000Z</td>\n",
              "    </tr>\n",
              "  </tbody>\n",
              "</table>\n",
              "</div>"
            ],
            "text/plain": [
              "   basketId  itemId  Member_number                      Date\n",
              "0         1     106           1000  2014-06-24T00:00:00.000Z\n",
              "1         1     129           1000  2014-06-24T00:00:00.000Z\n",
              "2         1     165           1000  2014-06-24T00:00:00.000Z\n",
              "3         2     131           1000  2015-03-15T00:00:00.000Z\n",
              "4         2     133           1000  2015-03-15T00:00:00.000Z"
            ]
          },
          "execution_count": 12,
          "metadata": {},
          "output_type": "execute_result"
        }
      ],
      "source": [
        "ir_reco_interactions = interactions_df[['basketId', 'itemId', 'Member_number', 'Date']]\n",
        "ir_reco_interactions.head()\n"
      ]
    },
    {
      "cell_type": "code",
      "execution_count": 13,
      "metadata": {
        "gather": {
          "logged": 1675374231834
        },
        "jupyter": {
          "outputs_hidden": false,
          "source_hidden": false
        },
        "nteract": {
          "transient": {
            "deleting": false
          }
        }
      },
      "outputs": [],
      "source": [
        "ir_reco_interactions['InteractionGroupId'] = ir_reco_interactions['basketId']\n",
        "ir_reco_interactions['ItemId'] = ir_reco_interactions['itemId']\n",
        "ir_reco_interactions['ItemVariantId'] = ''\n",
        "ir_reco_interactions['UserId'] = ir_reco_interactions['Member_number']\n",
        "ir_reco_interactions['InteractionType'] = 'Transaction'\n",
        "ir_reco_interactions['TimeStamp'] = ir_reco_interactions['Date']\n",
        "ir_reco_interactions['FutureAttribute1'] = ''\n",
        "ir_reco_interactions['FutureAttribute2'] = ''\n",
        "ir_reco_interactions['Channel'] = ''\n",
        "ir_reco_interactions['Catalog'] = ''\n",
        "ir_reco_interactions['Strength'] = ''\n",
        "ir_reco_interactions['IsPositive'] = 'TRUE'"
      ]
    },
    {
      "cell_type": "code",
      "execution_count": 14,
      "metadata": {
        "gather": {
          "logged": 1675374232139
        },
        "jupyter": {
          "outputs_hidden": false,
          "source_hidden": false
        },
        "nteract": {
          "transient": {
            "deleting": false
          }
        }
      },
      "outputs": [],
      "source": [
        "ir_reco_interactions = ir_reco_interactions.drop(columns=['basketId', 'itemId', 'Member_number', 'Date'])"
      ]
    },
    {
      "cell_type": "code",
      "execution_count": 15,
      "metadata": {
        "gather": {
          "logged": 1675374232432
        },
        "jupyter": {
          "outputs_hidden": false,
          "source_hidden": false
        },
        "nteract": {
          "transient": {
            "deleting": false
          }
        }
      },
      "outputs": [
        {
          "data": {
            "text/html": [
              "<div>\n",
              "<style scoped>\n",
              "    .dataframe tbody tr th:only-of-type {\n",
              "        vertical-align: middle;\n",
              "    }\n",
              "\n",
              "    .dataframe tbody tr th {\n",
              "        vertical-align: top;\n",
              "    }\n",
              "\n",
              "    .dataframe thead th {\n",
              "        text-align: right;\n",
              "    }\n",
              "</style>\n",
              "<table border=\"1\" class=\"dataframe\">\n",
              "  <thead>\n",
              "    <tr style=\"text-align: right;\">\n",
              "      <th></th>\n",
              "      <th>InteractionGroupId</th>\n",
              "      <th>ItemId</th>\n",
              "      <th>ItemVariantId</th>\n",
              "      <th>UserId</th>\n",
              "      <th>InteractionType</th>\n",
              "      <th>TimeStamp</th>\n",
              "      <th>FutureAttribute1</th>\n",
              "      <th>FutureAttribute2</th>\n",
              "      <th>Channel</th>\n",
              "      <th>Catalog</th>\n",
              "      <th>Strength</th>\n",
              "      <th>IsPositive</th>\n",
              "    </tr>\n",
              "  </thead>\n",
              "  <tbody>\n",
              "    <tr>\n",
              "      <th>0</th>\n",
              "      <td>1</td>\n",
              "      <td>106</td>\n",
              "      <td></td>\n",
              "      <td>1000</td>\n",
              "      <td>Transaction</td>\n",
              "      <td>2014-06-24T00:00:00.000Z</td>\n",
              "      <td></td>\n",
              "      <td></td>\n",
              "      <td></td>\n",
              "      <td></td>\n",
              "      <td></td>\n",
              "      <td>TRUE</td>\n",
              "    </tr>\n",
              "    <tr>\n",
              "      <th>1</th>\n",
              "      <td>1</td>\n",
              "      <td>129</td>\n",
              "      <td></td>\n",
              "      <td>1000</td>\n",
              "      <td>Transaction</td>\n",
              "      <td>2014-06-24T00:00:00.000Z</td>\n",
              "      <td></td>\n",
              "      <td></td>\n",
              "      <td></td>\n",
              "      <td></td>\n",
              "      <td></td>\n",
              "      <td>TRUE</td>\n",
              "    </tr>\n",
              "    <tr>\n",
              "      <th>2</th>\n",
              "      <td>1</td>\n",
              "      <td>165</td>\n",
              "      <td></td>\n",
              "      <td>1000</td>\n",
              "      <td>Transaction</td>\n",
              "      <td>2014-06-24T00:00:00.000Z</td>\n",
              "      <td></td>\n",
              "      <td></td>\n",
              "      <td></td>\n",
              "      <td></td>\n",
              "      <td></td>\n",
              "      <td>TRUE</td>\n",
              "    </tr>\n",
              "    <tr>\n",
              "      <th>3</th>\n",
              "      <td>2</td>\n",
              "      <td>131</td>\n",
              "      <td></td>\n",
              "      <td>1000</td>\n",
              "      <td>Transaction</td>\n",
              "      <td>2015-03-15T00:00:00.000Z</td>\n",
              "      <td></td>\n",
              "      <td></td>\n",
              "      <td></td>\n",
              "      <td></td>\n",
              "      <td></td>\n",
              "      <td>TRUE</td>\n",
              "    </tr>\n",
              "    <tr>\n",
              "      <th>4</th>\n",
              "      <td>2</td>\n",
              "      <td>133</td>\n",
              "      <td></td>\n",
              "      <td>1000</td>\n",
              "      <td>Transaction</td>\n",
              "      <td>2015-03-15T00:00:00.000Z</td>\n",
              "      <td></td>\n",
              "      <td></td>\n",
              "      <td></td>\n",
              "      <td></td>\n",
              "      <td></td>\n",
              "      <td>TRUE</td>\n",
              "    </tr>\n",
              "    <tr>\n",
              "      <th>...</th>\n",
              "      <td>...</td>\n",
              "      <td>...</td>\n",
              "      <td>...</td>\n",
              "      <td>...</td>\n",
              "      <td>...</td>\n",
              "      <td>...</td>\n",
              "      <td>...</td>\n",
              "      <td>...</td>\n",
              "      <td>...</td>\n",
              "      <td>...</td>\n",
              "      <td>...</td>\n",
              "      <td>...</td>\n",
              "    </tr>\n",
              "    <tr>\n",
              "      <th>38760</th>\n",
              "      <td>14962</td>\n",
              "      <td>12</td>\n",
              "      <td></td>\n",
              "      <td>5000</td>\n",
              "      <td>Transaction</td>\n",
              "      <td>2014-11-16T00:00:00.000Z</td>\n",
              "      <td></td>\n",
              "      <td></td>\n",
              "      <td></td>\n",
              "      <td></td>\n",
              "      <td></td>\n",
              "      <td>TRUE</td>\n",
              "    </tr>\n",
              "    <tr>\n",
              "      <th>38761</th>\n",
              "      <td>14962</td>\n",
              "      <td>103</td>\n",
              "      <td></td>\n",
              "      <td>5000</td>\n",
              "      <td>Transaction</td>\n",
              "      <td>2014-11-16T00:00:00.000Z</td>\n",
              "      <td></td>\n",
              "      <td></td>\n",
              "      <td></td>\n",
              "      <td></td>\n",
              "      <td></td>\n",
              "      <td>TRUE</td>\n",
              "    </tr>\n",
              "    <tr>\n",
              "      <th>38762</th>\n",
              "      <td>14963</td>\n",
              "      <td>124</td>\n",
              "      <td></td>\n",
              "      <td>5000</td>\n",
              "      <td>Transaction</td>\n",
              "      <td>2015-02-10T00:00:00.000Z</td>\n",
              "      <td></td>\n",
              "      <td></td>\n",
              "      <td></td>\n",
              "      <td></td>\n",
              "      <td></td>\n",
              "      <td>TRUE</td>\n",
              "    </tr>\n",
              "    <tr>\n",
              "      <th>38763</th>\n",
              "      <td>14963</td>\n",
              "      <td>133</td>\n",
              "      <td></td>\n",
              "      <td>5000</td>\n",
              "      <td>Transaction</td>\n",
              "      <td>2015-02-10T00:00:00.000Z</td>\n",
              "      <td></td>\n",
              "      <td></td>\n",
              "      <td></td>\n",
              "      <td></td>\n",
              "      <td></td>\n",
              "      <td>TRUE</td>\n",
              "    </tr>\n",
              "    <tr>\n",
              "      <th>38764</th>\n",
              "      <td>14963</td>\n",
              "      <td>139</td>\n",
              "      <td></td>\n",
              "      <td>5000</td>\n",
              "      <td>Transaction</td>\n",
              "      <td>2015-02-10T00:00:00.000Z</td>\n",
              "      <td></td>\n",
              "      <td></td>\n",
              "      <td></td>\n",
              "      <td></td>\n",
              "      <td></td>\n",
              "      <td>TRUE</td>\n",
              "    </tr>\n",
              "  </tbody>\n",
              "</table>\n",
              "<p>38765 rows × 12 columns</p>\n",
              "</div>"
            ],
            "text/plain": [
              "       InteractionGroupId  ItemId ItemVariantId  UserId InteractionType  \\\n",
              "0                       1     106                  1000     Transaction   \n",
              "1                       1     129                  1000     Transaction   \n",
              "2                       1     165                  1000     Transaction   \n",
              "3                       2     131                  1000     Transaction   \n",
              "4                       2     133                  1000     Transaction   \n",
              "...                   ...     ...           ...     ...             ...   \n",
              "38760               14962      12                  5000     Transaction   \n",
              "38761               14962     103                  5000     Transaction   \n",
              "38762               14963     124                  5000     Transaction   \n",
              "38763               14963     133                  5000     Transaction   \n",
              "38764               14963     139                  5000     Transaction   \n",
              "\n",
              "                      TimeStamp FutureAttribute1 FutureAttribute2 Channel  \\\n",
              "0      2014-06-24T00:00:00.000Z                                             \n",
              "1      2014-06-24T00:00:00.000Z                                             \n",
              "2      2014-06-24T00:00:00.000Z                                             \n",
              "3      2015-03-15T00:00:00.000Z                                             \n",
              "4      2015-03-15T00:00:00.000Z                                             \n",
              "...                         ...              ...              ...     ...   \n",
              "38760  2014-11-16T00:00:00.000Z                                             \n",
              "38761  2014-11-16T00:00:00.000Z                                             \n",
              "38762  2015-02-10T00:00:00.000Z                                             \n",
              "38763  2015-02-10T00:00:00.000Z                                             \n",
              "38764  2015-02-10T00:00:00.000Z                                             \n",
              "\n",
              "      Catalog Strength IsPositive  \n",
              "0                            TRUE  \n",
              "1                            TRUE  \n",
              "2                            TRUE  \n",
              "3                            TRUE  \n",
              "4                            TRUE  \n",
              "...       ...      ...        ...  \n",
              "38760                        TRUE  \n",
              "38761                        TRUE  \n",
              "38762                        TRUE  \n",
              "38763                        TRUE  \n",
              "38764                        TRUE  \n",
              "\n",
              "[38765 rows x 12 columns]"
            ]
          },
          "execution_count": 15,
          "metadata": {},
          "output_type": "execute_result"
        }
      ],
      "source": [
        "ir_reco_interactions"
      ]
    },
    {
      "cell_type": "markdown",
      "metadata": {
        "nteract": {
          "transient": {
            "deleting": false
          }
        }
      },
      "source": [
        "# Export Data Files"
      ]
    },
    {
      "cell_type": "markdown",
      "metadata": {
        "nteract": {
          "transient": {
            "deleting": false
          }
        }
      },
      "source": [
        "## Export locally"
      ]
    },
    {
      "cell_type": "markdown",
      "metadata": {
        "nteract": {
          "transient": {
            "deleting": false
          }
        }
      },
      "source": [
        "We will export the product catalog and interactions for use in analyzing the results of the recommendation into our data folder.\n",
        "\n",
        "**NOTE:** Example output files are included in this repo, but they will be overwritten by the files you are generating."
      ]
    },
    {
      "cell_type": "code",
      "execution_count": 16,
      "metadata": {
        "gather": {
          "logged": 1675374232707
        },
        "jupyter": {
          "outputs_hidden": false,
          "source_hidden": false
        },
        "nteract": {
          "transient": {
            "deleting": false
          }
        }
      },
      "outputs": [],
      "source": [
        "products_df.to_csv('data/products.csv', index=False, header=True)"
      ]
    },
    {
      "cell_type": "code",
      "execution_count": 17,
      "metadata": {
        "gather": {
          "logged": 1675374233029
        },
        "jupyter": {
          "outputs_hidden": false,
          "source_hidden": false
        },
        "nteract": {
          "transient": {
            "deleting": false
          }
        }
      },
      "outputs": [],
      "source": [
        "interactions_df.to_csv('data/orders.csv', index=False, header=True)"
      ]
    },
    {
      "cell_type": "markdown",
      "metadata": {
        "nteract": {
          "transient": {
            "deleting": false
          }
        }
      },
      "source": [
        "The two formatted files to be used with Intelligent Recommendations will be setup in the same folder structure/naming that is required by the IR service."
      ]
    },
    {
      "cell_type": "code",
      "execution_count": 18,
      "metadata": {
        "gather": {
          "logged": 1675374233360
        },
        "jupyter": {
          "outputs_hidden": false,
          "source_hidden": false
        },
        "nteract": {
          "transient": {
            "deleting": false
          }
        }
      },
      "outputs": [],
      "source": [
        "output_path = 'output'"
      ]
    },
    {
      "cell_type": "code",
      "execution_count": 19,
      "metadata": {
        "gather": {
          "logged": 1675374233594
        },
        "jupyter": {
          "outputs_hidden": false,
          "source_hidden": false
        },
        "nteract": {
          "transient": {
            "deleting": false
          }
        }
      },
      "outputs": [],
      "source": [
        "# Create a folder to use for the output files for items and variants \n",
        "items_path = 'Reco_ItemsAndVariants'\n",
        "os.makedirs(output_path + '/' + items_path, exist_ok=True)\n",
        "\n",
        "# Create a folder to use for the output files for interactions\n",
        "interactions_path = 'Reco_Interactions'\n",
        "os.makedirs(output_path + '/' + interactions_path, exist_ok=True)"
      ]
    },
    {
      "cell_type": "code",
      "execution_count": 20,
      "metadata": {
        "gather": {
          "logged": 1675374233843
        },
        "jupyter": {
          "outputs_hidden": false,
          "source_hidden": false
        },
        "nteract": {
          "transient": {
            "deleting": false
          }
        }
      },
      "outputs": [],
      "source": [
        "# the files CANNOT have the headers included, as Intelligent Recommendations expects them this way\n",
        "ir_reco_item_variants.to_csv(output_path + '/' + items_path + '/item_variants.csv', index=False, header=False)"
      ]
    },
    {
      "cell_type": "code",
      "execution_count": 21,
      "metadata": {
        "gather": {
          "logged": 1675374234137
        },
        "jupyter": {
          "outputs_hidden": false,
          "source_hidden": false
        },
        "nteract": {
          "transient": {
            "deleting": false
          }
        }
      },
      "outputs": [],
      "source": [
        "ir_reco_interactions.to_csv(output_path + '/' + interactions_path + '/interactions.csv', index=False, header=False)"
      ]
    },
    {
      "cell_type": "markdown",
      "metadata": {
        "nteract": {
          "transient": {
            "deleting": false
          }
        }
      },
      "source": [
        "Once the files are exported you can donwload them and load into the Azure Storage account container using the portal or Storage Explorer.\n",
        "\n",
        "Instructions for setting up manually are here: [Configure the root folder](https://docs.microsoft.com/en-us/industry/retail/intelligent-recommendations/deploy-data-lake-storage#download-the-modeljson-file-and-configure-the-root-folder) but use the interactions.csv and item_variants.csv files instead of the two samples provided.     **NOTE:** We do not have image data available, so you will not need to setup the Reco_ItemAndVariantImages folder at this time. \n",
        "\n",
        "However, the next steps allow you to access and load the files leveraging a datastore in Azure Machine Learning."
      ]
    },
    {
      "cell_type": "markdown",
      "metadata": {
        "nteract": {
          "transient": {
            "deleting": false
          }
        }
      },
      "source": [
        "## (Option) Add the datasets to IR Storage through AML\n",
        "\n",
        "We will leverage the storage used for Intelligent Recommendations within AML.   This allows us to both write out the files we will use for training mnodels, but you could also register the dataasets to share with other users if needed.\n",
        "\n",
        "[Connect to Storage Services on Azure with datastores](https://docs.microsoft.com/en-us/azure/machine-learning/v1/how-to-access-data)"
      ]
    },
    {
      "cell_type": "markdown",
      "metadata": {},
      "source": [
        "The first time you use the Azure CLI (command line interface) you will likely need to authenticate.  Follow the directions after executing the next cell - go to the browser link provided and enter the code, then login, and agree to \"Are you trying to login as the Azure CLI\".  "
      ]
    },
    {
      "cell_type": "code",
      "execution_count": 22,
      "metadata": {
        "gather": {
          "logged": 1675374234564
        },
        "jupyter": {
          "outputs_hidden": false,
          "source_hidden": false
        },
        "nteract": {
          "transient": {
            "deleting": false
          }
        }
      },
      "outputs": [],
      "source": [
        "import azureml.core\n",
        "from azureml.core import Workspace, Datastore, Dataset\n",
        "\n",
        "ws = Workspace.from_config()"
      ]
    },
    {
      "cell_type": "code",
      "execution_count": 23,
      "metadata": {
        "gather": {
          "logged": 1675374234985
        },
        "jupyter": {
          "outputs_hidden": false,
          "source_hidden": false
        },
        "nteract": {
          "transient": {
            "deleting": false
          }
        }
      },
      "outputs": [],
      "source": [
        "# Register the storage account you plan to use for Intelligent Recommendations (variables were set in previous steps)\n",
        "\n",
        "blob_datastore_name='irdatablob' # Name of the datastore in your Azure Machine Learning Workspace\n",
        "\n",
        "blob_datastore = Datastore.register_azure_blob_container(workspace=ws, \n",
        "                                                         datastore_name=blob_datastore_name, \n",
        "                                                         container_name=container_name, \n",
        "                                                         account_name=account_name,\n",
        "                                                         account_key=account_key)"
      ]
    },
    {
      "cell_type": "code",
      "execution_count": 24,
      "metadata": {
        "gather": {
          "logged": 1675374235322
        },
        "jupyter": {
          "outputs_hidden": false,
          "source_hidden": false
        },
        "nteract": {
          "transient": {
            "deleting": false
          }
        }
      },
      "outputs": [
        {
          "name": "stdout",
          "output_type": "stream",
          "text": [
            "Uploading an estimated of 3 files\n",
            "Uploading output/Reco_ItemsAndVariants/.amlignore\n",
            "Uploaded output/Reco_ItemsAndVariants/.amlignore, 1 files out of an estimated total of 3\n",
            "Uploading output/Reco_ItemsAndVariants/.amlignore.amltmp\n",
            "Uploaded output/Reco_ItemsAndVariants/.amlignore.amltmp, 2 files out of an estimated total of 3\n",
            "Uploading output/Reco_ItemsAndVariants/item_variants.csv\n",
            "Uploaded output/Reco_ItemsAndVariants/item_variants.csv, 3 files out of an estimated total of 3\n",
            "Uploaded 3 files\n"
          ]
        },
        {
          "data": {
            "text/plain": [
              "$AZUREML_DATAREFERENCE_9c0cafb1051b44c7a95e4e97241b7290"
            ]
          },
          "execution_count": 24,
          "metadata": {},
          "output_type": "execute_result"
        },
        {
          "name": "stderr",
          "output_type": "stream",
          "text": [
            "\"Datastore.upload\" is deprecated after version 1.0.69. Please use \"Dataset.File.upload_directory\" to upload your files             from a local directory and create FileDataset in single method call. See Dataset API change notice at https://aka.ms/dataset-deprecation.\n"
          ]
        }
      ],
      "source": [
        "# Upload items and variants data\n",
        "src_path = output_path + '/' + items_path\n",
        "target_path = intelligent_recs_path + '/' + items_path\n",
        "blob_datastore.upload(src_dir=src_path, target_path=target_path, overwrite=True)"
      ]
    },
    {
      "cell_type": "code",
      "execution_count": 25,
      "metadata": {
        "gather": {
          "logged": 1675374235790
        },
        "jupyter": {
          "outputs_hidden": false,
          "source_hidden": false
        },
        "nteract": {
          "transient": {
            "deleting": false
          }
        }
      },
      "outputs": [
        {
          "name": "stdout",
          "output_type": "stream",
          "text": [
            "Uploading an estimated of 3 files\n",
            "Uploading output/Reco_Interactions/.amlignore\n",
            "Uploaded output/Reco_Interactions/.amlignore, 1 files out of an estimated total of 3\n",
            "Uploading output/Reco_Interactions/.amlignore.amltmp\n",
            "Uploaded output/Reco_Interactions/.amlignore.amltmp, 2 files out of an estimated total of 3\n",
            "Uploading output/Reco_Interactions/interactions.csv\n",
            "Uploaded output/Reco_Interactions/interactions.csv, 3 files out of an estimated total of 3\n",
            "Uploaded 3 files\n"
          ]
        },
        {
          "data": {
            "text/plain": [
              "$AZUREML_DATAREFERENCE_a315d5d1de274e6698bcd05e56fda6e8"
            ]
          },
          "execution_count": 25,
          "metadata": {},
          "output_type": "execute_result"
        }
      ],
      "source": [
        "# Upload interactions data\n",
        "src_path = output_path + '/' + interactions_path\n",
        "target_path = intelligent_recs_path + '/' + interactions_path\n",
        "blob_datastore.upload(src_dir=src_path, target_path=target_path, overwrite=True)"
      ]
    },
    {
      "cell_type": "markdown",
      "metadata": {
        "nteract": {
          "transient": {
            "deleting": false
          }
        }
      },
      "source": [
        "## Add Configuration Files"
      ]
    },
    {
      "cell_type": "markdown",
      "metadata": {
        "nteract": {
          "transient": {
            "deleting": false
          }
        }
      },
      "source": [
        "There are two configuration files required for Intelligent Recommendations that are provided and should not be modified.  Versions of these are included with this repository - but it is recommended you check the documentation and download any updated files required.  \n",
        "\n",
        "Additional information about the [json.model file](https://docs.microsoft.com/en-us/industry/retail/intelligent-recommendations/deploy-data-lake-storage#download-the-modeljson-file-and-configure-the-root-folder) and [the Reco_Config file](https://docs.microsoft.com/en-us/industry/retail/intelligent-recommendations/deploy-data-lake-storage#download-the-modeljson-file-and-configure-the-root-folder).\n",
        "\n",
        "The model.json file should be placed in the root folder you are using for the Intelligent Recommendations files (\"groceries\" in our example) .   The config.csv file should be placed in a folder called \"Reco_Config\". \n"
      ]
    },
    {
      "cell_type": "code",
      "execution_count": 26,
      "metadata": {
        "gather": {
          "logged": 1675374236141
        },
        "jupyter": {
          "outputs_hidden": false,
          "source_hidden": false
        },
        "nteract": {
          "transient": {
            "deleting": false
          }
        }
      },
      "outputs": [
        {
          "name": "stdout",
          "output_type": "stream",
          "text": [
            "Uploading an estimated of 3 files\n",
            "Uploading data/root/.amlignore\n",
            "Uploaded data/root/.amlignore, 1 files out of an estimated total of 3\n",
            "Uploading data/root/.amlignore.amltmp\n",
            "Uploaded data/root/.amlignore.amltmp, 2 files out of an estimated total of 3\n",
            "Uploading data/root/model.json\n",
            "Uploaded data/root/model.json, 3 files out of an estimated total of 3\n",
            "Uploaded 3 files\n"
          ]
        },
        {
          "data": {
            "text/plain": [
              "$AZUREML_DATAREFERENCE_967c8a52a39d46a18fe23c79b79cfbc5"
            ]
          },
          "execution_count": 26,
          "metadata": {},
          "output_type": "execute_result"
        }
      ],
      "source": [
        "# Upload json.model file from local files (setup in the root data/root folder)\n",
        "src_path = 'data/root'\n",
        "target_path = intelligent_recs_path\n",
        "blob_datastore.upload(src_dir=src_path, target_path=target_path, overwrite=True)"
      ]
    },
    {
      "cell_type": "code",
      "execution_count": 27,
      "metadata": {
        "gather": {
          "logged": 1675374236498
        },
        "jupyter": {
          "outputs_hidden": false,
          "source_hidden": false
        },
        "nteract": {
          "transient": {
            "deleting": false
          }
        }
      },
      "outputs": [
        {
          "name": "stdout",
          "output_type": "stream",
          "text": [
            "Uploading an estimated of 3 files\n",
            "Uploading data/Reco_Config/.amlignore\n",
            "Uploaded data/Reco_Config/.amlignore, 1 files out of an estimated total of 3\n",
            "Uploading data/Reco_Config/.amlignore.amltmp\n",
            "Uploaded data/Reco_Config/.amlignore.amltmp, 2 files out of an estimated total of 3\n",
            "Uploading data/Reco_Config/Sample_Config.csv\n",
            "Uploaded data/Reco_Config/Sample_Config.csv, 3 files out of an estimated total of 3\n",
            "Uploaded 3 files\n"
          ]
        },
        {
          "data": {
            "text/plain": [
              "$AZUREML_DATAREFERENCE_7c28239a8bba4c74ac5873345b47aa46"
            ]
          },
          "execution_count": 27,
          "metadata": {},
          "output_type": "execute_result"
        }
      ],
      "source": [
        "# Upload configuration file from local files (setup in the root data/Reco_Config folder)\n",
        "src_path = 'data/Reco_Config'\n",
        "target_path = intelligent_recs_path + '/Reco_Config'\n",
        "blob_datastore.upload(src_dir=src_path, target_path=target_path, overwrite=True)"
      ]
    },
    {
      "cell_type": "markdown",
      "metadata": {
        "nteract": {
          "transient": {
            "deleting": false
          }
        }
      },
      "source": [
        "# Confirm File Setup"
      ]
    },
    {
      "cell_type": "markdown",
      "metadata": {
        "nteract": {
          "transient": {
            "deleting": false
          }
        }
      },
      "source": [
        "Once you have completed these steps, your storage account should look similar to the following.  \n",
        "\n",
        "**NOTE:** The .amlignore and .amlignore.amltmp files may appear if you followed the steps above to add them to the AML datastore, they will be ignored by Intelligent Recommendations.  If you uploaded the files using Storage Explorer or your browser you will not see those files.  If you've not already, you can delete any files you used for setting up the containers (empty.txt in our example).\n",
        "\n",
        "**Main Folder (groceries) in the root container (ircontainer).**\n",
        "\n",
        "<div><img src=\"./images/ircontainer_root.png\" width=\"100\"></div>\n",
        "\n"
      ]
    },
    {
      "cell_type": "markdown",
      "metadata": {
        "nteract": {
          "transient": {
            "deleting": false
          }
        }
      },
      "source": [
        "**Reco_Config folder**\n",
        "\n",
        "<div><img src=\"./images/ircontainer_reco_config.png\" width=\"100\"></div>\n",
        "\n",
        "\n"
      ]
    },
    {
      "cell_type": "markdown",
      "metadata": {
        "nteract": {
          "transient": {
            "deleting": false
          }
        }
      },
      "source": [
        "**Reco_ItemsAndVariants folder**\n",
        "\n",
        "<div><img src=\"./images/ircontainer_reco_itemsandvariants.png\" width=\"100\"></div>"
      ]
    },
    {
      "cell_type": "markdown",
      "metadata": {
        "nteract": {
          "transient": {
            "deleting": false
          }
        }
      },
      "source": [
        "**Reco_Interactions folder**\n",
        "\n",
        "![Reco_Config Folder](./images/ircontainer_reco_interactions.png)"
      ]
    },
    {
      "cell_type": "markdown",
      "metadata": {
        "nteract": {
          "transient": {
            "deleting": false
          }
        }
      },
      "source": [
        "Once you have the files setup, you are ready to move onto setting up the Intelligent Recommendations account and service.  Please see the notebook 02_Recommendations.ipynb."
      ]
    }
  ],
  "metadata": {
    "kernel_info": {
      "name": "python38-azureml"
    },
    "kernelspec": {
      "display_name": "Python 3.8 - AzureML",
      "language": "python",
      "name": "python38-azureml"
    },
    "language_info": {
      "codemirror_mode": {
        "name": "ipython",
        "version": 3
      },
      "file_extension": ".py",
      "mimetype": "text/x-python",
      "name": "python",
      "nbconvert_exporter": "python",
      "pygments_lexer": "ipython3",
      "version": "3.8.10"
    },
    "microsoft": {
      "host": {
        "AzureML": {
          "notebookHasBeenCompleted": true
        }
      }
    },
    "nteract": {
      "version": "nteract-front-end@1.0.0"
    },
    "vscode": {
      "interpreter": {
        "hash": "a879dd586f4506a1b4cdd52326469d132a1fb85e956f3bac6cce420223b5d063"
      }
    }
  },
  "nbformat": 4,
  "nbformat_minor": 0
}
