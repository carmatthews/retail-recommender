{
  "cells": [
    {
      "cell_type": "markdown",
      "metadata": {
        "nteract": {
          "transient": {
            "deleting": false
          }
        }
      },
      "source": [
        "# Bringing it Together\n",
        "\n",
        "Now that we've created a general purpose recommendation engine with Intelligent Recommendations and a ranking and prioritization system with Azure Personalizer, you are ready to tie it all together to get a customized suggestion.\n",
        "\n",
        "We will select a customer that is currently doing online grocery shopping and has a few items in their cart already.  We will suggest a \"Don't forget\" item using the top most ranked item from a set of suggested grocery products.   "
      ]
    },
    {
      "cell_type": "markdown",
      "metadata": {},
      "source": [
        "# Prerequisites\n",
        "\n",
        "* Complete all steps in the previous 3 notebooks to setup the services and train your models. \n",
        "* Intelligent Recommendations & Azure Personalizer Resources setup and congfigured.\n"
      ]
    },
    {
      "cell_type": "markdown",
      "metadata": {},
      "source": [
        "# Notebook Setup & Configuration"
      ]
    },
    {
      "cell_type": "code",
      "execution_count": 58,
      "metadata": {
        "gather": {
          "logged": 1675383115318
        }
      },
      "outputs": [],
      "source": [
        "import json\n",
        "import matplotlib.pyplot as plt\n",
        "import random \n",
        "import requests\n",
        "import time\n",
        "import uuid\n",
        "import datetime\n",
        "import os\n",
        "import base64\n",
        "import pandas as pd"
      ]
    },
    {
      "cell_type": "markdown",
      "metadata": {
        "nteract": {
          "transient": {
            "deleting": false
          }
        }
      },
      "source": [
        "## Install Client Library\n",
        "\n",
        "You only need to run the following cell once to install the client library, you can uncomment it and run from the notebook, or run from a terminal.  "
      ]
    },
    {
      "cell_type": "code",
      "execution_count": 59,
      "metadata": {
        "gather": {
          "logged": 1675383115710
        },
        "jupyter": {
          "outputs_hidden": false,
          "source_hidden": false
        },
        "nteract": {
          "transient": {
            "deleting": false
          }
        }
      },
      "outputs": [],
      "source": [
        "# Uncomment and run the following line if you haven't already installed the client library.\n",
        "#!pip install azure-cognitiveservices-personalizer"
      ]
    },
    {
      "cell_type": "code",
      "execution_count": 60,
      "metadata": {
        "gather": {
          "logged": 1675383116109
        },
        "jupyter": {
          "outputs_hidden": false,
          "source_hidden": false
        },
        "nteract": {
          "transient": {
            "deleting": false
          }
        }
      },
      "outputs": [],
      "source": [
        "from azure.cognitiveservices.personalizer import PersonalizerClient\n",
        "from azure.cognitiveservices.personalizer.models import RankableAction, RewardRequest, RankRequest\n",
        "from msrest.authentication import CognitiveServicesCredentials"
      ]
    },
    {
      "cell_type": "markdown",
      "metadata": {
        "nteract": {
          "transient": {
            "deleting": false
          }
        }
      },
      "source": [
        "## Connect to Personalizer Service"
      ]
    },
    {
      "cell_type": "code",
      "execution_count": 61,
      "metadata": {
        "gather": {
          "logged": 1675383116579
        }
      },
      "outputs": [],
      "source": [
        "# Replace 'personalization_base_url' and 'resource_key' with your valid endpoint values.  You can view these from the Personalizer Resource Azure Portal Page.\n",
        "personalization_base_url = \"Your_Personalizer_url\"  \n",
        "resource_key = \"Your_Personalizer_ResourceKey\""
      ]
    },
    {
      "cell_type": "code",
      "execution_count": 63,
      "metadata": {
        "gather": {
          "logged": 1675383117286
        },
        "jupyter": {
          "outputs_hidden": false,
          "source_hidden": false
        },
        "nteract": {
          "transient": {
            "deleting": false
          }
        }
      },
      "outputs": [],
      "source": [
        "# Instantiate a Personalizer client\n",
        "client = PersonalizerClient(personalization_base_url, CognitiveServicesCredentials(resource_key))"
      ]
    },
    {
      "cell_type": "markdown",
      "metadata": {
        "nteract": {
          "transient": {
            "deleting": false
          }
        }
      },
      "source": [
        "### API Builder"
      ]
    },
    {
      "cell_type": "code",
      "execution_count": 64,
      "metadata": {
        "gather": {
          "logged": 1675383117938
        },
        "jupyter": {
          "outputs_hidden": false,
          "source_hidden": false
        },
        "nteract": {
          "transient": {
            "deleting": false
          }
        }
      },
      "outputs": [],
      "source": [
        "# build URLs\n",
        "personalization_rank_url = personalization_base_url + \"personalizer/v1.0/rank\"\n",
        "personalization_reward_url = personalization_base_url + \"personalizer/v1.0/events/\" #add \"{eventId}/reward\"\n",
        "personalization_model_properties_url = personalization_base_url + \"personalizer/v1.0/model/properties\"\n",
        "headers = {'Ocp-Apim-Subscription-Key' : resource_key, 'Content-Type': 'application/json'}\n"
      ]
    },
    {
      "cell_type": "markdown",
      "metadata": {
        "nteract": {
          "transient": {
            "deleting": false
          }
        }
      },
      "source": [
        "### Test Personalizer Service API Call\n",
        "\n",
        "This should return a \"Response [200]\" indicating the call was successful, and return the date/time the personalizer model was created and last modified."
      ]
    },
    {
      "cell_type": "code",
      "execution_count": 65,
      "metadata": {
        "gather": {
          "logged": 1675383118255
        },
        "jupyter": {
          "outputs_hidden": false,
          "source_hidden": false
        },
        "nteract": {
          "transient": {
            "deleting": false
          }
        }
      },
      "outputs": [
        {
          "name": "stdout",
          "output_type": "stream",
          "text": [
            "<Response [200]>\n",
            "{'creationTime': '2023-02-01T21:48:39+00:00', 'lastModifiedTime': '2023-02-02T23:14:17+00:00'}\n"
          ]
        }
      ],
      "source": [
        "# get model properties\n",
        "response = requests.get(personalization_model_properties_url, headers = headers, params = None)\n",
        "\n",
        "print(response)\n",
        "print(response.json())"
      ]
    },
    {
      "cell_type": "markdown",
      "metadata": {
        "nteract": {
          "transient": {
            "deleting": false
          }
        }
      },
      "source": [
        "## Connect to Intelligent Recommendations Service\n"
      ]
    },
    {
      "cell_type": "code",
      "execution_count": 66,
      "metadata": {
        "gather": {
          "logged": 1675383118662
        },
        "jupyter": {
          "outputs_hidden": false,
          "source_hidden": false
        },
        "nteract": {
          "transient": {
            "deleting": false
          }
        }
      },
      "outputs": [],
      "source": [
        "tenant_id = 'Your_Azure_Tenant_Id'\n",
        "\n",
        "ir_base_uri = 'Your_IR_Service_Endpoint'  #the Url from the overview page for the Service Endpoint in the IR account (Step 1 above)\n",
        "model = 'Your_Model_Name'  #the name of the modeling component in your IR account\n",
        "\n",
        "client_id = 'Your_Client_ID'  #the application client id you created in Step 2 of the setup.\n",
        "client_secret = 'Your_Client_Secret_Value' #from step 2 above.\n",
        "\n",
        "auth_server_url = \"https://login.microsoftonline.com/\" + tenant_id + \"/oauth2/v2.0/token\"\n",
        "scope = ir_base_uri + '/.default'"
      ]
    },
    {
      "cell_type": "code",
      "execution_count": 68,
      "metadata": {
        "gather": {
          "logged": 1675383119527
        },
        "jupyter": {
          "outputs_hidden": false,
          "source_hidden": false
        },
        "nteract": {
          "transient": {
            "deleting": false
          }
        }
      },
      "outputs": [],
      "source": [
        "# Encode the client ID and client secret\n",
        "authorization = base64.b64encode(bytes(client_id + \":\" + client_secret, \"ISO-8859-1\")).decode(\"ascii\")\n",
        "\n",
        "headers = {\n",
        "    \"Authorization\": f\"Basic {authorization}\",\n",
        "    \"Content-Type\": \"application/x-www-form-urlencoded\"\n",
        "}\n",
        "body = {\n",
        "    \"grant_type\": \"client_credentials\", \"scope\" : scope\n",
        "}\n",
        "\n",
        "response = requests.post(auth_server_url, data=body, headers=headers)\n",
        "#print(response.text)\n",
        "\n",
        "\n",
        "tokens = json.loads(response.text)\n",
        "token = tokens['access_token']\n",
        "#print(token)"
      ]
    },
    {
      "cell_type": "markdown",
      "metadata": {
        "nteract": {
          "transient": {
            "deleting": false
          }
        }
      },
      "source": [
        "### API Builder"
      ]
    },
    {
      "cell_type": "code",
      "execution_count": 69,
      "metadata": {
        "gather": {
          "logged": 1675383119932
        },
        "jupyter": {
          "outputs_hidden": false,
          "source_hidden": false
        },
        "nteract": {
          "transient": {
            "deleting": false
          }
        }
      },
      "outputs": [],
      "source": [
        "def recommendation_uri_builder(base_uri, command, model, seed_item = 0, seed_user = 0, return_count = 100, seed_items_list = '', skip_count = 0):\n",
        "\n",
        "    #as of July 2022, this is the API path\n",
        "    ir_path = '/reco/v1.0/'\n",
        "\n",
        "    # Get Similar Items - Returns a list of item-to-item recommendations. Recommended items can be similar to the seed item or related in some way, based on the way data is structured and the algorithm.\n",
        "    # algo type for similar are Visual, Textual: '/reco/v1.0/similar/{}?AlgoType=Textual&modeling={}&count={}'.format(seed_item, model, return_count)\n",
        "    if command == 'similar_text':  \n",
        "        uri = ir_base_uri + ir_path + 'similar/{}?AlgoType=Textual&modeling={}&count={}'.format(seed_item, model, return_count)\n",
        "    elif command == 'similar_visual':  \n",
        "        uri = ir_base_uri + ir_path + 'similar/{}?AlgoType=Visual&modeling={}&count={}'.format(seed_item, model, return_count)\n",
        "   \n",
        "    # Popular Items - Returns the most popular items from the catalog, ranked by the number of interactions over a period of time.\n",
        "    elif command == 'popular':\n",
        "        uri = ir_base_uri + ir_path + 'popular?modeling={}&count={}'.format(model, return_count)\n",
        "    \n",
        "    # New Items - Returns the catalog items ranked by release date, newest first.\n",
        "    elif command == 'new':\n",
        "        uri = ir_base_uri + ir_path + 'new?modeling={}&count={}'.format(model, return_count)\n",
        "\n",
        "    # Trending Items - Returns the catalog items ranked by popularity, giving newer events more weight than older ones. Popularity is scored over a configurable period of time.      \n",
        "    elif command == 'trending':\n",
        "        uri = ir_base_uri + ir_path + 'trending?modeling={}&count={}'.format(model, return_count)\n",
        "    \n",
        "    # User Picks - Returns personal picks, or items from the catalog that the user is likely to interact with.\n",
        "    elif command == 'picks':\n",
        "        #algo types for user picks is only RecentPurchases\n",
        "        uri = ir_base_uri + ir_path + 'picks?AlgoType=RecentPurchases&modeling={}&userId={}&count={}'.format(model, seed_user, return_count)\n",
        "    \n",
        "    # Next Best Action - Cart or frequently bought together recommendations return items that are likely to be consumed together with the seed item(s).\n",
        "    #  returns a ranked list of \"next best\" based on a single item\n",
        "    elif command == 'fbt':\n",
        "        uri = ir_base_uri + ir_path + 'cart/{}?modeling={}&count={}'.format(seed_item, model, return_count)\n",
        "    # returns a ranked list of \"next best\" based on a list/set of mulitple items\n",
        "    elif command == 'cart': \n",
        "        uri = ir_base_uri + ir_path + 'cart/items?seedItemIds={}&modeling={}&count={}&skipItems={}&userId={}'.format(seed_items_list, model, return_count, skip_count, seed_user)\n",
        "     \n",
        "    else:\n",
        "        print(\"No URI could be formed\")\n",
        "\n",
        "    return uri"
      ]
    },
    {
      "cell_type": "code",
      "execution_count": 70,
      "metadata": {
        "gather": {
          "logged": 1675383120473
        },
        "jupyter": {
          "outputs_hidden": false,
          "source_hidden": false
        },
        "nteract": {
          "transient": {
            "deleting": false
          }
        }
      },
      "outputs": [],
      "source": [
        "def return_recommended_items(uri, token):\n",
        "    api_call_headers = {'Authorization': 'Bearer ' + token}\n",
        "    api_call_response = requests.get(uri, headers=api_call_headers)  \n",
        "\n",
        "    #note the return will be string/textual values\n",
        "    rec_items = pd.json_normalize(json.loads(api_call_response.text)['items'])['id']\n",
        "\n",
        "    #for our example, our ids need to be int, edit/remove this for your use case as needed.\n",
        "    rec_items_intlist = list(map(int, rec_items))\n",
        "    \n",
        "    return rec_items_intlist"
      ]
    },
    {
      "cell_type": "markdown",
      "metadata": {
        "nteract": {
          "transient": {
            "deleting": false
          }
        }
      },
      "source": [
        "### Test IR Service "
      ]
    },
    {
      "cell_type": "markdown",
      "metadata": {
        "nteract": {
          "transient": {
            "deleting": false
          }
        }
      },
      "source": [
        "Test the Intelligent Recommendation service by getting a top 10 list of most popular items."
      ]
    },
    {
      "cell_type": "code",
      "execution_count": 71,
      "metadata": {
        "gather": {
          "logged": 1675383120905
        },
        "jupyter": {
          "outputs_hidden": false,
          "source_hidden": false
        },
        "nteract": {
          "transient": {
            "deleting": false
          }
        }
      },
      "outputs": [
        {
          "name": "stdout",
          "output_type": "stream",
          "text": [
            "[165, 103, 123, 139, 166, 124, 157, 13, 131, 31]\n"
          ]
        }
      ],
      "source": [
        "popular_uri = recommendation_uri_builder(ir_base_uri, 'popular', model, return_count=10)\n",
        "popular_items = return_recommended_items(popular_uri, token)\n",
        "print(popular_items)"
      ]
    },
    {
      "cell_type": "markdown",
      "metadata": {
        "nteract": {
          "transient": {
            "deleting": false
          }
        }
      },
      "source": [
        "## Get Product Catalog & Order History\n",
        "\n",
        "This reference data is used for finding an example basket with items to work from and viewing characteristics of the recommendation results."
      ]
    },
    {
      "cell_type": "code",
      "execution_count": 72,
      "metadata": {
        "gather": {
          "logged": 1675383121405
        },
        "jupyter": {
          "outputs_hidden": false,
          "source_hidden": false
        },
        "nteract": {
          "transient": {
            "deleting": false
          }
        }
      },
      "outputs": [
        {
          "name": "stdout",
          "output_type": "stream",
          "text": [
            "(167, 3)\n"
          ]
        },
        {
          "data": {
            "text/html": [
              "<div>\n",
              "<style scoped>\n",
              "    .dataframe tbody tr th:only-of-type {\n",
              "        vertical-align: middle;\n",
              "    }\n",
              "\n",
              "    .dataframe tbody tr th {\n",
              "        vertical-align: top;\n",
              "    }\n",
              "\n",
              "    .dataframe thead th {\n",
              "        text-align: right;\n",
              "    }\n",
              "</style>\n",
              "<table border=\"1\" class=\"dataframe\">\n",
              "  <thead>\n",
              "    <tr style=\"text-align: right;\">\n",
              "      <th></th>\n",
              "      <th>itemId</th>\n",
              "      <th>itemDescription</th>\n",
              "      <th>earliestDate</th>\n",
              "    </tr>\n",
              "  </thead>\n",
              "  <tbody>\n",
              "    <tr>\n",
              "      <th>0</th>\n",
              "      <td>1</td>\n",
              "      <td>Instant food products</td>\n",
              "      <td>2014-01-01T00:00:00.000Z</td>\n",
              "    </tr>\n",
              "    <tr>\n",
              "      <th>1</th>\n",
              "      <td>2</td>\n",
              "      <td>UHT-milk</td>\n",
              "      <td>2014-01-02T00:00:00.000Z</td>\n",
              "    </tr>\n",
              "    <tr>\n",
              "      <th>2</th>\n",
              "      <td>3</td>\n",
              "      <td>abrasive cleaner</td>\n",
              "      <td>2014-01-21T00:00:00.000Z</td>\n",
              "    </tr>\n",
              "    <tr>\n",
              "      <th>3</th>\n",
              "      <td>4</td>\n",
              "      <td>artif. sweetener</td>\n",
              "      <td>2014-02-10T00:00:00.000Z</td>\n",
              "    </tr>\n",
              "    <tr>\n",
              "      <th>4</th>\n",
              "      <td>5</td>\n",
              "      <td>baby cosmetics</td>\n",
              "      <td>2014-01-09T00:00:00.000Z</td>\n",
              "    </tr>\n",
              "  </tbody>\n",
              "</table>\n",
              "</div>"
            ],
            "text/plain": [
              "   itemId        itemDescription              earliestDate\n",
              "0       1  Instant food products  2014-01-01T00:00:00.000Z\n",
              "1       2               UHT-milk  2014-01-02T00:00:00.000Z\n",
              "2       3       abrasive cleaner  2014-01-21T00:00:00.000Z\n",
              "3       4       artif. sweetener  2014-02-10T00:00:00.000Z\n",
              "4       5         baby cosmetics  2014-01-09T00:00:00.000Z"
            ]
          },
          "execution_count": 72,
          "metadata": {},
          "output_type": "execute_result"
        }
      ],
      "source": [
        "products_df=pd.read_csv('data/products.csv')\n",
        "print(products_df.shape)\n",
        "products_df.head()"
      ]
    },
    {
      "cell_type": "code",
      "execution_count": 73,
      "metadata": {
        "gather": {
          "logged": 1675383122054
        },
        "jupyter": {
          "outputs_hidden": false,
          "source_hidden": false
        },
        "nteract": {
          "transient": {
            "deleting": false
          }
        }
      },
      "outputs": [
        {
          "name": "stdout",
          "output_type": "stream",
          "text": [
            "(38765, 5)\n"
          ]
        },
        {
          "data": {
            "text/html": [
              "<div>\n",
              "<style scoped>\n",
              "    .dataframe tbody tr th:only-of-type {\n",
              "        vertical-align: middle;\n",
              "    }\n",
              "\n",
              "    .dataframe tbody tr th {\n",
              "        vertical-align: top;\n",
              "    }\n",
              "\n",
              "    .dataframe thead th {\n",
              "        text-align: right;\n",
              "    }\n",
              "</style>\n",
              "<table border=\"1\" class=\"dataframe\">\n",
              "  <thead>\n",
              "    <tr style=\"text-align: right;\">\n",
              "      <th></th>\n",
              "      <th>basketId</th>\n",
              "      <th>Member_number</th>\n",
              "      <th>Date</th>\n",
              "      <th>itemId</th>\n",
              "      <th>itemDescription</th>\n",
              "    </tr>\n",
              "  </thead>\n",
              "  <tbody>\n",
              "    <tr>\n",
              "      <th>0</th>\n",
              "      <td>1</td>\n",
              "      <td>1000</td>\n",
              "      <td>2014-06-24T00:00:00.000Z</td>\n",
              "      <td>106</td>\n",
              "      <td>pastry</td>\n",
              "    </tr>\n",
              "    <tr>\n",
              "      <th>1</th>\n",
              "      <td>1</td>\n",
              "      <td>1000</td>\n",
              "      <td>2014-06-24T00:00:00.000Z</td>\n",
              "      <td>129</td>\n",
              "      <td>salty snack</td>\n",
              "    </tr>\n",
              "    <tr>\n",
              "      <th>2</th>\n",
              "      <td>1</td>\n",
              "      <td>1000</td>\n",
              "      <td>2014-06-24T00:00:00.000Z</td>\n",
              "      <td>165</td>\n",
              "      <td>whole milk</td>\n",
              "    </tr>\n",
              "    <tr>\n",
              "      <th>3</th>\n",
              "      <td>2</td>\n",
              "      <td>1000</td>\n",
              "      <td>2015-03-15T00:00:00.000Z</td>\n",
              "      <td>131</td>\n",
              "      <td>sausage</td>\n",
              "    </tr>\n",
              "    <tr>\n",
              "      <th>4</th>\n",
              "      <td>2</td>\n",
              "      <td>1000</td>\n",
              "      <td>2015-03-15T00:00:00.000Z</td>\n",
              "      <td>133</td>\n",
              "      <td>semi-finished bread</td>\n",
              "    </tr>\n",
              "  </tbody>\n",
              "</table>\n",
              "</div>"
            ],
            "text/plain": [
              "   basketId  Member_number                      Date  itemId  \\\n",
              "0         1           1000  2014-06-24T00:00:00.000Z     106   \n",
              "1         1           1000  2014-06-24T00:00:00.000Z     129   \n",
              "2         1           1000  2014-06-24T00:00:00.000Z     165   \n",
              "3         2           1000  2015-03-15T00:00:00.000Z     131   \n",
              "4         2           1000  2015-03-15T00:00:00.000Z     133   \n",
              "\n",
              "       itemDescription  \n",
              "0               pastry  \n",
              "1          salty snack  \n",
              "2           whole milk  \n",
              "3              sausage  \n",
              "4  semi-finished bread  "
            ]
          },
          "execution_count": 73,
          "metadata": {},
          "output_type": "execute_result"
        }
      ],
      "source": [
        "orders_df =pd.read_csv('data/orders.csv')\n",
        "print(orders_df.shape)\n",
        "orders_df.head()"
      ]
    },
    {
      "cell_type": "markdown",
      "metadata": {
        "nteract": {
          "transient": {
            "deleting": false
          }
        }
      },
      "source": [
        "# Setup Test Customer/Scenario"
      ]
    },
    {
      "cell_type": "markdown",
      "metadata": {
        "nteract": {
          "transient": {
            "deleting": false
          }
        }
      },
      "source": [
        "## Select a Customer/Basket"
      ]
    },
    {
      "cell_type": "markdown",
      "metadata": {
        "nteract": {
          "transient": {
            "deleting": false
          }
        }
      },
      "source": [
        "For this example we will use basket 13170, which belongs to Member Number 4524.  \n",
        "\n",
        "We will assume member 4524 is \"Alice\" from our file of customers (data/eaters.json).\n",
        "\n",
        "Alice is currently doing online shopping with a few items in her cart already.  We want to suggest a \"Don't forget\" item or two while she is shopping that are likely of interest to her.   \n",
        "\n",
        "We will first use recommendations to get a set of items we could suggest.  For our example, we will do a \"cart\" style recommendation which considers all the items already in the cart and recommends things that are frequently bought along with the items already in the cart.\n",
        "\n",
        "Once we have a set of recommendations (we will pick 4), we will set them up as actions, to be ranked by personalizer.  This will allow us to make the best recommendation first, and see if Alice decides to buy it or not.  If she does, we have completed the cycle, if she chooses not to buy it, we will try again."
      ]
    },
    {
      "cell_type": "code",
      "execution_count": 74,
      "metadata": {
        "gather": {
          "logged": 1675383122381
        },
        "jupyter": {
          "outputs_hidden": false,
          "source_hidden": false
        },
        "nteract": {
          "transient": {
            "deleting": false
          }
        }
      },
      "outputs": [
        {
          "data": {
            "text/html": [
              "<div>\n",
              "<style scoped>\n",
              "    .dataframe tbody tr th:only-of-type {\n",
              "        vertical-align: middle;\n",
              "    }\n",
              "\n",
              "    .dataframe tbody tr th {\n",
              "        vertical-align: top;\n",
              "    }\n",
              "\n",
              "    .dataframe thead th {\n",
              "        text-align: right;\n",
              "    }\n",
              "</style>\n",
              "<table border=\"1\" class=\"dataframe\">\n",
              "  <thead>\n",
              "    <tr style=\"text-align: right;\">\n",
              "      <th></th>\n",
              "      <th>basketId</th>\n",
              "      <th>Member_number</th>\n",
              "      <th>Date</th>\n",
              "      <th>itemId</th>\n",
              "      <th>itemDescription</th>\n",
              "    </tr>\n",
              "  </thead>\n",
              "  <tbody>\n",
              "    <tr>\n",
              "      <th>34143</th>\n",
              "      <td>13170</td>\n",
              "      <td>4524</td>\n",
              "      <td>2014-04-17T00:00:00.000Z</td>\n",
              "      <td>41</td>\n",
              "      <td>curd</td>\n",
              "    </tr>\n",
              "    <tr>\n",
              "      <th>34144</th>\n",
              "      <td>13170</td>\n",
              "      <td>4524</td>\n",
              "      <td>2014-04-17T00:00:00.000Z</td>\n",
              "      <td>103</td>\n",
              "      <td>other vegetables</td>\n",
              "    </tr>\n",
              "    <tr>\n",
              "      <th>34145</th>\n",
              "      <td>13170</td>\n",
              "      <td>4524</td>\n",
              "      <td>2014-04-17T00:00:00.000Z</td>\n",
              "      <td>120</td>\n",
              "      <td>red/blush wine</td>\n",
              "    </tr>\n",
              "  </tbody>\n",
              "</table>\n",
              "</div>"
            ],
            "text/plain": [
              "       basketId  Member_number                      Date  itemId  \\\n",
              "34143     13170           4524  2014-04-17T00:00:00.000Z      41   \n",
              "34144     13170           4524  2014-04-17T00:00:00.000Z     103   \n",
              "34145     13170           4524  2014-04-17T00:00:00.000Z     120   \n",
              "\n",
              "        itemDescription  \n",
              "34143              curd  \n",
              "34144  other vegetables  \n",
              "34145    red/blush wine  "
            ]
          },
          "execution_count": 74,
          "metadata": {},
          "output_type": "execute_result"
        }
      ],
      "source": [
        "basketId = 13170\n",
        "orders_df[orders_df['basketId'] == basketId]"
      ]
    },
    {
      "cell_type": "code",
      "execution_count": 75,
      "metadata": {
        "gather": {
          "logged": 1675383122772
        },
        "jupyter": {
          "outputs_hidden": false,
          "source_hidden": false
        },
        "nteract": {
          "transient": {
            "deleting": false
          }
        }
      },
      "outputs": [],
      "source": [
        "member_number = 4524\n",
        "customer = \"Alice\""
      ]
    },
    {
      "cell_type": "code",
      "execution_count": 76,
      "metadata": {
        "gather": {
          "logged": 1675383123268
        },
        "jupyter": {
          "outputs_hidden": false,
          "source_hidden": false
        },
        "nteract": {
          "transient": {
            "deleting": false
          }
        }
      },
      "outputs": [
        {
          "data": {
            "text/plain": [
              "'41,103,120'"
            ]
          },
          "execution_count": 76,
          "metadata": {},
          "output_type": "execute_result"
        }
      ],
      "source": [
        "# format the results as a comma separated string to pass as parameter to Intelligent Recommendations API.\n",
        "current_basket_items = orders_df[orders_df['basketId'] == basketId]['itemId']\n",
        "current_basket_items_list = current_basket_items.to_string(index=False).strip().split('\\n')\n",
        "current_basket_items_string = ','.join(current_basket_items_list)\n",
        "current_basket_items_string"
      ]
    },
    {
      "cell_type": "markdown",
      "metadata": {
        "nteract": {
          "transient": {
            "deleting": false
          }
        }
      },
      "source": [
        "# Get Recommendations"
      ]
    },
    {
      "cell_type": "code",
      "execution_count": 77,
      "metadata": {
        "gather": {
          "logged": 1675383123841
        },
        "jupyter": {
          "outputs_hidden": false,
          "source_hidden": false
        },
        "nteract": {
          "transient": {
            "deleting": false
          }
        }
      },
      "outputs": [],
      "source": [
        "current_items = current_basket_items_string \n",
        "item_count = 4\n",
        "\n",
        "cart_picks_uri = recommendation_uri_builder(ir_base_uri, 'cart', model, seed_user=member_number, seed_items_list = current_items, return_count = item_count, skip_count=2)\n",
        "cart_pick_items = return_recommended_items(cart_picks_uri, token)"
      ]
    },
    {
      "cell_type": "code",
      "execution_count": 78,
      "metadata": {
        "gather": {
          "logged": 1675383124483
        },
        "jupyter": {
          "outputs_hidden": false,
          "source_hidden": false
        },
        "nteract": {
          "transient": {
            "deleting": false
          }
        }
      },
      "outputs": [
        {
          "name": "stdout",
          "output_type": "stream",
          "text": [
            "The next  4 items to recommend based on what is already in Alice's cart are:\n"
          ]
        },
        {
          "data": {
            "text/html": [
              "<div>\n",
              "<style scoped>\n",
              "    .dataframe tbody tr th:only-of-type {\n",
              "        vertical-align: middle;\n",
              "    }\n",
              "\n",
              "    .dataframe tbody tr th {\n",
              "        vertical-align: top;\n",
              "    }\n",
              "\n",
              "    .dataframe thead th {\n",
              "        text-align: right;\n",
              "    }\n",
              "</style>\n",
              "<table border=\"1\" class=\"dataframe\">\n",
              "  <thead>\n",
              "    <tr style=\"text-align: right;\">\n",
              "      <th></th>\n",
              "      <th>itemId</th>\n",
              "      <th>itemDescription</th>\n",
              "      <th>earliestDate</th>\n",
              "    </tr>\n",
              "  </thead>\n",
              "  <tbody>\n",
              "    <tr>\n",
              "      <th>74</th>\n",
              "      <td>75</td>\n",
              "      <td>ice cream</td>\n",
              "      <td>2014-01-03T00:00:00.000Z</td>\n",
              "    </tr>\n",
              "    <tr>\n",
              "      <th>138</th>\n",
              "      <td>139</td>\n",
              "      <td>soda</td>\n",
              "      <td>2014-01-01T00:00:00.000Z</td>\n",
              "    </tr>\n",
              "    <tr>\n",
              "      <th>140</th>\n",
              "      <td>141</td>\n",
              "      <td>softener</td>\n",
              "      <td>2014-01-12T00:00:00.000Z</td>\n",
              "    </tr>\n",
              "    <tr>\n",
              "      <th>160</th>\n",
              "      <td>161</td>\n",
              "      <td>whipped/sour cream</td>\n",
              "      <td>2014-01-01T00:00:00.000Z</td>\n",
              "    </tr>\n",
              "  </tbody>\n",
              "</table>\n",
              "</div>"
            ],
            "text/plain": [
              "     itemId     itemDescription              earliestDate\n",
              "74       75           ice cream  2014-01-03T00:00:00.000Z\n",
              "138     139                soda  2014-01-01T00:00:00.000Z\n",
              "140     141            softener  2014-01-12T00:00:00.000Z\n",
              "160     161  whipped/sour cream  2014-01-01T00:00:00.000Z"
            ]
          },
          "execution_count": 78,
          "metadata": {},
          "output_type": "execute_result"
        }
      ],
      "source": [
        "#Recommendations\n",
        "print('The next ', item_count, 'items to recommend based on what is already in Alice\\'s cart are:')\n",
        "products_df[products_df['itemId'].isin(cart_pick_items)]"
      ]
    },
    {
      "cell_type": "markdown",
      "metadata": {
        "nteract": {
          "transient": {
            "deleting": false
          }
        }
      },
      "source": [
        "We have 4 items we could recommend, but which is the best one to show Alice?  Now we use Personalizer to determine the best option based on the current context of Alice's shopping situation, and to learn more about what Alice will select."
      ]
    },
    {
      "cell_type": "markdown",
      "metadata": {
        "nteract": {
          "transient": {
            "deleting": false
          }
        }
      },
      "source": [
        "# Get a Personalized Suggestion"
      ]
    },
    {
      "cell_type": "markdown",
      "metadata": {
        "nteract": {
          "transient": {
            "deleting": false
          }
        }
      },
      "source": [
        "## Function: Get Actions\n",
        "\n",
        "We take the set of recommendations, and format them as \"actions\" available for the Personalizer Service to rank to prioritize which suggestions to make first, next, etc.  Based on the user's feedback Personalizer can learn from those cycles.\n",
        "\n",
        "**NOTE:** We are going to randomly add features (type, texture, flavor) to the actions as we don't have more detail on the grocery items available.  However, in a real-world scenario you should try to leverage existing descriptive information about the items.  This is the \"context\" that further personalizes suggestions beyond the generic suggestions."
      ]
    },
    {
      "cell_type": "markdown",
      "metadata": {
        "nteract": {
          "transient": {
            "deleting": false
          }
        }
      },
      "source": [
        "Products recommended by Intelligent Recommendations for this Market Basket:\n",
        "\n",
        "![Sample Recommendations](images\\item-recommendations.png)\n",
        "\n",
        "**TIP:** The items returned by your IR service maybe different than what's shown.  You can proceed using the example actions setup in the next step to see the functionality of calling to Personalizer.    If you would like to use your recommendations instead, edit the ids and features data to match the results from your service.  You can explore other categories and features as well, these mimic what we've been using in our examples that Personalizer has \"learned\" already, but of course it can learn new features too.\n",
        " "
      ]
    },
    {
      "cell_type": "code",
      "execution_count": 79,
      "metadata": {
        "gather": {
          "logged": 1675383124878
        },
        "jupyter": {
          "outputs_hidden": false,
          "source_hidden": false
        },
        "nteract": {
          "transient": {
            "deleting": false
          }
        }
      },
      "outputs": [],
      "source": [
        "def get_actions():\n",
        "    action1 = RankableAction(id='house keeping products', features=[{\"type\":\"none\", \"texture\":\"none\", \"flavor\":\"none\"}])\n",
        "    action2 = RankableAction(id='ice cream', features=[{\"type\":\"cold\", \"texture\":\"soft\", \"flavor\":\"sweet\"}])\n",
        "    action3 = RankableAction(id='other vegetables', features=[{\"type\":\"hot\", \"texture\":\"soft\", \"flavor\":\"savory\"}])\n",
        "    action4 = RankableAction(id='sausage', features=[{\"type\":\"hot\", \"texture\":\"soft\", \"flavor\":\"savory\"}])\n",
        "\n",
        "    return [action1, action2, action3, action4]"
      ]
    },
    {
      "cell_type": "markdown",
      "metadata": {
        "nteract": {
          "transient": {
            "deleting": false
          }
        }
      },
      "source": [
        "## Function: Get Context\n",
        "\n",
        "This function will be used to simulate the context for our example.\n",
        "\n",
        "Context is information about the user or environment that might impact what recommendation applies at the moment we make a suggestion.  Examples relevant to our grocery scenario could include the time of day, season of year, if it's a holiday or weekend, if the customer is gluten-free, etc.\n",
        "\n",
        "If your application is a website or mobile app you might lookup the weather or time of day based on a user's location, or access a loyalty application to lookup your customer's known preferences (like organic, gluten-free, etc.), or interactively ask the user a question within the session.\n",
        "\n",
        "For our use case, we are going to randomly select the \"Weather\" and the \"Flavor\" desired for Alice at the time she is doing her grocery shopping."
      ]
    },
    {
      "cell_type": "code",
      "execution_count": 80,
      "metadata": {
        "gather": {
          "logged": 1675383125422
        },
        "jupyter": {
          "outputs_hidden": false,
          "source_hidden": false
        },
        "nteract": {
          "transient": {
            "deleting": false
          }
        }
      },
      "outputs": [],
      "source": [
        "def get_context(customer):\n",
        "\n",
        "    weatheropt = ['Sunny', 'Rainy', 'Snowy']\n",
        "    weather = weatheropt[random.randint(0,2)]  # we have 3 weather options to randomly pick from\n",
        "\n",
        "    flavoropt = ['Salty', 'Sweet', 'Plain']\n",
        "    flavor = flavoropt[random.randint(0,2)]  # we have 3 flavor options to randomly pick from\n",
        "\n",
        "    return [{'weather': weather, 'flavor': flavor, 'name': customer}]\n",
        "\n"
      ]
    },
    {
      "cell_type": "markdown",
      "metadata": {
        "nteract": {
          "transient": {
            "deleting": false
          }
        }
      },
      "source": [
        "## Function: Get Ranked Suggestion\n",
        "\n",
        "Once we have our context/preferences and actiosn available, we request a ranking from personalizer.\n",
        "\n",
        "**NOTE:** In our example, we are focused more on food items, so we make an adjustment to the call to Personalizer to ignore the action related to housekeeping products.  This could be handled several ways - you could just exclude this item when setting up the actions, or leverage filtering or categories in the recommendations within IR. "
      ]
    },
    {
      "cell_type": "code",
      "execution_count": 81,
      "metadata": {
        "gather": {
          "logged": 1675383125799
        },
        "jupyter": {
          "outputs_hidden": false,
          "source_hidden": false
        },
        "nteract": {
          "transient": {
            "deleting": false
          }
        }
      },
      "outputs": [],
      "source": [
        "def get_ranked_suggestion(customer):\n",
        "    #create a unique id we will use to track each time we make a call to Rank (this can be used to then return \"reward\" results)\n",
        "    eventid = str(uuid.uuid4())\n",
        "\n",
        "    #prepare our actions\n",
        "    actions = get_actions()\n",
        "\n",
        "    # get our context\n",
        "    context = get_context(customer)\n",
        "\n",
        "    rank_request = RankRequest( actions=actions, context_features=context, excluded_actions=['house keeping products'], event_id=eventid)\n",
        "\n",
        "    response = client.rank(rank_request=rank_request)\n",
        "\n",
        "    print(\"Personalizer service ranked the actions with the probabilities listed below:\")\n",
        "\n",
        "    rankedList = response.ranking\n",
        "    for ranked in rankedList:\n",
        "        print(ranked.id, ':',ranked.probability)\n",
        "\n",
        "    return eventid, context, response.reward_action_id\n"
      ]
    },
    {
      "cell_type": "markdown",
      "metadata": {
        "nteract": {
          "transient": {
            "deleting": false
          }
        }
      },
      "source": [
        "# Get Suggestion"
      ]
    },
    {
      "cell_type": "markdown",
      "metadata": {
        "nteract": {
          "transient": {
            "deleting": false
          }
        }
      },
      "source": [
        "We are using a set of pre-defined customer choices to verify our results; this could be built based on historical buying history.  Ours is a short history, so not many matches possible."
      ]
    },
    {
      "cell_type": "code",
      "execution_count": 82,
      "metadata": {
        "gather": {
          "logged": 1675383126102
        },
        "jupyter": {
          "outputs_hidden": false,
          "source_hidden": false
        },
        "nteract": {
          "transient": {
            "deleting": false
          }
        }
      },
      "outputs": [],
      "source": [
        "# load user context (our eaters' preferences)\n",
        "users = \"data/eaters.json\"\n",
        "with open(users) as handle:\n",
        "    userpref = json.loads(handle.read())\n",
        "\n",
        "custprefs = userpref[customer]\n"
      ]
    },
    {
      "cell_type": "markdown",
      "metadata": {
        "nteract": {
          "transient": {
            "deleting": false
          }
        }
      },
      "source": [
        "Based on what we know about our user, you can determine how well the suggestion performed.  "
      ]
    },
    {
      "cell_type": "code",
      "execution_count": 83,
      "metadata": {
        "gather": {
          "logged": 1675383127232
        },
        "jupyter": {
          "outputs_hidden": false,
          "source_hidden": false
        },
        "nteract": {
          "transient": {
            "deleting": false
          }
        }
      },
      "outputs": [
        {
          "name": "stdout",
          "output_type": "stream",
          "text": [
            "Personalizer service ranked the actions with the probabilities listed below:\n",
            "house keeping products : 0.0\n",
            "other vegetables : 0.46666667\n",
            "sausage : 0.46666667\n",
            "ice cream : 0.06666667\n",
            "It is Snowy and Alice wants something Salty, cocoa drinks would be the best choice\n",
            "Personalizer suggests other vegetables.\n"
          ]
        }
      ],
      "source": [
        "# get the suggestion from personalizer\n",
        "rank_event_id, user_context, suggestion = get_ranked_suggestion(customer)\n",
        "\n",
        "# get the context values and the associated customer pick\n",
        "weather = user_context[0]['weather']\n",
        "flavor = user_context[0]['flavor']\n",
        "customer_pick = custprefs[weather][flavor]\n",
        "\n",
        "\n",
        "# to check for the obvious one!\n",
        "# weather = 'Sunny'\n",
        "# flavor = 'Sweet'\n",
        "# customer_pick = custprefs[weather][flavor]\n",
        "\n",
        "print('It is {} and {} wants something {}, {} would be the best choice'.format(weather, customer, flavor, customer_pick))\n",
        "print('Personalizer suggests {}.'.format(suggestion))\n"
      ]
    },
    {
      "cell_type": "markdown",
      "metadata": {
        "nteract": {
          "transient": {
            "deleting": false
          }
        }
      },
      "source": [
        "Generally, if it's a sunny day and Alice wants something sweet it will pick \"ice cream\", which is a good choice.  \n",
        "\n",
        "Based on the limited data we have, other options will likely not make sense.  In a real-world scenario, additional learning cycles with the recommendations would better tune the suggestions.  This could be accomplished by running simulations (see Notebook 03_Personalizer.ipynb) or allowing Personalizer to learn with live interactions - see [Apprentice Mode](https://docs.microsoft.com/en-us/azure/cognitive-services/personalizer/concept-apprentice-mode) for more information.\n",
        "\n",
        "Keep in mind that sometimes Personalizer will choose to explore and NOT suggest the option with the highest probability returned.  This is a configurable setting, but is important for Personalizer to evolve as user behavior changes in time.  See the documentation for more information on [exploration and exploitation](https://docs.microsoft.com/en-us/azure/cognitive-services/personalizer/concepts-exploration)."
      ]
    },
    {
      "cell_type": "markdown",
      "metadata": {
        "nteract": {
          "transient": {
            "deleting": false
          }
        }
      },
      "source": [
        "# (Optional) Call Reward API\n",
        "\n",
        "The other part of the learning cycle is to send the results back to Personalizer, indicating the Reward.   In the 03_Personalizer notebook we did this in an iterative cycle to simulate many users.  The code below is similar, just shown here for completeness.    \n",
        "\n",
        "If the pick seems like a good one, we send a Reward score of 1, and if it's not good we will send a 0."
      ]
    },
    {
      "cell_type": "code",
      "execution_count": 84,
      "metadata": {
        "gather": {
          "logged": 1675383127461
        },
        "jupyter": {
          "outputs_hidden": false,
          "source_hidden": false
        },
        "nteract": {
          "transient": {
            "deleting": false
          }
        }
      },
      "outputs": [
        {
          "name": "stdout",
          "output_type": "stream",
          "text": [
            "Reward Score: 0.0\n"
          ]
        }
      ],
      "source": [
        "reward_score = '0.0'\n",
        "if (customer_pick == suggestion):\n",
        "    reward_score = '1.0'\n",
        "\n",
        "print(\"Reward Score: {}\".format(reward_score))\n",
        "\n",
        "client.events.reward(event_id=rank_event_id, value=reward_score)\n"
      ]
    },
    {
      "cell_type": "code",
      "execution_count": null,
      "metadata": {
        "jupyter": {
          "outputs_hidden": false,
          "source_hidden": false
        },
        "nteract": {
          "transient": {
            "deleting": false
          }
        }
      },
      "outputs": [],
      "source": []
    }
  ],
  "metadata": {
    "kernel_info": {
      "name": "python3"
    },
    "kernelspec": {
      "display_name": "Python 3 (ipykernel)",
      "language": "python",
      "name": "python3"
    },
    "language_info": {
      "codemirror_mode": {
        "name": "ipython",
        "version": 3
      },
      "file_extension": ".py",
      "mimetype": "text/x-python",
      "name": "python",
      "nbconvert_exporter": "python",
      "pygments_lexer": "ipython3",
      "version": "3.8.5"
    },
    "microsoft": {
      "host": {
        "AzureML": {
          "notebookHasBeenCompleted": true
        }
      }
    },
    "nteract": {
      "version": "nteract-front-end@1.0.0"
    },
    "vscode": {
      "interpreter": {
        "hash": "c66f43a6d87ed226baf1e378496c1a070c0ab9606db09b3bb9ba9b8ee746eaa3"
      }
    }
  },
  "nbformat": 4,
  "nbformat_minor": 0
}
